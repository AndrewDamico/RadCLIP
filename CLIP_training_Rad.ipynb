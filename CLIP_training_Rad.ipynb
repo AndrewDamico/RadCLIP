{
 "cells": [
  {
   "cell_type": "code",
   "execution_count": 1,
   "metadata": {
    "ExecuteTime": {
     "end_time": "2023-05-12T21:44:20.449719Z",
     "start_time": "2023-05-12T21:44:19.291539Z"
    },
    "colab": {
     "base_uri": "https://localhost:8080/"
    },
    "id": "yo2jRFgiXZPZ",
    "outputId": "d5670b45-2024-4814-f7bd-88d651ac8781",
    "tags": []
   },
   "outputs": [
    {
     "name": "stdout",
     "output_type": "stream",
     "text": [
      "Sat May 13 20:45:23 2023       \n",
      "+---------------------------------------------------------------------------------------+\n",
      "| NVIDIA-SMI 530.30.02              Driver Version: 530.30.02    CUDA Version: 12.1     |\n",
      "|-----------------------------------------+----------------------+----------------------+\n",
      "| GPU  Name                  Persistence-M| Bus-Id        Disp.A | Volatile Uncorr. ECC |\n",
      "| Fan  Temp  Perf            Pwr:Usage/Cap|         Memory-Usage | GPU-Util  Compute M. |\n",
      "|                                         |                      |               MIG M. |\n",
      "|=========================================+======================+======================|\n",
      "|   0  NVIDIA GeForce RTX 3070 Ti      On | 00000000:01:00.0 Off |                  N/A |\n",
      "|  0%   34C    P3               45W / 310W|    848MiB /  8192MiB |      0%      Default |\n",
      "|                                         |                      |                  N/A |\n",
      "+-----------------------------------------+----------------------+----------------------+\n",
      "                                                                                         \n",
      "+---------------------------------------------------------------------------------------+\n",
      "| Processes:                                                                            |\n",
      "|  GPU   GI   CI        PID   Type   Process name                            GPU Memory |\n",
      "|        ID   ID                                                             Usage      |\n",
      "|=======================================================================================|\n",
      "|    0   N/A  N/A      1796      G   /usr/lib/xorg/Xorg                          368MiB |\n",
      "|    0   N/A  N/A      2084      G   /usr/bin/gnome-shell                        122MiB |\n",
      "|    0   N/A  N/A      4712      G   ...irefox/2667/usr/lib/firefox/firefox      274MiB |\n",
      "|    0   N/A  N/A      6755      G   ...30751062,7771493279003376012,262144       78MiB |\n",
      "+---------------------------------------------------------------------------------------+\n"
     ]
    }
   ],
   "source": [
    "!nvidia-smi"
   ]
  },
  {
   "cell_type": "code",
   "execution_count": 1,
   "metadata": {
    "ExecuteTime": {
     "end_time": "2023-05-12T21:44:25.084749Z",
     "start_time": "2023-05-12T21:44:20.423600Z"
    },
    "id": "IFuGg4I_FeOY"
   },
   "outputs": [
    {
     "name": "stderr",
     "output_type": "stream",
     "text": [
      "2023-05-15 01:03:15.354582: I tensorflow/core/platform/cpu_feature_guard.cc:193] This TensorFlow binary is optimized with oneAPI Deep Neural Network Library (oneDNN) to use the following CPU instructions in performance-critical operations:  SSE4.1 SSE4.2 AVX AVX2 FMA\n",
      "To enable them in other operations, rebuild TensorFlow with the appropriate compiler flags.\n"
     ]
    }
   ],
   "source": [
    "import os\n",
    "\n",
    "###\n",
    "import numpy as np\n",
    "import pandas as pd\n",
    "import matplotlib.pyplot as plt\n",
    "###\n",
    "from tqdm import tqdm\n",
    "from sklearn.model_selection import train_test_split\n",
    "#\n",
    "from PIL import Image\n",
    "#\n",
    "import torch\n",
    "from torch.utils.data import DataLoader\n",
    "import torchvision.transforms as transforms\n",
    "\n",
    "from torch import nn\n",
    "###\n",
    "from transformers import CLIPModel, CLIPConfig, CLIPVisionModel\n",
    "#from transformers import AutoModel, AutoTokenizer\n",
    "#from transformers import TrainingArguments, Trainer\n",
    "from transformers import default_data_collator"
   ]
  },
  {
   "cell_type": "markdown",
   "metadata": {},
   "source": [
    "# Dataset"
   ]
  },
  {
   "cell_type": "raw",
   "metadata": {},
   "source": [
    "import re\n",
    "from nltk.tokenize import sent_tokenize"
   ]
  },
  {
   "cell_type": "raw",
   "metadata": {},
   "source": [
    "### MIMIC Meta Data"
   ]
  },
  {
   "cell_type": "raw",
   "metadata": {},
   "source": [
    "folder = \"/media/andrew/HD-GDU3/498/\"\n",
    "meta_data = \"cleaned_single_image_only_relevant_headings_metadata.csv\"\n",
    "md_location = folder + meta_data\n",
    "meta_reports = pd.read_csv(md_location)\n",
    "sample = meta_reports.head()\n",
    "sample"
   ]
  },
  {
   "cell_type": "raw",
   "metadata": {},
   "source": [
    "categories = [\n",
    "     'Atelectasis',\n",
    "     'Cardiomegaly',\n",
    "     'Consolidation',\n",
    "     'Edema',\n",
    "     'Enlarged Cardiomediastinum',\n",
    "     'Fracture',\n",
    "     'Lung Lesion',\n",
    "     'Lung Opacity',\n",
    "     'No Finding',\n",
    "     'Pleural Effusion',\n",
    "     'Pleural Other',\n",
    "     'Pneumonia',\n",
    "     'Pneumothorax',\n",
    "     'Support Devices',\n",
    "     'Atelectasis_cx',\n",
    "     'Cardiomegaly_cx',\n",
    "     'Consolidation_cx',\n",
    "     'Edema_cx',\n",
    "     'Enlarged Cardiomediastinum_cx',\n",
    "     'Fracture_cx',\n",
    "     'Lung Lesion_cx',\n",
    "     'Lung Opacity_cx',\n",
    "     'No Finding_cx',\n",
    "     'Pleural Effusion_cx',\n",
    "     'Pleural Other_cx',\n",
    "     'Pneumonia_cx',\n",
    "     'Pneumothorax_cx',\n",
    "     'Support Devices_cx'\n",
    "]"
   ]
  },
  {
   "cell_type": "raw",
   "metadata": {},
   "source": [
    "medical_terms = [\n",
    "     'Atelectasis': 'Atelectasis',\n",
    "     'Cardiomegaly': 'Cardiomegaly',\n",
    "     'Consolidation': 'Consolidation',\n",
    "     'Edema':'Edema',\n",
    "     'Enlarged Cardiomediastinum': 'Enlarged Cardiomediastinum',\n",
    "     'Fracture',\n",
    "     'Lung Lesion',\n",
    "     'Lung Opacity',\n",
    "     'No Finding',\n",
    "     'Pleural Effusion',\n",
    "     'Pleural Other',\n",
    "     'Pneumonia',\n",
    "     'Pneumothorax',\n",
    "     'Support Devices',\n",
    "     'Atelectasis_cx',\n",
    "     'Cardiomegaly_cx',\n",
    "     'Consolidation_cx',\n",
    "     'Edema_cx',\n",
    "     'Enlarged Cardiomediastinum_cx',\n",
    "     'Fracture_cx',\n",
    "     'Lung Lesion_cx',\n",
    "     'Lung Opacity_cx',\n",
    "     'No Finding_cx',\n",
    "     'Pleural Effusion_cx',\n",
    "     'Pleural Other_cx',\n",
    "     'Pneumonia_cx',\n",
    "     'Pneumothorax_cx',\n",
    "     'Support Devices_cx'\n",
    "]"
   ]
  },
  {
   "cell_type": "raw",
   "metadata": {},
   "source": [
    "for observation in range(0,len(sample)):\n",
    "    container = []\n",
    "    for cat in categories:\n",
    "        if np.isnan(sample[cat][observation]) or sample[cat][observation] < 0:\n",
    "            pass\n",
    "        elif sample[cat][observation] > 0:\n",
    "            container.append(cat)\n",
    "        elif sample[cat][observation] == 0:\n",
    "            container.append(f'Not {cat}')\n",
    "    print (container)\n",
    "    print (\"-----\")\n",
    "        "
   ]
  },
  {
   "cell_type": "raw",
   "metadata": {
    "tags": []
   },
   "source": [
    "list(meta_reports)"
   ]
  },
  {
   "cell_type": "raw",
   "metadata": {
    "tags": []
   },
   "source": [
    "## Mimic Reports"
   ]
  },
  {
   "cell_type": "raw",
   "metadata": {
    "ExecuteTime": {
     "end_time": "2023-05-12T21:44:27.093924Z",
     "start_time": "2023-05-12T21:44:27.066982Z"
    }
   },
   "source": [
    "folder = \"/media/andrew/HD-GDU3/498/\"\n",
    "medical_reports = \"cleaned_single_image_only_relevant_headings2.csv\"\n",
    "#dataset = \"output.csv\"\n",
    "location = folder + medical_reports"
   ]
  },
  {
   "cell_type": "raw",
   "metadata": {
    "ExecuteTime": {
     "end_time": "2023-05-12T21:44:29.370461Z",
     "start_time": "2023-05-12T21:44:28.047840Z"
    }
   },
   "source": [
    "reports = pd.read_csv(location)\n",
    "reports"
   ]
  },
  {
   "cell_type": "raw",
   "metadata": {
    "ExecuteTime": {
     "end_time": "2023-05-12T21:44:34.300245Z",
     "start_time": "2023-05-12T21:44:34.269044Z"
    }
   },
   "source": [
    "## Impression, Finding, and WetRead are what we are looking for.\n",
    "## Create Sentence Vectors for each of the sections, stripping out times."
   ]
  },
  {
   "cell_type": "raw",
   "metadata": {},
   "source": [
    "headings = ['FINDINGS:', 'IMPRESSION:', 'WET READ:']"
   ]
  },
  {
   "cell_type": "raw",
   "metadata": {
    "ExecuteTime": {
     "end_time": "2023-05-12T21:52:10.301544Z",
     "start_time": "2023-05-12T21:52:10.270903Z"
    }
   },
   "source": [
    "def preptext(x, db, feature, exclude):\n",
    "    text = db[feature][x]\n",
    "    for k in exclude:\n",
    "        m = text.replace(k, '')\n",
    "    m = m.replace(\"AM \", '')\n",
    "    m = m.replace(\"PM \", '')\n",
    "    m = re.sub(r'\\b[A-Z]+: ', '', m)\n",
    "    m = re.sub(r'\\d+.', '', m).strip().lower()\n",
    "    m = re.sub(' +', ' ', m)\n",
    "    \n",
    "    return (m)"
   ]
  },
  {
   "cell_type": "raw",
   "metadata": {},
   "source": [
    "def create_vectors(x, db = sample, headings = headings):\n",
    "    i = 0\n",
    "    state = [0,0,0]\n",
    "    for feature in headings:\n",
    "        if isinstance(db[feature][x], str):\n",
    "            state[i] = 1\n",
    "            print (sent_tokenize(preptext(x, db = db, feature = feature, exclude = headings)))\n",
    "        i += 1\n",
    "    \n",
    "    return (state)"
   ]
  },
  {
   "cell_type": "raw",
   "metadata": {},
   "source": [
    "def combine_texts(observation, db, headings=headings, as_sentences = False):\n",
    "    i = 0\n",
    "    output = []\n",
    "    state = [False, False, False]\n",
    "    for feature in headings:\n",
    "        if isinstance(db[feature][observation], str):\n",
    "            state[i] = True\n",
    "        i += 1\n",
    "    \n",
    "    if state[0] and state[1]: \n",
    "        for feature in ['FINDINGS:', 'IMPRESSION:']:\n",
    "            output = output + sent_tokenize(preptext(observation, db = db, feature = feature, exclude = headings))\n",
    "    else:\n",
    "        for feature in headings:\n",
    "            if isinstance(db[feature][observation], str):\n",
    "                output = output + sent_tokenize(preptext(observation, db = db, feature = feature, exclude = headings))\n",
    "    \n",
    "    if not as_sentences:\n",
    "        output = ' '.join(output)\n",
    "        \n",
    "    return output"
   ]
  },
  {
   "cell_type": "raw",
   "metadata": {
    "tags": []
   },
   "source": [
    "combine_texts(268, db=reports, as_sentences=False)"
   ]
  },
  {
   "cell_type": "raw",
   "metadata": {},
   "source": [
    "## Create Training Set"
   ]
  },
  {
   "cell_type": "raw",
   "metadata": {},
   "source": [
    "# Load Image Set"
   ]
  },
  {
   "cell_type": "raw",
   "metadata": {},
   "source": [
    "def build_set(csv, subfolder, head=False, base_folder=\"/media/andrew/HD-GDU3/498/\"):\n",
    "    folder = base_folder + subfolder\n",
    "    dataset = csv\n",
    "    location = folder + dataset\n",
    "    db = pd.read_csv(location)\n",
    "    \n",
    "    if head == True:\n",
    "        db = db.head()\n",
    "    \n",
    "    return db"
   ]
  },
  {
   "cell_type": "raw",
   "metadata": {},
   "source": [
    "def gen_name(observation, db):\n",
    "    subject_id = db['subject_id'][observation]\n",
    "    study_id = db['study_id'][observation]\n",
    "    dicom_id = db['dicom_id'][observation]\n",
    "    new_name = f'{subject_id}_{study_id}_{dicom_id}.jpg'\n",
    "    \n",
    "    return new_name"
   ]
  },
  {
   "cell_type": "raw",
   "metadata": {
    "ExecuteTime": {
     "end_time": "2023-05-11T14:57:11.403334Z",
     "start_time": "2023-05-11T14:57:11.378854Z"
    }
   },
   "source": [
    "def create_record(location, image, caption):\n",
    "    record = pd.DataFrame({\n",
    "        'caption':caption, \n",
    "        'image':location+image\n",
    "        }, index=[0])\n",
    "    return record"
   ]
  },
  {
   "cell_type": "raw",
   "metadata": {},
   "source": [
    "def create_image_text_pairs(image_db, text_db, image_location, by_sentence=False, debug=False):\n",
    "    \n",
    "    container  = pd.DataFrame(columns=['caption','image'])\n",
    "    images = image_db\n",
    "    texts = text_db\n",
    "    \n",
    "    for observation in range(0, len(images.study_id)):\n",
    "        if by_sentence:\n",
    "            current_study_id = texts['study_id'][observation]\n",
    "            if debug: print (current_study_id)\n",
    "            try:\n",
    "                statements = len(combine_texts(texts.loc[texts['study_id'] == images['study_id'][observation]].index[0], db=texts, as_sentences=by_sentence))\n",
    "            except:\n",
    "                if debug: print (f'Text not found for image {current_study_id}')\n",
    "            if debug: print (statements)\n",
    "            for i in range(0, statements):\n",
    "                try:\n",
    "                    record = create_record(\n",
    "                        location = image_location,\n",
    "                        caption = combine_texts(texts.loc[texts['study_id'] == images['study_id'][observation]].index[0], db=texts, as_sentences=by_sentence)[i],\n",
    "                        image =  str(gen_name(observation, db = images))\n",
    "                    )\n",
    "                    container = pd.concat([container, record],ignore_index=True)\n",
    "                    if debug: print ('Record Added')\n",
    "                except:\n",
    "                    pass\n",
    "        else:\n",
    "            try:\n",
    "                record = create_record(\n",
    "                    location = image_location,\n",
    "                    caption = combine_texts(texts.loc[texts['study_id'] == images['study_id'][observation]].index[0], db=texts, as_sentences=by_sentence),\n",
    "                    image =  str(gen_name(observation, db = images))\n",
    "                )\n",
    "                container = pd.concat([container, record],ignore_index=True)\n",
    "                if debug: print ('Record Added')\n",
    "            except:\n",
    "                pass\n",
    "        if debug: print ('---------')\n",
    "    return container"
   ]
  },
  {
   "cell_type": "raw",
   "metadata": {},
   "source": [
    "## Create Training and Validation Set"
   ]
  },
  {
   "cell_type": "raw",
   "metadata": {
    "tags": []
   },
   "source": [
    "training = create_image_text_pairs(\n",
    "    image_db = build_set(csv='train.csv', subfolder='train/', head=False),\n",
    "    text_db = reports,\n",
    "    image_location = folder + 'train/train_resized/resized/',\n",
    "    by_sentence = True\n",
    "    )\n",
    "training.dropna().to_csv('training.csv', index=False)\n",
    "training"
   ]
  },
  {
   "cell_type": "raw",
   "metadata": {},
   "source": [
    "total  = len(training)\n",
    "print (f'Training: {len(training)} {len(training)/total}')\n",
    "print (\"Max size\",len(training['caption'].max()))"
   ]
  },
  {
   "cell_type": "raw",
   "metadata": {},
   "source": [
    "training = create_image_text_pairs(\n",
    "    image_db = build_set(csv='train.csv', subfolder='train/', head=False),\n",
    "    text_db = reports,\n",
    "    image_location = folder + 'train/train_resized/resized/'\n",
    "    )\n",
    "training.dropna().to_csv('training.csv', index=False)\n",
    "training"
   ]
  },
  {
   "cell_type": "raw",
   "metadata": {},
   "source": [
    "validation = create_image_text_pairs(\n",
    "    image_db = build_set(csv='validation.csv', subfolder='validation/', head=False),\n",
    "    text_db = reports,\n",
    "    image_location = folder + 'validation/validation_resized/validation/'\n",
    "    )\n",
    "validation.dropna().to_csv('validation.csv', index=False)\n",
    "validation"
   ]
  },
  {
   "cell_type": "raw",
   "metadata": {},
   "source": [
    "## Create Test Set"
   ]
  },
  {
   "cell_type": "raw",
   "metadata": {},
   "source": [
    "test = create_image_text_pairs(\n",
    "    image_db = build_set(csv='test.csv', subfolder='test/', head=False),\n",
    "    text_db = reports,\n",
    "    image_location = folder + 'test/test_resized/resized/'\n",
    "    )\n",
    "test.dropna().to_csv('test.csv', index=False)\n",
    "test"
   ]
  },
  {
   "cell_type": "raw",
   "metadata": {},
   "source": [
    "total  = len(training) + len(validation) + len(test)\n",
    "print (f'Training: {len(training)} {len(training)/total}')\n",
    "print (f'Validation: {len(validation)} {len(validation)/total}')\n",
    "print (f'Test: {len(test)} {len(test)/total}')"
   ]
  },
  {
   "cell_type": "raw",
   "metadata": {},
   "source": [
    "test['image'][254]"
   ]
  },
  {
   "cell_type": "markdown",
   "metadata": {},
   "source": [
    "# Tensorboard"
   ]
  },
  {
   "cell_type": "code",
   "execution_count": 5,
   "metadata": {},
   "outputs": [],
   "source": [
    "import torch\n",
    "from torch.utils.tensorboard import SummaryWriter\n",
    "writer = SummaryWriter()"
   ]
  },
  {
   "cell_type": "markdown",
   "metadata": {
    "id": "NDmLcJ80I4OF"
   },
   "source": [
    "# Training"
   ]
  },
  {
   "cell_type": "code",
   "execution_count": 6,
   "metadata": {
    "ExecuteTime": {
     "end_time": "2023-05-11T14:57:22.171872Z",
     "start_time": "2023-05-11T14:57:22.134223Z"
    }
   },
   "outputs": [],
   "source": [
    "from transformers import TrainingArguments, AutoTokenizer, CLIPFeatureExtractor"
   ]
  },
  {
   "cell_type": "code",
   "execution_count": 7,
   "metadata": {
    "ExecuteTime": {
     "end_time": "2023-05-11T14:57:23.976214Z",
     "start_time": "2023-05-11T14:57:23.946313Z"
    }
   },
   "outputs": [],
   "source": [
    "#TEXT_MODEL = 'm3hrdadfi/roberta-zwnj-wnli-mean-tokens'\n",
    "#TEXT_MODEL = 'bert-base-uncased'\n",
    "#TEXT_MODEL = \"roberta-base\"\n",
    "TEXT_MODEL = \"bert-base-uncased\"\n",
    "TEXT_MODEL = \"emilyalsentzer/Bio_ClinicalBERT\"\n",
    "#TEXT_MODEL = \"openai/clip-vit-base-patch32\"\n",
    "#TEXT_MODEL = \"openai/clip-vit-base-patch16\"\n",
    "#IMAGE_MODEL = \"openai/clip-vit-large-patch14\"\n",
    "IMAGE_MODEL = 'openai/clip-vit-base-patch32'"
   ]
  },
  {
   "cell_type": "code",
   "execution_count": 8,
   "metadata": {
    "ExecuteTime": {
     "end_time": "2023-05-11T14:57:24.955698Z",
     "start_time": "2023-05-11T14:57:24.929279Z"
    }
   },
   "outputs": [],
   "source": [
    "BATCH_SIZE = 16\n",
    "IMAGE_SIZE = 224\n",
    "MAX_LEN = 80\n",
    "MEAN = torch.tensor([0.42695613, 0.42695613, 0.42695613]) #Image Mean\n",
    "STD = torch.tensor([0.31928246, 0.31928246, 0.31928246]) #Image STD"
   ]
  },
  {
   "cell_type": "code",
   "execution_count": 9,
   "metadata": {
    "ExecuteTime": {
     "end_time": "2023-05-11T14:57:26.049111Z",
     "start_time": "2023-05-11T14:57:26.022900Z"
    }
   },
   "outputs": [],
   "source": [
    "from transformers import CLIPFeatureExtractor"
   ]
  },
  {
   "cell_type": "code",
   "execution_count": 10,
   "metadata": {
    "ExecuteTime": {
     "end_time": "2023-05-11T14:57:27.407242Z",
     "start_time": "2023-05-11T14:57:27.294194Z"
    }
   },
   "outputs": [],
   "source": [
    "vision_preprocessor = CLIPFeatureExtractor.from_pretrained(IMAGE_MODEL)"
   ]
  },
  {
   "cell_type": "code",
   "execution_count": 11,
   "metadata": {
    "ExecuteTime": {
     "end_time": "2023-05-11T15:03:39.863579Z",
     "start_time": "2023-05-11T15:03:39.726123Z"
    },
    "collapsed": false,
    "jupyter": {
     "outputs_hidden": false
    }
   },
   "outputs": [],
   "source": [
    "from transformers import CLIPTokenizer\n",
    "tokenizer = AutoTokenizer.from_pretrained(TEXT_MODEL)\n",
    "#tokenizer = CLIPTokenizer.from_pretrained(\"openai/clip-vit-base-patch32\")"
   ]
  },
  {
   "cell_type": "code",
   "execution_count": 12,
   "metadata": {
    "ExecuteTime": {
     "end_time": "2023-05-11T15:03:40.854426Z",
     "start_time": "2023-05-11T15:03:40.834516Z"
    }
   },
   "outputs": [],
   "source": [
    "from clip_classes import CLIPDataset"
   ]
  },
  {
   "cell_type": "code",
   "execution_count": 13,
   "metadata": {
    "ExecuteTime": {
     "end_time": "2023-05-11T15:05:32.550855Z",
     "start_time": "2023-05-11T15:05:32.449738Z"
    },
    "colab": {
     "base_uri": "https://localhost:8080/",
     "height": 241,
     "referenced_widgets": [
      "ba0c42f10d6c4391820e948f5b4653ed",
      "da34f9a77c684eb0b06c1a8acf719c7d",
      "836037b9c6ff43b4b89e9f4db8a6943d",
      "28566d1d4ae8473bbbcaa75074e9ccd9",
      "43873009a1974298b2fe236378c60416",
      "44fe6bab2ae04a7ca5cc4ef057960c9c",
      "d3febbc11cf74aaba4c1f8d78323322f",
      "4ee3a26a373c4233b26b346f2256b290",
      "b7046d2d97844662a59d2c4a40044b50",
      "9d94ab6216144cc4a91ecb5417f94c6a",
      "c3a881567cdd41e8a66155e5e34413eb",
      "e00110afb8264979a39be71b8698a01c",
      "fa9d18d61508470fae113dbb42a03ba3",
      "8ee242c5733b47fca288a99dc7ac2fbd",
      "82162c6cb2cb4a0cb5cc4dfd6fc6bdfa",
      "a7097f3fb01e4635be3eb4a53462849e",
      "04df1557da5a4b339274a95e375146d4",
      "994f7b879e244da49bf69fcec812bc28",
      "9b4b385a22dc468b9e585d5d200f1df7",
      "242f7a71c6094a5990ed8957eff8424c",
      "7138c3dc795649f19b3180a8817675b6",
      "f6be94857a8b4b95b9837bb6b2cee854",
      "ef228e56392e4e879351efb838dfb22d",
      "4d934f392e7745a89e8d0e9161a7e16c",
      "f9fe2ffd5f5544659395c36359e04120",
      "5c89d52a3a7a4955b77dd016e3a819b5",
      "d2bab9d28ea8400597bfb757884e767b",
      "1ea85ebcd0d04f9bb227e34463676219",
      "64fca86034384fab8e27c70b3fbbf5f1",
      "fe6ea62c51904d7aaaf7ea26da1b761d",
      "c2cd3599f56e49f8998d7b2b66247f81",
      "116b6e522b2b49e28a49c0d3d2f89872",
      "5ebae2006b8e4a0692936d0195d1432e",
      "36b51a8200ca48688e8ac8181ee7dbff",
      "304395706f5b4ed39d7f22595a4a789f",
      "1ecf04063ebc4699b86da8223b968a36",
      "d1d659b2473b417c9cf85fa4ed931c0b",
      "5206082e79ee48c08213481beb104e4d",
      "beb92264d4f64bb29fd08d07554a23e7",
      "3546aaa44a0948b0b1b1fa79cb47e565",
      "0112f6d5ad4e404dab7b2494b7a73b5f",
      "a1c2448cd5234427ad99cc52b3f8c9de",
      "6db6e6d60b4a4148926fa766f84bbbc0",
      "e8bb558c17e34bb5bd07a3536a19a30a",
      "1405c34524b04bcbadf7de8e17f79000",
      "e42357491bcc4a6abbad089265f0403f",
      "8c99ced0a75343098c23bcf73c4b0299",
      "3c693a65d1c3495b97f4d262c667e1a3",
      "e62b541bd0aa4759902b695ca20f4c34",
      "59251c2ec99246e78ca920127e86c44c",
      "77800c72192740a2896c9badfd94a85a",
      "17d7bd8064b0482fab802ac80630df96",
      "afae88fc61b440e7b087084715c4dc49",
      "96561e60c2de4919b24292cd9b8ae719",
      "3d1ae69415f14011b4fda423b059a136",
      "a9b452a7bdd94d64b3db91ab1129c9bb",
      "a63d080853d94551a17809fbcb4589e7",
      "1effcb356232431299b709e5e48c7818",
      "6cbffc4febb4489fb50fa0e798499312",
      "15f0ac435fde4f14a5efcefb065c8199",
      "8a23ee23be6940649bbf8904fd15530e",
      "c323d2a42adf4329b8dab0f69b826830",
      "7356e50104c1438fafb1bde28fa8886e",
      "87980d9ba5be4ae3a37b485aa1ad31de",
      "ea986fd2545b49b58c3793c1cde9d853",
      "70c58d0fee424052975e4e69c77891a2",
      "dc347819f9434b8a99dbd017715a924b",
      "f234b5427b804aec8a14285a4df17345",
      "7e2749b350da428791a48bed26281dac",
      "8ff1a7803580436d858ca1e406906175",
      "1f7444dc6bba42a88330ef086ab01c73",
      "4ca356544f4045858d0e43ccef6dce77",
      "f78f443826fc40f9b15485f94dbfbb48",
      "0bfdac4cbcf5432c8c42f5a245273714",
      "11b19b6aec0442129049194aa91f73e3",
      "ddf5a845585b46fdacc0f036b9d81632",
      "300e9e8bff8a42aea1d3555633a5dd3c"
     ]
    },
    "id": "9Lis-gkhGHHd",
    "outputId": "8c0fe1cd-0d10-4f47-cd55-6b8563ec72b6",
    "tags": []
   },
   "outputs": [],
   "source": [
    "args = TrainingArguments(\n",
    "    output_dir=\"/media/andrew/HD-GDU3/498/clip-checkpoints-sentences-custem\",\n",
    "    evaluation_strategy=\"steps\",\n",
    "    save_strategy=\"epoch\",\n",
    "    eval_steps=500,\n",
    "    logging_steps=10,\n",
    "    learning_rate=3e-5,\n",
    "    weight_decay=0.003,\n",
    "    warmup_steps=100,\n",
    "    fp16=False,\n",
    "    prediction_loss_only=True,\n",
    "    gradient_accumulation_steps=2, #1\n",
    "    per_device_train_batch_size=BATCH_SIZE,\n",
    "    per_device_eval_batch_size=BATCH_SIZE,\n",
    "    num_train_epochs=100,\n",
    "    report_to='none'\n",
    ")"
   ]
  },
  {
   "cell_type": "markdown",
   "metadata": {
    "id": "RG6N6wHNFupx"
   },
   "source": [
    "## Utils: some helper functions\n",
    "- https://github.com/sajjjadayobi/CLIPfa/blob/main/clipfa/training/utils.py"
   ]
  },
  {
   "cell_type": "code",
   "execution_count": 14,
   "metadata": {
    "ExecuteTime": {
     "end_time": "2023-05-11T15:05:35.120116Z",
     "start_time": "2023-05-11T15:05:35.109119Z"
    }
   },
   "outputs": [],
   "source": [
    "import helper"
   ]
  },
  {
   "cell_type": "code",
   "execution_count": 15,
   "metadata": {
    "ExecuteTime": {
     "end_time": "2023-05-11T15:05:35.820634Z",
     "start_time": "2023-05-11T15:05:35.752565Z"
    }
   },
   "outputs": [],
   "source": [
    "from clip_functions import clip_wrapper_creator"
   ]
  },
  {
   "cell_type": "markdown",
   "metadata": {
    "id": "b5x03ZyVGvzF"
   },
   "source": [
    "## DataModule: datasets and dataloaders\n",
    "- https://github.com/sajjjadayobi/CLIPfa/blob/main/clipfa/training/data.py"
   ]
  },
  {
   "cell_type": "markdown",
   "metadata": {
    "id": "eb9H4TakHJ-U"
   },
   "source": [
    "## Model: define vision and text encoder\n",
    "https://github.com/sajjjadayobi/CLIPfa/blob/main/clipfa/training/model.py"
   ]
  },
  {
   "cell_type": "code",
   "execution_count": 16,
   "metadata": {
    "ExecuteTime": {
     "end_time": "2023-05-11T15:05:37.817094Z",
     "start_time": "2023-05-11T15:05:37.809452Z"
    }
   },
   "outputs": [],
   "source": [
    "from transformers import CLIPTextModel"
   ]
  },
  {
   "cell_type": "code",
   "execution_count": 17,
   "metadata": {
    "ExecuteTime": {
     "end_time": "2023-05-11T15:05:39.156470Z",
     "start_time": "2023-05-11T15:05:39.123492Z"
    }
   },
   "outputs": [],
   "source": [
    "DATA_FILE = 'training.csv'\n",
    "TEST_SIZE = 0.05"
   ]
  },
  {
   "cell_type": "code",
   "execution_count": 18,
   "metadata": {
    "ExecuteTime": {
     "end_time": "2023-05-11T15:05:39.653126Z",
     "start_time": "2023-05-11T15:05:39.565481Z"
    },
    "collapsed": false,
    "jupyter": {
     "outputs_hidden": false
    }
   },
   "outputs": [],
   "source": [
    "from torch.utils.data import Dataset\n",
    "class CLIPDataset(Dataset):\n",
    "    def __init__(self, image_paths: list, text: list, mode: str = 'train'):\n",
    "        self.image_paths = image_paths\n",
    "        self.tokens = tokenizer(text, padding='max_length',\n",
    "                                max_length=MAX_LEN, truncation=True)\n",
    "\n",
    "        if mode == 'train':\n",
    "            self.augment = transforms.Compose([\n",
    "                #transforms.Resize((IMAGE_SIZE, IMAGE_SIZE)),\n",
    "                #transforms.RandomHorizontalFlip(p=0.5),\n",
    "                transforms.ToTensor(),\n",
    "                transforms.Normalize(mean=MEAN, std=STD)\n",
    "            ])\n",
    "        elif mode == 'test':\n",
    "            self.augment = transforms.Compose([\n",
    "                #transforms.Resize((IMAGE_SIZE, IMAGE_SIZE)),\n",
    "                transforms.ToTensor(),\n",
    "                transforms.Normalize(mean=MEAN, std=STD)\n",
    "            ])\n",
    "\n",
    "    def __getitem__(self, idx):\n",
    "        token = self.tokens[idx]\n",
    "        return {'input_ids': token.ids, 'attention_mask': token.attention_mask,\n",
    "                'pixel_values': self.augment(Image.open(self.image_paths[idx]).convert('RGB'))}\n",
    "\n",
    "    def __len__(self):\n",
    "        return len(self.image_paths)"
   ]
  },
  {
   "cell_type": "code",
   "execution_count": 19,
   "metadata": {
    "ExecuteTime": {
     "end_time": "2023-05-11T15:05:41.743717Z",
     "start_time": "2023-05-11T15:05:41.129941Z"
    },
    "colab": {
     "base_uri": "https://localhost:8080/",
     "height": 345
    },
    "id": "bSC-Ds3MGrsS",
    "outputId": "677e8313-2099-46b0-c91c-10710901cd7f"
   },
   "outputs": [],
   "source": [
    "df = pd.read_csv(DATA_FILE).dropna()\n",
    "#test_df = pd.read_csv('test.csv').dropna()\n",
    "#validate_df = pd.read_csv('validate.csv').dropna()\n",
    "\n",
    "train_df, test_df = train_test_split(df, test_size=TEST_SIZE)\n",
    "train_ds = CLIPDataset(image_paths=train_df.image.tolist(),text=train_df.caption.tolist(), mode='train')\n",
    "test_ds = CLIPDataset(image_paths=test_df.image.tolist(),text=test_df.caption.tolist(), mode='test')\n",
    "train_dl = DataLoader(train_ds, batch_size=BATCH_SIZE,collate_fn=default_data_collator)"
   ]
  },
  {
   "cell_type": "code",
   "execution_count": null,
   "metadata": {
    "ExecuteTime": {
     "end_time": "2023-05-11T15:05:45.095615Z",
     "start_time": "2023-05-11T15:05:45.074430Z"
    },
    "collapsed": false,
    "jupyter": {
     "outputs_hidden": false
    }
   },
   "outputs": [],
   "source": []
  },
  {
   "cell_type": "code",
   "execution_count": 20,
   "metadata": {
    "ExecuteTime": {
     "end_time": "2023-05-11T15:05:45.988060Z",
     "start_time": "2023-05-11T15:05:45.963820Z"
    },
    "collapsed": false,
    "jupyter": {
     "outputs_hidden": false
    }
   },
   "outputs": [],
   "source": [
    "def show_data(batch, idx=0):\n",
    "    # show image\n",
    "    img = batch['pixel_values'][idx].permute(1, 2, 0)\n",
    "    img = STD * img + MEAN\n",
    "    print('Image shape: ', img.shape)\n",
    "    plt.imshow(img)\n",
    "    # show text\n",
    "    text = tokenizer.decode(batch['input_ids'][idx],  skip_special_tokens=True)\n",
    "    print('Text: ', text)"
   ]
  },
  {
   "cell_type": "code",
   "execution_count": 21,
   "metadata": {
    "ExecuteTime": {
     "end_time": "2023-05-11T15:05:47.301079Z",
     "start_time": "2023-05-11T15:05:46.972503Z"
    }
   },
   "outputs": [
    {
     "name": "stdout",
     "output_type": "stream",
     "text": [
      "torch.Size([16, 80])\n",
      "torch.Size([16, 3, 224, 224])\n",
      "Image shape:  torch.Size([224, 224, 3])\n",
      "Text:  bibasilar atelectasis is seen.\n"
     ]
    },
    {
     "data": {
      "image/png": "[encoded data removed]",
      "text/plain": [
       "<Figure size 640x480 with 1 Axes>"
      ]
     },
     "metadata": {},
     "output_type": "display_data"
    }
   ],
   "source": [
    "for item in train_dl:\n",
    "    print(item['input_ids'].shape)\n",
    "    print(item['pixel_values'].shape)\n",
    "    break\n",
    "show_data(item)"
   ]
  },
  {
   "cell_type": "code",
   "execution_count": 22,
   "metadata": {
    "ExecuteTime": {
     "end_time": "2023-05-11T15:05:52.245093Z",
     "start_time": "2023-05-11T15:05:51.110931Z"
    },
    "tags": []
   },
   "outputs": [
    {
     "name": "stderr",
     "output_type": "stream",
     "text": [
      "Some weights of the model checkpoint at openai/clip-vit-base-patch32 were not used when initializing CLIPVisionModel: ['text_model.encoder.layers.1.self_attn.q_proj.bias', 'text_model.encoder.layers.11.self_attn.k_proj.bias', 'text_model.encoder.layers.0.self_attn.k_proj.weight', 'text_model.encoder.layers.8.mlp.fc2.weight', 'text_model.encoder.layers.2.self_attn.v_proj.bias', 'text_model.encoder.layers.2.mlp.fc2.bias', 'text_model.encoder.layers.3.mlp.fc2.bias', 'text_model.encoder.layers.3.self_attn.q_proj.bias', 'text_model.encoder.layers.6.layer_norm2.weight', 'text_model.encoder.layers.10.self_attn.q_proj.bias', 'text_model.encoder.layers.10.self_attn.q_proj.weight', 'text_model.encoder.layers.7.self_attn.out_proj.bias', 'text_model.encoder.layers.8.self_attn.k_proj.bias', 'text_model.encoder.layers.3.self_attn.k_proj.bias', 'text_model.encoder.layers.4.mlp.fc2.weight', 'text_model.encoder.layers.9.self_attn.q_proj.bias', 'text_model.embeddings.position_ids', 'text_model.encoder.layers.5.self_attn.q_proj.bias', 'text_model.encoder.layers.3.mlp.fc2.weight', 'text_model.encoder.layers.9.mlp.fc1.bias', 'text_model.encoder.layers.8.self_attn.out_proj.bias', 'text_model.encoder.layers.7.self_attn.q_proj.weight', 'text_model.encoder.layers.10.layer_norm1.weight', 'text_model.encoder.layers.2.layer_norm2.weight', 'text_model.encoder.layers.8.self_attn.v_proj.bias', 'text_model.encoder.layers.11.mlp.fc2.weight', 'text_model.encoder.layers.7.layer_norm1.weight', 'text_model.encoder.layers.11.mlp.fc2.bias', 'text_model.encoder.layers.3.self_attn.v_proj.weight', 'text_model.encoder.layers.5.layer_norm2.bias', 'text_model.encoder.layers.11.mlp.fc1.bias', 'text_model.encoder.layers.0.mlp.fc1.bias', 'text_model.encoder.layers.0.mlp.fc1.weight', 'text_model.encoder.layers.0.self_attn.v_proj.weight', 'text_model.encoder.layers.5.mlp.fc1.bias', 'text_model.encoder.layers.1.mlp.fc2.weight', 'text_model.encoder.layers.7.layer_norm2.bias', 'text_model.encoder.layers.3.layer_norm1.weight', 'text_model.encoder.layers.1.mlp.fc2.bias', 'text_model.encoder.layers.7.self_attn.k_proj.bias', 'text_model.encoder.layers.5.self_attn.q_proj.weight', 'text_model.encoder.layers.1.self_attn.v_proj.bias', 'text_model.encoder.layers.7.layer_norm2.weight', 'text_model.encoder.layers.7.self_attn.v_proj.weight', 'text_model.encoder.layers.10.self_attn.out_proj.weight', 'text_model.encoder.layers.2.self_attn.k_proj.weight', 'text_model.encoder.layers.3.self_attn.k_proj.weight', 'text_model.encoder.layers.2.mlp.fc1.weight', 'text_model.encoder.layers.5.layer_norm1.weight', 'text_model.encoder.layers.1.mlp.fc1.weight', 'text_model.encoder.layers.1.layer_norm2.weight', 'text_model.encoder.layers.10.self_attn.v_proj.weight', 'text_model.encoder.layers.0.layer_norm2.bias', 'text_model.encoder.layers.4.mlp.fc2.bias', 'text_model.encoder.layers.5.self_attn.k_proj.bias', 'text_model.encoder.layers.10.self_attn.v_proj.bias', 'text_model.encoder.layers.6.mlp.fc1.bias', 'text_model.encoder.layers.4.layer_norm2.bias', 'text_model.encoder.layers.6.self_attn.v_proj.bias', 'text_model.encoder.layers.4.self_attn.q_proj.weight', 'text_model.encoder.layers.5.self_attn.v_proj.weight', 'text_model.encoder.layers.6.self_attn.k_proj.bias', 'text_model.encoder.layers.1.mlp.fc1.bias', 'text_model.encoder.layers.11.self_attn.out_proj.bias', 'text_model.encoder.layers.9.self_attn.out_proj.weight', 'text_model.encoder.layers.4.self_attn.v_proj.weight', 'text_model.encoder.layers.5.layer_norm1.bias', 'text_model.encoder.layers.0.layer_norm2.weight', 'text_model.encoder.layers.8.layer_norm2.weight', 'text_model.encoder.layers.11.self_attn.q_proj.weight', 'text_model.encoder.layers.3.mlp.fc1.bias', 'text_model.encoder.layers.9.layer_norm1.bias', 'text_model.encoder.layers.1.self_attn.out_proj.bias', 'text_model.embeddings.position_embedding.weight', 'text_model.encoder.layers.4.self_attn.k_proj.weight', 'text_model.encoder.layers.3.self_attn.v_proj.bias', 'text_model.encoder.layers.6.mlp.fc2.bias', 'text_model.encoder.layers.4.layer_norm1.weight', 'text_model.encoder.layers.5.self_attn.k_proj.weight', 'text_model.encoder.layers.5.mlp.fc2.weight', 'text_model.encoder.layers.10.layer_norm2.bias', 'text_model.encoder.layers.10.layer_norm2.weight', 'text_model.encoder.layers.11.layer_norm2.bias', 'text_model.encoder.layers.6.self_attn.q_proj.weight', 'text_model.encoder.layers.11.self_attn.k_proj.weight', 'text_model.encoder.layers.6.self_attn.q_proj.bias', 'text_model.encoder.layers.10.mlp.fc2.bias', 'text_model.encoder.layers.6.mlp.fc2.weight', 'visual_projection.weight', 'text_model.encoder.layers.7.mlp.fc1.bias', 'text_model.encoder.layers.11.layer_norm2.weight', 'text_model.encoder.layers.9.self_attn.q_proj.weight', 'text_model.encoder.layers.8.self_attn.out_proj.weight', 'text_model.encoder.layers.2.mlp.fc2.weight', 'text_model.encoder.layers.4.mlp.fc1.weight', 'text_model.encoder.layers.1.self_attn.q_proj.weight', 'text_model.encoder.layers.3.layer_norm2.bias', 'text_model.encoder.layers.4.layer_norm2.weight', 'text_model.encoder.layers.10.mlp.fc1.bias', 'text_model.encoder.layers.8.self_attn.q_proj.weight', 'text_model.encoder.layers.9.self_attn.v_proj.weight', 'text_model.encoder.layers.2.layer_norm1.weight', 'text_model.encoder.layers.9.self_attn.out_proj.bias', 'text_model.encoder.layers.6.mlp.fc1.weight', 'text_model.encoder.layers.5.mlp.fc2.bias', 'text_model.encoder.layers.1.self_attn.v_proj.weight', 'text_model.encoder.layers.10.self_attn.out_proj.bias', 'logit_scale', 'text_model.encoder.layers.2.self_attn.v_proj.weight', 'text_model.encoder.layers.8.mlp.fc2.bias', 'text_model.encoder.layers.6.self_attn.out_proj.weight', 'text_model.encoder.layers.10.self_attn.k_proj.weight', 'text_model.encoder.layers.1.self_attn.k_proj.bias', 'text_model.encoder.layers.5.layer_norm2.weight', 'text_model.encoder.layers.9.layer_norm2.weight', 'text_model.encoder.layers.9.mlp.fc1.weight', 'text_model.encoder.layers.11.self_attn.v_proj.weight', 'text_model.embeddings.token_embedding.weight', 'text_model.encoder.layers.2.self_attn.out_proj.bias', 'text_model.encoder.layers.9.self_attn.k_proj.weight', 'text_model.encoder.layers.11.layer_norm1.bias', 'text_model.encoder.layers.10.mlp.fc2.weight', 'text_model.encoder.layers.6.self_attn.v_proj.weight', 'text_model.encoder.layers.11.self_attn.out_proj.weight', 'text_model.encoder.layers.2.self_attn.q_proj.weight', 'text_model.encoder.layers.9.layer_norm1.weight', 'text_model.encoder.layers.7.self_attn.out_proj.weight', 'text_model.encoder.layers.1.layer_norm2.bias', 'text_model.encoder.layers.3.mlp.fc1.weight', 'text_model.encoder.layers.7.self_attn.k_proj.weight', 'text_model.encoder.layers.10.layer_norm1.bias', 'text_model.encoder.layers.11.self_attn.q_proj.bias', 'text_model.encoder.layers.4.self_attn.k_proj.bias', 'text_model.encoder.layers.3.self_attn.q_proj.weight', 'text_model.encoder.layers.8.mlp.fc1.weight', 'text_model.encoder.layers.1.self_attn.out_proj.weight', 'text_model.encoder.layers.2.self_attn.k_proj.bias', 'text_model.encoder.layers.8.layer_norm2.bias', 'text_model.encoder.layers.2.self_attn.q_proj.bias', 'text_model.encoder.layers.7.layer_norm1.bias', 'text_projection.weight', 'text_model.encoder.layers.3.self_attn.out_proj.bias', 'text_model.encoder.layers.7.self_attn.v_proj.bias', 'text_model.encoder.layers.6.layer_norm1.bias', 'text_model.encoder.layers.9.mlp.fc2.weight', 'text_model.encoder.layers.4.mlp.fc1.bias', 'text_model.encoder.layers.5.self_attn.v_proj.bias', 'text_model.encoder.layers.0.mlp.fc2.bias', 'text_model.encoder.layers.6.layer_norm2.bias', 'text_model.encoder.layers.0.self_attn.q_proj.bias', 'text_model.encoder.layers.8.layer_norm1.weight', 'text_model.encoder.layers.5.mlp.fc1.weight', 'text_model.encoder.layers.10.mlp.fc1.weight', 'text_model.encoder.layers.9.layer_norm2.bias', 'text_model.encoder.layers.0.mlp.fc2.weight', 'text_model.encoder.layers.0.layer_norm1.weight', 'text_model.encoder.layers.1.layer_norm1.weight', 'text_model.encoder.layers.0.self_attn.v_proj.bias', 'text_model.encoder.layers.4.self_attn.out_proj.weight', 'text_model.final_layer_norm.bias', 'text_model.encoder.layers.7.mlp.fc2.bias', 'text_model.encoder.layers.3.layer_norm2.weight', 'text_model.encoder.layers.1.self_attn.k_proj.weight', 'text_model.encoder.layers.8.layer_norm1.bias', 'text_model.encoder.layers.5.self_attn.out_proj.bias', 'text_model.encoder.layers.11.mlp.fc1.weight', 'text_model.final_layer_norm.weight', 'text_model.encoder.layers.9.self_attn.k_proj.bias', 'text_model.encoder.layers.6.self_attn.k_proj.weight', 'text_model.encoder.layers.10.self_attn.k_proj.bias', 'text_model.encoder.layers.2.layer_norm1.bias', 'text_model.encoder.layers.6.layer_norm1.weight', 'text_model.encoder.layers.0.layer_norm1.bias', 'text_model.encoder.layers.7.mlp.fc1.weight', 'text_model.encoder.layers.0.self_attn.out_proj.weight', 'text_model.encoder.layers.3.layer_norm1.bias', 'text_model.encoder.layers.8.self_attn.q_proj.bias', 'text_model.encoder.layers.1.layer_norm1.bias', 'text_model.encoder.layers.8.self_attn.v_proj.weight', 'text_model.encoder.layers.11.self_attn.v_proj.bias', 'text_model.encoder.layers.9.self_attn.v_proj.bias', 'text_model.encoder.layers.7.mlp.fc2.weight', 'text_model.encoder.layers.3.self_attn.out_proj.weight', 'text_model.encoder.layers.0.self_attn.k_proj.bias', 'text_model.encoder.layers.4.self_attn.v_proj.bias', 'text_model.encoder.layers.5.self_attn.out_proj.weight', 'text_model.encoder.layers.9.mlp.fc2.bias', 'text_model.encoder.layers.0.self_attn.q_proj.weight', 'text_model.encoder.layers.11.layer_norm1.weight', 'text_model.encoder.layers.4.layer_norm1.bias', 'text_model.encoder.layers.2.mlp.fc1.bias', 'text_model.encoder.layers.7.self_attn.q_proj.bias', 'text_model.encoder.layers.2.self_attn.out_proj.weight', 'text_model.encoder.layers.0.self_attn.out_proj.bias', 'text_model.encoder.layers.8.mlp.fc1.bias', 'text_model.encoder.layers.8.self_attn.k_proj.weight', 'text_model.encoder.layers.6.self_attn.out_proj.bias', 'text_model.encoder.layers.2.layer_norm2.bias', 'text_model.encoder.layers.4.self_attn.out_proj.bias', 'text_model.encoder.layers.4.self_attn.q_proj.bias']\n",
      "- This IS expected if you are initializing CLIPVisionModel from the checkpoint of a model trained on another task or with another architecture (e.g. initializing a BertForSequenceClassification model from a BertForPreTraining model).\n",
      "- This IS NOT expected if you are initializing CLIPVisionModel from the checkpoint of a model that you expect to be exactly identical (initializing a BertForSequenceClassification model from a BertForSequenceClassification model).\n"
     ]
    }
   ],
   "source": [
    "vision_encoder = CLIPVisionModel.from_pretrained(IMAGE_MODEL)\n",
    "#config = CLIPConfig.from_pretrained(\"openai/clip-vit-base-patch16\")\n",
    "#vision_encoder = CLIPVisionModel.from_pretrained(\"openai/clip-vit-base-patch16\", config=config.vision_config)"
   ]
  },
  {
   "cell_type": "code",
   "execution_count": 23,
   "metadata": {
    "ExecuteTime": {
     "end_time": "2023-05-11T15:06:20.884008Z",
     "start_time": "2023-05-11T15:06:19.975915Z"
    },
    "tags": []
   },
   "outputs": [
    {
     "name": "stderr",
     "output_type": "stream",
     "text": [
      "You are using a model of type bert to instantiate a model of type clip_text_model. This is not supported for all configurations of models and can yield errors.\n",
      "Some weights of the model checkpoint at emilyalsentzer/Bio_ClinicalBERT were not used when initializing CLIPTextModel: ['bert.encoder.layer.2.output.LayerNorm.weight', 'bert.encoder.layer.2.output.dense.weight', 'bert.encoder.layer.11.output.dense.bias', 'bert.encoder.layer.3.attention.self.key.bias', 'bert.encoder.layer.1.attention.output.dense.weight', 'bert.encoder.layer.4.output.dense.weight', 'bert.encoder.layer.10.attention.self.query.bias', 'bert.encoder.layer.11.attention.output.dense.weight', 'bert.encoder.layer.1.attention.self.query.bias', 'bert.encoder.layer.3.output.dense.weight', 'bert.encoder.layer.10.output.LayerNorm.bias', 'bert.encoder.layer.8.attention.output.LayerNorm.weight', 'bert.embeddings.LayerNorm.bias', 'bert.encoder.layer.6.attention.self.key.weight', 'bert.encoder.layer.9.attention.output.dense.weight', 'bert.encoder.layer.8.attention.self.value.weight', 'bert.encoder.layer.9.intermediate.dense.bias', 'bert.encoder.layer.0.intermediate.dense.bias', 'bert.encoder.layer.2.attention.self.query.bias', 'bert.encoder.layer.3.attention.output.dense.bias', 'bert.encoder.layer.7.attention.output.LayerNorm.bias', 'bert.encoder.layer.7.attention.output.dense.bias', 'bert.encoder.layer.1.attention.output.LayerNorm.weight', 'bert.encoder.layer.1.intermediate.dense.weight', 'bert.encoder.layer.5.attention.self.value.weight', 'bert.encoder.layer.8.attention.self.value.bias', 'bert.encoder.layer.11.output.LayerNorm.bias', 'bert.encoder.layer.6.output.LayerNorm.weight', 'bert.encoder.layer.8.attention.self.query.weight', 'bert.encoder.layer.1.attention.self.query.weight', 'bert.encoder.layer.5.intermediate.dense.weight', 'bert.encoder.layer.10.intermediate.dense.weight', 'bert.encoder.layer.4.attention.output.LayerNorm.bias', 'bert.encoder.layer.7.attention.self.key.weight', 'bert.encoder.layer.8.attention.self.query.bias', 'cls.predictions.decoder.weight', 'bert.encoder.layer.3.attention.self.query.bias', 'bert.encoder.layer.11.attention.self.query.bias', 'bert.encoder.layer.4.output.LayerNorm.bias', 'bert.encoder.layer.9.output.dense.bias', 'bert.encoder.layer.7.intermediate.dense.bias', 'bert.encoder.layer.2.output.LayerNorm.bias', 'bert.encoder.layer.7.attention.self.query.weight', 'bert.encoder.layer.0.attention.self.query.bias', 'bert.encoder.layer.10.attention.self.value.weight', 'bert.encoder.layer.5.attention.output.LayerNorm.weight', 'bert.pooler.dense.bias', 'bert.encoder.layer.7.attention.self.key.bias', 'bert.encoder.layer.0.attention.self.query.weight', 'bert.encoder.layer.0.attention.output.dense.bias', 'bert.encoder.layer.6.attention.self.query.weight', 'cls.seq_relationship.bias', 'bert.encoder.layer.0.output.LayerNorm.weight', 'bert.encoder.layer.2.intermediate.dense.bias', 'bert.embeddings.token_type_embeddings.weight', 'bert.encoder.layer.2.attention.self.value.weight', 'bert.encoder.layer.8.output.dense.bias', 'bert.encoder.layer.11.intermediate.dense.weight', 'bert.encoder.layer.6.output.dense.bias', 'cls.predictions.transform.LayerNorm.weight', 'bert.encoder.layer.3.attention.output.LayerNorm.bias', 'bert.encoder.layer.6.attention.output.LayerNorm.bias', 'bert.encoder.layer.7.attention.self.query.bias', 'bert.encoder.layer.3.intermediate.dense.weight', 'bert.encoder.layer.6.attention.self.query.bias', 'bert.encoder.layer.6.attention.self.value.bias', 'bert.encoder.layer.4.attention.self.key.bias', 'bert.encoder.layer.1.attention.self.value.bias', 'cls.seq_relationship.weight', 'bert.encoder.layer.4.attention.self.query.bias', 'bert.encoder.layer.8.output.dense.weight', 'bert.encoder.layer.0.attention.output.LayerNorm.weight', 'bert.encoder.layer.8.intermediate.dense.bias', 'bert.encoder.layer.3.attention.output.LayerNorm.weight', 'bert.encoder.layer.2.output.dense.bias', 'bert.encoder.layer.2.attention.output.LayerNorm.bias', 'bert.encoder.layer.10.intermediate.dense.bias', 'cls.predictions.bias', 'bert.encoder.layer.0.attention.self.key.bias', 'bert.encoder.layer.3.output.LayerNorm.bias', 'bert.encoder.layer.9.attention.self.value.weight', 'bert.encoder.layer.9.attention.self.key.bias', 'bert.encoder.layer.11.output.dense.weight', 'bert.encoder.layer.3.intermediate.dense.bias', 'cls.predictions.transform.dense.bias', 'bert.encoder.layer.11.attention.self.key.bias', 'bert.encoder.layer.7.intermediate.dense.weight', 'bert.encoder.layer.2.intermediate.dense.weight', 'bert.encoder.layer.1.intermediate.dense.bias', 'bert.encoder.layer.9.attention.output.LayerNorm.bias', 'cls.predictions.transform.dense.weight', 'bert.encoder.layer.7.output.dense.bias', 'bert.encoder.layer.3.attention.self.key.weight', 'bert.embeddings.LayerNorm.weight', 'bert.encoder.layer.11.attention.self.value.weight', 'bert.encoder.layer.9.attention.self.key.weight', 'bert.encoder.layer.5.attention.self.key.bias', 'bert.encoder.layer.7.output.LayerNorm.bias', 'bert.encoder.layer.1.attention.self.key.bias', 'bert.encoder.layer.4.attention.self.value.bias', 'bert.encoder.layer.0.attention.output.LayerNorm.bias', 'bert.encoder.layer.7.attention.output.LayerNorm.weight', 'bert.encoder.layer.3.output.dense.bias', 'bert.encoder.layer.11.output.LayerNorm.weight', 'bert.encoder.layer.5.output.LayerNorm.weight', 'bert.encoder.layer.6.intermediate.dense.weight', 'bert.encoder.layer.10.attention.output.LayerNorm.weight', 'bert.encoder.layer.11.intermediate.dense.bias', 'bert.encoder.layer.0.output.LayerNorm.bias', 'bert.encoder.layer.5.attention.self.query.bias', 'bert.encoder.layer.3.attention.self.value.bias', 'bert.encoder.layer.0.attention.self.key.weight', 'bert.encoder.layer.0.attention.self.value.weight', 'bert.encoder.layer.10.attention.self.key.weight', 'bert.encoder.layer.3.attention.self.query.weight', 'bert.encoder.layer.11.attention.output.dense.bias', 'bert.encoder.layer.1.output.dense.weight', 'bert.encoder.layer.6.attention.output.LayerNorm.weight', 'bert.encoder.layer.8.output.LayerNorm.bias', 'bert.encoder.layer.7.attention.output.dense.weight', 'bert.encoder.layer.0.output.dense.weight', 'bert.encoder.layer.10.attention.output.dense.weight', 'bert.encoder.layer.11.attention.self.value.bias', 'bert.encoder.layer.1.attention.output.LayerNorm.bias', 'bert.encoder.layer.9.intermediate.dense.weight', 'bert.encoder.layer.7.output.dense.weight', 'bert.encoder.layer.6.attention.self.key.bias', 'bert.encoder.layer.5.attention.self.key.weight', 'bert.encoder.layer.1.output.LayerNorm.bias', 'bert.encoder.layer.4.attention.self.key.weight', 'bert.encoder.layer.7.output.LayerNorm.weight', 'bert.encoder.layer.10.output.dense.weight', 'bert.encoder.layer.3.output.LayerNorm.weight', 'bert.encoder.layer.5.attention.output.dense.bias', 'bert.encoder.layer.5.output.dense.weight', 'bert.encoder.layer.8.attention.output.dense.bias', 'bert.encoder.layer.5.output.LayerNorm.bias', 'bert.encoder.layer.4.intermediate.dense.weight', 'bert.encoder.layer.10.attention.output.LayerNorm.bias', 'bert.encoder.layer.6.output.dense.weight', 'bert.encoder.layer.4.attention.output.LayerNorm.weight', 'bert.encoder.layer.9.attention.output.dense.bias', 'bert.encoder.layer.4.intermediate.dense.bias', 'cls.predictions.transform.LayerNorm.bias', 'bert.encoder.layer.8.attention.output.LayerNorm.bias', 'bert.encoder.layer.7.attention.self.value.weight', 'bert.encoder.layer.10.attention.output.dense.bias', 'bert.encoder.layer.0.attention.output.dense.weight', 'bert.encoder.layer.9.attention.self.query.bias', 'bert.encoder.layer.9.attention.self.query.weight', 'bert.encoder.layer.4.attention.output.dense.bias', 'bert.encoder.layer.5.output.dense.bias', 'bert.encoder.layer.11.attention.output.LayerNorm.weight', 'bert.encoder.layer.6.attention.self.value.weight', 'bert.encoder.layer.8.attention.output.dense.weight', 'bert.embeddings.position_embeddings.weight', 'bert.encoder.layer.4.attention.self.query.weight', 'bert.encoder.layer.6.output.LayerNorm.bias', 'bert.encoder.layer.9.output.dense.weight', 'bert.encoder.layer.0.output.dense.bias', 'bert.encoder.layer.4.output.dense.bias', 'bert.encoder.layer.11.attention.output.LayerNorm.bias', 'bert.encoder.layer.2.attention.output.LayerNorm.weight', 'bert.encoder.layer.10.attention.self.query.weight', 'bert.encoder.layer.6.attention.output.dense.bias', 'bert.encoder.layer.11.attention.self.key.weight', 'bert.encoder.layer.4.output.LayerNorm.weight', 'bert.encoder.layer.10.attention.self.key.bias', 'bert.encoder.layer.10.attention.self.value.bias', 'bert.encoder.layer.2.attention.output.dense.weight', 'bert.encoder.layer.3.attention.output.dense.weight', 'bert.encoder.layer.2.attention.self.value.bias', 'bert.encoder.layer.5.attention.output.LayerNorm.bias', 'bert.encoder.layer.9.output.LayerNorm.weight', 'bert.encoder.layer.2.attention.output.dense.bias', 'bert.encoder.layer.4.attention.self.value.weight', 'bert.encoder.layer.4.attention.output.dense.weight', 'bert.encoder.layer.3.attention.self.value.weight', 'bert.encoder.layer.8.intermediate.dense.weight', 'bert.pooler.dense.weight', 'bert.encoder.layer.6.intermediate.dense.bias', 'bert.encoder.layer.1.attention.self.value.weight', 'bert.encoder.layer.6.attention.output.dense.weight', 'bert.encoder.layer.8.attention.self.key.bias', 'bert.embeddings.word_embeddings.weight', 'bert.encoder.layer.9.output.LayerNorm.bias', 'bert.encoder.layer.11.attention.self.query.weight', 'bert.encoder.layer.5.attention.self.query.weight', 'bert.encoder.layer.0.intermediate.dense.weight', 'bert.encoder.layer.8.output.LayerNorm.weight', 'bert.encoder.layer.2.attention.self.query.weight', 'bert.encoder.layer.1.output.dense.bias', 'bert.encoder.layer.2.attention.self.key.weight', 'bert.encoder.layer.2.attention.self.key.bias', 'bert.encoder.layer.1.attention.self.key.weight', 'bert.encoder.layer.7.attention.self.value.bias', 'bert.encoder.layer.5.attention.output.dense.weight', 'bert.encoder.layer.1.output.LayerNorm.weight', 'bert.encoder.layer.5.intermediate.dense.bias', 'bert.encoder.layer.9.attention.output.LayerNorm.weight', 'bert.encoder.layer.1.attention.output.dense.bias', 'bert.encoder.layer.9.attention.self.value.bias', 'bert.encoder.layer.0.attention.self.value.bias', 'bert.encoder.layer.8.attention.self.key.weight', 'bert.encoder.layer.10.output.LayerNorm.weight', 'bert.encoder.layer.5.attention.self.value.bias', 'bert.encoder.layer.10.output.dense.bias']\n",
      "- This IS expected if you are initializing CLIPTextModel from the checkpoint of a model trained on another task or with another architecture (e.g. initializing a BertForSequenceClassification model from a BertForPreTraining model).\n",
      "- This IS NOT expected if you are initializing CLIPTextModel from the checkpoint of a model that you expect to be exactly identical (initializing a BertForSequenceClassification model from a BertForSequenceClassification model).\n",
      "Some weights of CLIPTextModel were not initialized from the model checkpoint at emilyalsentzer/Bio_ClinicalBERT and are newly initialized: ['text_model.encoder.layers.1.self_attn.q_proj.bias', 'text_model.encoder.layers.11.self_attn.k_proj.bias', 'text_model.encoder.layers.0.self_attn.k_proj.weight', 'text_model.encoder.layers.8.mlp.fc2.weight', 'text_model.encoder.layers.2.self_attn.v_proj.bias', 'text_model.encoder.layers.2.mlp.fc2.bias', 'text_model.encoder.layers.3.mlp.fc2.bias', 'text_model.encoder.layers.3.self_attn.q_proj.bias', 'text_model.encoder.layers.6.layer_norm2.weight', 'text_model.encoder.layers.10.self_attn.q_proj.bias', 'text_model.encoder.layers.4.self_attn.out_proj.bias', 'text_model.encoder.layers.10.self_attn.q_proj.weight', 'text_model.encoder.layers.7.self_attn.out_proj.bias', 'text_model.encoder.layers.8.self_attn.k_proj.bias', 'text_model.encoder.layers.3.self_attn.k_proj.bias', 'text_model.encoder.layers.9.self_attn.q_proj.bias', 'text_model.encoder.layers.4.mlp.fc2.weight', 'text_model.encoder.layers.5.self_attn.q_proj.bias', 'text_model.encoder.layers.3.mlp.fc2.weight', 'text_model.encoder.layers.8.self_attn.out_proj.bias', 'text_model.encoder.layers.9.mlp.fc1.bias', 'text_model.encoder.layers.7.self_attn.q_proj.weight', 'text_model.encoder.layers.10.layer_norm1.weight', 'text_model.encoder.layers.2.layer_norm2.weight', 'text_model.encoder.layers.8.self_attn.v_proj.bias', 'text_model.encoder.layers.11.mlp.fc2.weight', 'text_model.encoder.layers.7.layer_norm1.weight', 'text_model.encoder.layers.11.mlp.fc2.bias', 'text_model.encoder.layers.3.self_attn.v_proj.weight', 'text_model.encoder.layers.5.layer_norm2.bias', 'text_model.encoder.layers.11.mlp.fc1.bias', 'text_model.encoder.layers.0.mlp.fc1.bias', 'text_model.encoder.layers.0.mlp.fc1.weight', 'text_model.encoder.layers.0.self_attn.v_proj.weight', 'text_model.encoder.layers.5.mlp.fc1.bias', 'text_model.encoder.layers.1.mlp.fc2.weight', 'text_model.encoder.layers.7.layer_norm2.bias', 'text_model.encoder.layers.3.layer_norm1.weight', 'text_model.encoder.layers.1.mlp.fc2.bias', 'text_model.encoder.layers.5.self_attn.q_proj.weight', 'text_model.encoder.layers.7.self_attn.k_proj.bias', 'text_model.encoder.layers.1.self_attn.v_proj.bias', 'text_model.encoder.layers.7.layer_norm2.weight', 'text_model.encoder.layers.7.self_attn.v_proj.weight', 'text_model.encoder.layers.10.self_attn.out_proj.weight', 'text_model.encoder.layers.2.self_attn.k_proj.weight', 'text_model.encoder.layers.3.self_attn.k_proj.weight', 'text_model.encoder.layers.2.mlp.fc1.weight', 'text_model.encoder.layers.5.layer_norm1.weight', 'text_model.encoder.layers.1.mlp.fc1.weight', 'text_model.encoder.layers.1.layer_norm2.weight', 'text_model.encoder.layers.10.self_attn.v_proj.weight', 'text_model.encoder.layers.0.layer_norm2.bias', 'text_model.encoder.layers.4.mlp.fc2.bias', 'text_model.encoder.layers.5.self_attn.k_proj.bias', 'text_model.encoder.layers.10.self_attn.v_proj.bias', 'text_model.encoder.layers.6.mlp.fc1.bias', 'text_model.encoder.layers.4.layer_norm2.bias', 'text_model.encoder.layers.6.self_attn.v_proj.bias', 'text_model.encoder.layers.4.self_attn.q_proj.weight', 'text_model.encoder.layers.5.self_attn.v_proj.weight', 'text_model.encoder.layers.6.self_attn.k_proj.bias', 'text_model.encoder.layers.1.mlp.fc1.bias', 'text_model.encoder.layers.11.self_attn.out_proj.bias', 'text_model.encoder.layers.9.self_attn.out_proj.weight', 'text_model.encoder.layers.4.self_attn.v_proj.weight', 'text_model.encoder.layers.0.layer_norm2.weight', 'text_model.encoder.layers.5.layer_norm1.bias', 'text_model.encoder.layers.3.mlp.fc1.bias', 'text_model.encoder.layers.8.layer_norm2.weight', 'text_model.encoder.layers.11.self_attn.q_proj.weight', 'text_model.encoder.layers.9.layer_norm1.bias', 'text_model.encoder.layers.1.self_attn.out_proj.bias', 'text_model.embeddings.position_embedding.weight', 'text_model.encoder.layers.4.self_attn.k_proj.weight', 'text_model.encoder.layers.3.self_attn.v_proj.bias', 'text_model.encoder.layers.6.mlp.fc2.bias', 'text_model.encoder.layers.4.layer_norm1.weight', 'text_model.encoder.layers.5.self_attn.k_proj.weight', 'text_model.encoder.layers.5.mlp.fc2.weight', 'text_model.encoder.layers.10.layer_norm2.bias', 'text_model.encoder.layers.10.layer_norm2.weight', 'text_model.encoder.layers.11.layer_norm2.bias', 'text_model.encoder.layers.6.self_attn.q_proj.weight', 'text_model.encoder.layers.11.self_attn.k_proj.weight', 'text_model.encoder.layers.6.self_attn.q_proj.bias', 'text_model.encoder.layers.10.mlp.fc2.bias', 'text_model.encoder.layers.6.mlp.fc2.weight', 'text_model.encoder.layers.7.mlp.fc1.bias', 'text_model.encoder.layers.8.self_attn.out_proj.weight', 'text_model.encoder.layers.9.self_attn.q_proj.weight', 'text_model.encoder.layers.2.mlp.fc2.weight', 'text_model.encoder.layers.11.layer_norm2.weight', 'text_model.encoder.layers.4.mlp.fc1.weight', 'text_model.encoder.layers.1.self_attn.q_proj.weight', 'text_model.encoder.layers.3.layer_norm2.bias', 'text_model.encoder.layers.4.layer_norm2.weight', 'text_model.encoder.layers.10.mlp.fc1.bias', 'text_model.encoder.layers.8.self_attn.q_proj.weight', 'text_model.encoder.layers.9.self_attn.v_proj.weight', 'text_model.encoder.layers.2.layer_norm1.weight', 'text_model.encoder.layers.6.mlp.fc1.weight', 'text_model.encoder.layers.9.self_attn.out_proj.bias', 'text_model.encoder.layers.5.mlp.fc2.bias', 'text_model.encoder.layers.1.self_attn.v_proj.weight', 'text_model.encoder.layers.10.self_attn.out_proj.bias', 'text_model.encoder.layers.6.self_attn.out_proj.weight', 'text_model.encoder.layers.2.self_attn.v_proj.weight', 'text_model.encoder.layers.8.mlp.fc2.bias', 'text_model.encoder.layers.10.self_attn.k_proj.weight', 'text_model.encoder.layers.1.self_attn.k_proj.bias', 'text_model.encoder.layers.5.layer_norm2.weight', 'text_model.encoder.layers.9.layer_norm2.weight', 'text_model.encoder.layers.9.mlp.fc1.weight', 'text_model.encoder.layers.11.self_attn.v_proj.weight', 'text_model.embeddings.token_embedding.weight', 'text_model.encoder.layers.2.self_attn.out_proj.bias', 'text_model.encoder.layers.9.self_attn.k_proj.weight', 'text_model.encoder.layers.11.layer_norm1.bias', 'text_model.encoder.layers.6.self_attn.v_proj.weight', 'text_model.encoder.layers.10.mlp.fc2.weight', 'text_model.encoder.layers.11.self_attn.out_proj.weight', 'text_model.encoder.layers.2.self_attn.q_proj.weight', 'text_model.encoder.layers.9.layer_norm1.weight', 'text_model.encoder.layers.7.self_attn.out_proj.weight', 'text_model.encoder.layers.1.layer_norm2.bias', 'text_model.encoder.layers.3.mlp.fc1.weight', 'text_model.encoder.layers.7.self_attn.k_proj.weight', 'text_model.encoder.layers.10.layer_norm1.bias', 'text_model.encoder.layers.11.self_attn.q_proj.bias', 'text_model.encoder.layers.4.self_attn.k_proj.bias', 'text_model.encoder.layers.3.self_attn.q_proj.weight', 'text_model.encoder.layers.8.mlp.fc1.weight', 'text_model.encoder.layers.1.self_attn.out_proj.weight', 'text_model.encoder.layers.2.self_attn.k_proj.bias', 'text_model.encoder.layers.8.layer_norm2.bias', 'text_model.encoder.layers.2.self_attn.q_proj.bias', 'text_model.encoder.layers.3.self_attn.out_proj.bias', 'text_model.encoder.layers.7.layer_norm1.bias', 'text_model.encoder.layers.7.self_attn.v_proj.bias', 'text_model.encoder.layers.6.layer_norm1.bias', 'text_model.encoder.layers.9.mlp.fc2.weight', 'text_model.encoder.layers.4.mlp.fc1.bias', 'text_model.encoder.layers.0.mlp.fc2.bias', 'text_model.encoder.layers.5.self_attn.v_proj.bias', 'text_model.encoder.layers.6.layer_norm2.bias', 'text_model.encoder.layers.0.self_attn.q_proj.bias', 'text_model.encoder.layers.8.layer_norm1.weight', 'text_model.encoder.layers.5.mlp.fc1.weight', 'text_model.encoder.layers.10.mlp.fc1.weight', 'text_model.encoder.layers.9.layer_norm2.bias', 'text_model.encoder.layers.0.mlp.fc2.weight', 'text_model.encoder.layers.0.layer_norm1.weight', 'text_model.encoder.layers.1.layer_norm1.weight', 'text_model.encoder.layers.0.self_attn.v_proj.bias', 'text_model.encoder.layers.4.self_attn.out_proj.weight', 'text_model.final_layer_norm.bias', 'text_model.encoder.layers.7.mlp.fc2.bias', 'text_model.encoder.layers.1.self_attn.k_proj.weight', 'text_model.encoder.layers.3.layer_norm2.weight', 'text_model.encoder.layers.8.layer_norm1.bias', 'text_model.encoder.layers.5.self_attn.out_proj.bias', 'text_model.encoder.layers.11.mlp.fc1.weight', 'text_model.final_layer_norm.weight', 'text_model.encoder.layers.6.self_attn.k_proj.weight', 'text_model.encoder.layers.9.self_attn.k_proj.bias', 'text_model.encoder.layers.10.self_attn.k_proj.bias', 'text_model.encoder.layers.2.layer_norm1.bias', 'text_model.encoder.layers.6.layer_norm1.weight', 'text_model.encoder.layers.0.layer_norm1.bias', 'text_model.encoder.layers.7.mlp.fc1.weight', 'text_model.encoder.layers.0.self_attn.out_proj.weight', 'text_model.encoder.layers.3.layer_norm1.bias', 'text_model.encoder.layers.8.self_attn.q_proj.bias', 'text_model.encoder.layers.1.layer_norm1.bias', 'text_model.encoder.layers.8.self_attn.v_proj.weight', 'text_model.encoder.layers.11.self_attn.v_proj.bias', 'text_model.encoder.layers.9.self_attn.v_proj.bias', 'text_model.encoder.layers.7.mlp.fc2.weight', 'text_model.encoder.layers.0.self_attn.k_proj.bias', 'text_model.encoder.layers.3.self_attn.out_proj.weight', 'text_model.encoder.layers.4.self_attn.v_proj.bias', 'text_model.encoder.layers.5.self_attn.out_proj.weight', 'text_model.encoder.layers.9.mlp.fc2.bias', 'text_model.encoder.layers.0.self_attn.q_proj.weight', 'text_model.encoder.layers.4.layer_norm1.bias', 'text_model.encoder.layers.2.mlp.fc1.bias', 'text_model.encoder.layers.7.self_attn.q_proj.bias', 'text_model.encoder.layers.2.self_attn.out_proj.weight', 'text_model.encoder.layers.0.self_attn.out_proj.bias', 'text_model.encoder.layers.8.mlp.fc1.bias', 'text_model.encoder.layers.8.self_attn.k_proj.weight', 'text_model.encoder.layers.6.self_attn.out_proj.bias', 'text_model.encoder.layers.2.layer_norm2.bias', 'text_model.encoder.layers.11.layer_norm1.weight', 'text_model.encoder.layers.4.self_attn.q_proj.bias']\n",
      "You should probably TRAIN this model on a down-stream task to be able to use it for predictions and inference.\n"
     ]
    }
   ],
   "source": [
    "text_encoder = CLIPTextModel.from_pretrained(TEXT_MODEL)\n",
    "#text_encoder = BertModel.from_pretrained(\"bert-base-uncased\")"
   ]
  },
  {
   "cell_type": "code",
   "execution_count": 24,
   "metadata": {
    "ExecuteTime": {
     "end_time": "2023-05-11T15:06:30.226838Z",
     "start_time": "2023-05-11T15:06:30.130313Z"
    },
    "collapsed": false,
    "jupyter": {
     "outputs_hidden": false
    }
   },
   "outputs": [],
   "source": [
    "def clip_wrapper_creator():\n",
    "    \"\"\"create a dummy CLIPModel to wrap text and vision encoders in order to use CLIPTrainer\"\"\"\n",
    "    config = {'num_hidden_layers': 0,\n",
    "              'max_position_embeddings': 0,\n",
    "              'vocab_size': 0,\n",
    "              'hidden_size': 1,\n",
    "              'patch_size': 1,\n",
    "              }\n",
    "\n",
    "    #DUMMY_CONFIG = CLIPConfig(text_config_dict=config,vision_config_dict=config)\n",
    "    DUMMY_CONFIG = CLIPConfig(\n",
    "        text_config_dict = config,\n",
    "        vision_config_dict = config\n",
    "    )\n",
    "\n",
    "    clip = CLIPModel(config=DUMMY_CONFIG)\n",
    "\n",
    "    # convert projectors to Identity\n",
    "    clip.text_projection = nn.Identity()\n",
    "    clip.visual_projection = nn.Identity()\n",
    "\n",
    "    return clip\n"
   ]
  },
  {
   "cell_type": "code",
   "execution_count": 25,
   "metadata": {
    "ExecuteTime": {
     "end_time": "2023-05-11T15:06:35.622677Z",
     "start_time": "2023-05-11T15:06:35.593827Z"
    }
   },
   "outputs": [],
   "source": [
    "#text_encoder = AutoModel.from_pretrained(TEXT_MODEL)\n",
    "#text_encoder = CLIPTextModel.from_pretrained('openai/clip-vit-base-patch32')\n",
    "\n",
    "clip = clip_wrapper_creator()\n",
    "clip.text_model = text_encoder\n",
    "clip.vision_model = vision_encoder"
   ]
  },
  {
   "cell_type": "code",
   "execution_count": 26,
   "metadata": {
    "ExecuteTime": {
     "end_time": "2023-05-11T15:06:36.905544Z",
     "start_time": "2023-05-11T15:06:36.853057Z"
    }
   },
   "outputs": [
    {
     "data": {
      "text/plain": [
       "768"
      ]
     },
     "execution_count": 26,
     "metadata": {},
     "output_type": "execute_result"
    }
   ],
   "source": [
    "text_encoder.config.hidden_size"
   ]
  },
  {
   "cell_type": "code",
   "execution_count": 27,
   "metadata": {
    "ExecuteTime": {
     "end_time": "2023-05-11T15:06:37.478318Z",
     "start_time": "2023-05-11T15:06:37.415618Z"
    },
    "tags": []
   },
   "outputs": [
    {
     "data": {
      "text/plain": [
       "768"
      ]
     },
     "execution_count": 27,
     "metadata": {},
     "output_type": "execute_result"
    }
   ],
   "source": [
    "vision_encoder.config.hidden_size"
   ]
  },
  {
   "cell_type": "code",
   "execution_count": 28,
   "metadata": {
    "ExecuteTime": {
     "end_time": "2023-05-11T15:06:38.807551Z",
     "start_time": "2023-05-11T15:06:38.769091Z"
    },
    "tags": []
   },
   "outputs": [],
   "source": [
    "assert text_encoder.config.hidden_size == vision_encoder.config.hidden_size"
   ]
  },
  {
   "cell_type": "code",
   "execution_count": 29,
   "metadata": {
    "ExecuteTime": {
     "end_time": "2023-05-11T15:06:41.699223Z",
     "start_time": "2023-05-11T15:06:39.522974Z"
    },
    "colab": {
     "base_uri": "https://localhost:8080/",
     "height": 247,
     "referenced_widgets": [
      "6e6d2d0ba7d84d5b85e2df608e90d89a",
      "f6f613220b6e43fd94d4efd564fc4d7c",
      "53fa3c7349424195a673af403fbbaafd",
      "c24364c670344bf5b1c75101850b3932",
      "64d493e6be1146018e3082c9acc23046",
      "d5a0ce676248410a8be4935cfe045fcd",
      "d54ce80bb5244ed1a23a4aec5e09054e",
      "9af42a69d97f467f8e55ccbd6687ccfa",
      "e0bf314d39e248cfaaacff3c08dd7eb2",
      "b52371eaa5fa418292afabe605f46fde",
      "fe4028dc8b734aec947caf5fdb5cf141",
      "7ae82b5b02704e9086246812a49d0d42",
      "643c47fdf1cb413395c8b3db12bb329b",
      "edd3e93573504c669088545ce71588c7",
      "44da84dad2a3498a9bfd16b6e9ee526c",
      "7b9cf1caaa94474e9014ca5e4bafbfcc",
      "a96595f1566b43e48d6064f4e9505246",
      "3edd67bdadf14126befb2d92651e344a",
      "1209ad8f655442c78f8795658e4ac89b",
      "9ae255a0ed90451985934022af364d2f",
      "e16eb8bd65d64ef7b4bdb81c58596f3b",
      "6abc8238013d4a248d7ec2daceb66c2f",
      "3b9abd87ce784047b70d2a4ede7c9179",
      "e7e8dc57d44340d28c297fe56f03ec07",
      "0416c50f6fc141f98dd94b9bc900fa1b",
      "7c068449b98c45d09fa43d74d29de5e2",
      "6b9a2d8614f840b58fe76ebf20354596",
      "13b3a412664545fd99e7553b1eee8606",
      "cf1045a933804e1fba1095140896f28a",
      "23ba07514fa746ebb2199fa55fae6e26",
      "5c989e8cb51a4b70a8444fa245bff553",
      "6d17750e82724fada9a21dc2152f6cc6",
      "d61e8e4dd9f141e39595e68c447b0359"
     ]
    },
    "id": "rwgNZswIHPOU",
    "outputId": "833313a9-7538-4f17-e3d1-56bce3654c07",
    "tags": []
   },
   "outputs": [
    {
     "name": "stdout",
     "output_type": "stream",
     "text": [
      "text and image embeddings:  torch.Size([16, 768]) torch.Size([16, 768])\n",
      "loss:  tensor(2.7797, grad_fn=<DivBackward0>)\n"
     ]
    }
   ],
   "source": [
    "if __name__ == '__main__':\n",
    "    out = clip(input_ids=item['input_ids'],\n",
    "               attention_mask=item['attention_mask'],\n",
    "               pixel_values=item['pixel_values'],\n",
    "               return_loss=True)\n",
    "\n",
    "    print('text and image embeddings: ',\n",
    "          out.text_embeds.shape, out.image_embeds.shape)\n",
    "    print('loss: ', out.loss)\n",
    "    del out, item"
   ]
  },
  {
   "cell_type": "markdown",
   "metadata": {
    "id": "Dlh2pd1KHph3"
   },
   "source": [
    "## Trainer: train using huggingface trainer\n",
    "- https://github.com/sajjjadayobi/CLIPfa/blob/main/clipfa/training/train.py"
   ]
  },
  {
   "cell_type": "code",
   "execution_count": 30,
   "metadata": {
    "ExecuteTime": {
     "end_time": "2023-05-11T15:06:45.198460Z",
     "start_time": "2023-05-11T15:06:45.191888Z"
    }
   },
   "outputs": [],
   "source": [
    "from clip_classes import CLIPTrainer\n",
    "from transformers.integrations import TensorBoardCallback"
   ]
  },
  {
   "cell_type": "code",
   "execution_count": null,
   "metadata": {
    "ExecuteTime": {
     "end_time": "2023-05-08T21:15:44.859852Z",
     "start_time": "2023-05-08T21:11:59.152189Z"
    },
    "colab": {
     "base_uri": "https://localhost:8080/",
     "height": 1000
    },
    "id": "rh1q1HbZHrLm",
    "outputId": "73246163-cb61-4346-9638-f78f501a2dc7",
    "tags": []
   },
   "outputs": [
    {
     "name": "stderr",
     "output_type": "stream",
     "text": [
      "/home/andrew/miniconda3/envs/CLIP_demo/lib/python3.8/site-packages/transformers/optimization.py:306: FutureWarning: This implementation of AdamW is deprecated and will be removed in a future version. Use the PyTorch implementation torch.optim.AdamW instead, or set `no_deprecation_warning=True` to disable this warning\n",
      "  warnings.warn(\n",
      "***** Running training *****\n",
      "  Num examples = 300413\n",
      "  Num Epochs = 100\n",
      "  Instantaneous batch size per device = 16\n",
      "  Total train batch size (w. parallel, distributed & accumulation) = 32\n",
      "  Gradient Accumulation steps = 2\n",
      "  Total optimization steps = 938800\n",
      "  Number of trainable parameters = 195174145\n"
     ]
    },
    {
     "data": {
      "text/html": [
       "\n",
       "    <div>\n",
       "      \n",
       "      <progress value='501' max='938800' style='width:300px; height:20px; vertical-align: middle;'></progress>\n",
       "      [   501/938800 02:22 < 74:31:52, 3.50 it/s, Epoch 0.05/100]\n",
       "    </div>\n",
       "    <table border=\"1\" class=\"dataframe\">\n",
       "  <thead>\n",
       " <tr style=\"text-align: left;\">\n",
       "      <th>Step</th>\n",
       "      <th>Training Loss</th>\n",
       "      <th>Validation Loss</th>\n",
       "    </tr>\n",
       "  </thead>\n",
       "  <tbody>\n",
       "  </tbody>\n",
       "</table><p>\n",
       "    <div>\n",
       "      \n",
       "      <progress value='122' max='989' style='width:300px; height:20px; vertical-align: middle;'></progress>\n",
       "      [122/989 00:05 < 00:37, 23.30 it/s]\n",
       "    </div>\n",
       "    "
      ],
      "text/plain": [
       "<IPython.core.display.HTML object>"
      ]
     },
     "metadata": {},
     "output_type": "display_data"
    },
    {
     "name": "stderr",
     "output_type": "stream",
     "text": [
      "***** Running Evaluation *****\n",
      "  Num examples = 15812\n",
      "  Batch size = 16\n"
     ]
    }
   ],
   "source": [
    "def train_model():\n",
    "    os.environ[\"TOKENIZERS_PARALLELISM\"] = \"false\"\n",
    "    helper.clear_gpu()\n",
    "    args.dataloader_num_workers = helper.optimal_workers()\n",
    "    trainer = CLIPTrainer(clip, args,\n",
    "                          train_dataset=train_ds,\n",
    "                          eval_dataset=test_ds,\n",
    "                          callbacks = [TensorBoardCallback]\n",
    "                         )\n",
    "\n",
    "    trainer.train()\n",
    "\n",
    "train_model()\n",
    "\n",
    "    # save pretrained models\n",
    "    # clip.text_model.save_pretrained('radCLIP')\n",
    "    # tokenizer.save_pretrained('radCLIP')\n",
    "    # clip.vision_model.save_pretrained('radCLIP')\n",
    "    # vision_preprocessor.save_pretrained('radCLIP')"
   ]
  },
  {
   "cell_type": "markdown",
   "metadata": {
    "id": "vts3rMXEILsf"
   },
   "source": [
    "# Demo"
   ]
  },
  {
   "cell_type": "markdown",
   "metadata": {
    "id": "vQYfgc5SIQYo"
   },
   "source": [
    "## Utils: demo utils\n",
    "- https://github.com/sajjjadayobi/CLIPfa/blob/main/clipfa/application/utils.py"
   ]
  },
  {
   "cell_type": "code",
   "execution_count": 211,
   "metadata": {
    "ExecuteTime": {
     "end_time": "2023-05-08T21:16:05.164626Z",
     "start_time": "2023-05-08T21:16:05.104455Z"
    },
    "id": "GugaFKYOIPxg"
   },
   "outputs": [],
   "source": [
    "class VisionDataset(Dataset):\n",
    "    preprocess = transforms.Compose([\n",
    "        transforms.Resize((IMAGE_SIZE, IMAGE_SIZE)),\n",
    "        transforms.ToTensor(),\n",
    "        transforms.Normalize(mean=MEAN, std=STD)\n",
    "    ])\n",
    "\n",
    "    def __init__(self, image_paths: list):\n",
    "        self.image_paths = image_paths\n",
    "\n",
    "    def __getitem__(self, idx):\n",
    "        return self.preprocess(Image.open(self.image_paths[idx]).convert('RGB'))\n",
    "\n",
    "    def __len__(self):\n",
    "        return len(self.image_paths)\n",
    "\n",
    "\n",
    "class TextDataset(Dataset):\n",
    "    def __init__(self, text: list, tokenizer, max_len):\n",
    "        self.len = len(text)\n",
    "        self.tokens = tokenizer(text, padding='max_length',\n",
    "                                max_length=max_len, truncation=True)\n",
    "\n",
    "    def __getitem__(self, idx):\n",
    "        token = self.tokens[idx]\n",
    "        return {'input_ids': token.ids, 'attention_mask': token.attention_mask}\n",
    "\n",
    "    def __len__(self):\n",
    "        return self.len"
   ]
  },
  {
   "cell_type": "markdown",
   "metadata": {
    "id": "c5Y7kFTOIdY9"
   },
   "source": [
    "## CLIPDemo\n",
    "- https://github.com/sajjjadayobi/CLIPfa/blob/main/clipfa/application/main.py"
   ]
  },
  {
   "cell_type": "code",
   "execution_count": 212,
   "metadata": {
    "ExecuteTime": {
     "end_time": "2023-05-08T21:16:07.226403Z",
     "start_time": "2023-05-08T21:16:07.201379Z"
    },
    "id": "gqaxBT6CIfl6"
   },
   "outputs": [],
   "source": [
    "import torch\n",
    "from tqdm import tqdm\n",
    "from PIL import Image\n",
    "import numpy as np\n",
    "import matplotlib.pyplot as plt\n",
    "from torch.utils.data import DataLoader\n",
    "from transformers import default_data_collator\n",
    "\n",
    "\n",
    "class CLIPDemo:\n",
    "    def __init__(self, vision_encoder, text_encoder, tokenizer,\n",
    "                 batch_size: int = 32, max_len: int = 32, device='cuda'):\n",
    "        \"\"\" Initializes CLIPDemo\n",
    "            it has the following functionalities:\n",
    "                image_search: Search images based on text query\n",
    "                zero_shot: Zero shot image classification\n",
    "                analogy: Analogies with embedding space arithmetic.\n",
    "\n",
    "            Args:\n",
    "            vision_encoder: Fine-tuned vision encoder\n",
    "            text_encoder: Fine-tuned text encoder\n",
    "            tokenizer: Transformers tokenizer\n",
    "            device (torch.device): Running device\n",
    "            batch_size (int): Size of mini-batches used to embeddings\n",
    "            max_length (int): Tokenizer max length\n",
    "\n",
    "            Example:\n",
    "            >>> demo = CLIPDemo(vision_encoder, text_encoder, tokenizer)\n",
    "            >>> demo.compute_image_embeddings(test_df.image.to_list())\n",
    "            >>> demo.image_search('یک مرد و یک زن')\n",
    "            >>> demo.zero_shot('./workers.jpg')\n",
    "            >>> demo.anology('./sunset.jpg', additional_text='دریا')\n",
    "        \"\"\"\n",
    "        self.vision_encoder = vision_encoder.eval().to(device)\n",
    "        self.text_encoder = text_encoder.eval().to(device)\n",
    "        self.batch_size = batch_size\n",
    "        self.device = device\n",
    "        self.tokenizer = tokenizer\n",
    "        self.max_len = max_len\n",
    "        self.text_embeddings_ = None\n",
    "        self.image_embeddings_ = None\n",
    "        \n",
    "\n",
    "    def compute_image_embeddings(self, image_paths: list):\n",
    "        self.image_paths = image_paths\n",
    "        datalodear = DataLoader(VisionDataset(\n",
    "            image_paths=image_paths), batch_size=self.batch_size)\n",
    "        embeddings = []\n",
    "        with torch.no_grad():\n",
    "            for images in tqdm(datalodear, desc='computing image embeddings'):\n",
    "                image_embedding = self.vision_encoder(\n",
    "                    pixel_values=images.to(self.device)).pooler_output\n",
    "                embeddings.append(image_embedding)\n",
    "        self.image_embeddings_ =  torch.cat(embeddings)\n",
    "\n",
    "    def compute_text_embeddings(self, text: list):\n",
    "        self.text = text\n",
    "        dataloader = DataLoader(TextDataset(text=text, tokenizer=self.tokenizer, max_len=self.max_len),\n",
    "                                batch_size=self.batch_size, collate_fn=default_data_collator)\n",
    "        embeddings = []\n",
    "        with torch.no_grad():\n",
    "            for tokens in tqdm(dataloader, desc='computing text embeddings'):\n",
    "                image_embedding = self.text_encoder(input_ids=tokens[\"input_ids\"].to(self.device),\n",
    "                                                    attention_mask=tokens[\"attention_mask\"].to(self.device)).pooler_output\n",
    "                embeddings.append(image_embedding)\n",
    "        self.text_embeddings_ = torch.cat(embeddings)\n",
    "\n",
    "    def text_query_embedding(self, query: str = ''):\n",
    "        tokens = self.tokenizer(query, return_tensors='pt')\n",
    "        with torch.no_grad():\n",
    "            text_embedding = self.text_encoder(input_ids=tokens[\"input_ids\"].to(self.device),\n",
    "                                               attention_mask=tokens[\"attention_mask\"].to(self.device)).pooler_output\n",
    "        return text_embedding\n",
    "\n",
    "    def image_query_embedding(self, image):\n",
    "        image = VisionDataset.preprocess(image).unsqueeze(0)\n",
    "        with torch.no_grad():\n",
    "            image_embedding = self.vision_encoder(\n",
    "                image.to(self.device)).pooler_output\n",
    "        return image_embedding\n",
    "\n",
    "    def most_similars(self, embeddings_1, embeddings_2):\n",
    "        values, indices = torch.cosine_similarity(\n",
    "            embeddings_1, embeddings_2).sort(descending=True)\n",
    "        return values.cpu(), indices.cpu()\n",
    "\n",
    "    def zero_shot(self, image_path: str):\n",
    "        \"\"\" Zero shot image classification with label list \n",
    "            Args:\n",
    "                image_path (str): target image path that is going to be classified\n",
    "                class_list (list[str]): list of candidate classes \n",
    "        \"\"\"\n",
    "        image = Image.open(image_path)\n",
    "        image_embedding = self.image_query_embedding(image)\n",
    "        values, indices = self.most_similars(image_embedding, self.text_embeddings_)\n",
    "        for i, sim in zip(indices, torch.softmax(values, dim=0)):\n",
    "            print(\n",
    "                f'label: {self.text[i]} | {round(float(sim), 3)}')\n",
    "        plt.imshow(image)\n",
    "        plt.axis('off')\n",
    "\n",
    "    def image_search(self, query: str, top_k=25):\n",
    "        \"\"\" Search images based on text query\n",
    "            Args:\n",
    "                query (str): text query \n",
    "                image_paths (list[str]): a bunch of image paths\n",
    "                top_k (int): number of relevant images \n",
    "        \"\"\"\n",
    "        query_embedding = self.text_query_embedding(query=query)\n",
    "        _, indices = self.most_similars(self.image_embeddings_, query_embedding)\n",
    "\n",
    "        matches = np.array(self.image_paths)[indices][:top_k]\n",
    "        _, axes = plt.subplots(2, int(top_k/2), figsize=(15, 5))\n",
    "        for match, ax in zip(matches, axes.flatten()):\n",
    "            ax.imshow(Image.open(match).resize((224, 224)))\n",
    "            ax.axis(\"off\")\n",
    "        plt.show()\n",
    "\n",
    "    def analogy(self, input_image_path: str, additional_text: str = '', input_include=True):\n",
    "        \"\"\" Analogies with embedding space arithmetic.\n",
    "            Args:\n",
    "                input_image_path (str): The path to original image \n",
    "                image_paths (list[str]): A database of images\n",
    "        \"\"\"\n",
    "        base_image = Image.open(input_image_path)\n",
    "        image_embedding = self.image_query_embedding(base_image)\n",
    "        additional_embedding = self.text_query_embedding(query=additional_text)\n",
    "        new_image_embedding = image_embedding + additional_embedding\n",
    "        _, indices = self.most_similars(\n",
    "            self.image_embeddings_, new_image_embedding)\n",
    "\n",
    "        new_image = Image.open(self.image_paths[indices[1 if input_include else 0]])\n",
    "        _, ax = plt.subplots(1, 2, dpi=100)\n",
    "        ax[0].imshow(base_image.resize((250, 250)))\n",
    "        ax[0].set_title('original image')\n",
    "        ax[0].axis('off')\n",
    "        ax[1].imshow(new_image.resize((250, 250)))\n",
    "        ax[1].set_title('new image')\n",
    "        ax[1].axis('off')"
   ]
  },
  {
   "cell_type": "code",
   "execution_count": 215,
   "metadata": {
    "ExecuteTime": {
     "end_time": "2023-05-08T21:16:10.620099Z",
     "start_time": "2023-05-08T21:16:08.253432Z"
    },
    "colab": {
     "base_uri": "https://localhost:8080/"
    },
    "id": "zvYO02X6JJsR",
    "outputId": "480c9e2a-3f59-4207-c48d-5f6c5ec580bf"
   },
   "outputs": [
    {
     "name": "stderr",
     "output_type": "stream",
     "text": [
      "computing image embeddings: 100%|███████████████| 84/84 [00:05<00:00, 14.35it/s]\n",
      "computing text embeddings: 100%|██████████████████| 1/1 [00:00<00:00, 31.32it/s]\n"
     ]
    }
   ],
   "source": [
    "search = CLIPDemo(vision_encoder, text_encoder, tokenizer)\n",
    "search.compute_image_embeddings(test_df.image.to_list())\n",
    "search.compute_text_embeddings(['alveolar', 'pulmonary', 'edema', 'cardiomegaly'])"
   ]
  },
  {
   "cell_type": "code",
   "execution_count": 216,
   "metadata": {
    "ExecuteTime": {
     "end_time": "2023-05-08T21:16:12.937008Z",
     "start_time": "2023-05-08T21:16:12.207416Z"
    },
    "colab": {
     "base_uri": "https://localhost:8080/",
     "height": 303
    },
    "id": "JIyJHXcgJKo0",
    "outputId": "f2c699d3-cb1f-4053-f06f-02d18b492455"
   },
   "outputs": [
    {
     "data": {
      "image/png": "[encoded data removed]",
      "text/plain": [
       "<Figure size 1500x500 with 24 Axes>"
      ]
     },
     "metadata": {},
     "output_type": "display_data"
    }
   ],
   "source": [
    "search.image_search('edema')"
   ]
  },
  {
   "cell_type": "code",
   "execution_count": 232,
   "metadata": {},
   "outputs": [
    {
     "data": {
      "text/plain": [
       "'there has been very little change in the mid multifocal infiltrative pulmonary abnormality always worsened in the left lung. also unchanged is the severely distended stomach. previous moderate cardiomegaly may have improved. pleural effusion if any is minimal. question was raised at conference yesterday about possibility of a left pneumothorax at the apex. today that possible in air collection is smaller, but there is a suggestion of either pneumomediastinum or medial pneumothorax. chest ct scanning would be a the clarify these findings. the indwelling right jugular central venous infusion port ends in the right atrium, as before. again seen is a large gastric air bubble. low lung volumes. stable appearance of the cardiomediastinal silhouettes. right chest port-a-cath with distal tip projecting over the right atrium, as on prior. left-greater-than-right airspace opacities are similar in appearance to prior chest x-ray, likely reflective of pulmonary vascular congestion and pulmonary edema, however again infection cannot be excluded in the correct clinical setting. overall, no appreciable interval change.'"
      ]
     },
     "execution_count": 232,
     "metadata": {},
     "output_type": "execute_result"
    }
   ],
   "source": [
    "test[\"caption\"][100]"
   ]
  },
  {
   "cell_type": "code",
   "execution_count": 230,
   "metadata": {
    "ExecuteTime": {
     "end_time": "2023-05-08T21:16:15.601384Z",
     "start_time": "2023-05-08T21:16:15.450474Z"
    },
    "colab": {
     "base_uri": "https://localhost:8080/",
     "height": 344
    },
    "id": "tDbexE38JNlS",
    "outputId": "dd28bdf2-f5bb-416c-9d18-d401726331e4"
   },
   "outputs": [
    {
     "name": "stdout",
     "output_type": "stream",
     "text": [
      "label: alveolar | 0.259\n",
      "label: edema | 0.252\n",
      "label: pulmonary | 0.25\n",
      "label: cardiomegaly | 0.239\n"
     ]
    },
    {
     "data": {
      "image/png": "[encoded data removed]",
      "text/plain": [
       "<Figure size 640x480 with 1 Axes>"
      ]
     },
     "metadata": {},
     "output_type": "display_data"
    }
   ],
   "source": [
    "search.zero_shot(f'{test[\"image\"][100]}')"
   ]
  },
  {
   "cell_type": "code",
   "execution_count": 221,
   "metadata": {},
   "outputs": [],
   "source": [
    "loc = test['image'][254]"
   ]
  },
  {
   "cell_type": "code",
   "execution_count": 229,
   "metadata": {
    "ExecuteTime": {
     "end_time": "2023-05-08T21:16:19.675655Z",
     "start_time": "2023-05-08T21:16:19.461917Z"
    }
   },
   "outputs": [
    {
     "data": {
      "image/png": "[encoded data removed]",
      "text/plain": [
       "<Figure size 640x480 with 2 Axes>"
      ]
     },
     "metadata": {},
     "output_type": "display_data"
    }
   ],
   "source": [
    "search.analogy(f'{test[\"image\"][100]}')"
   ]
  },
  {
   "cell_type": "code",
   "execution_count": null,
   "metadata": {},
   "outputs": [],
   "source": []
  },
  {
   "cell_type": "markdown",
   "metadata": {},
   "source": [
    "## Old Code"
   ]
  },
  {
   "cell_type": "code",
   "execution_count": null,
   "metadata": {},
   "outputs": [],
   "source": []
  },
  {
   "cell_type": "code",
   "execution_count": 391,
   "metadata": {
    "ExecuteTime": {
     "end_time": "2023-05-12T21:44:27.093924Z",
     "start_time": "2023-05-12T21:44:27.066982Z"
    }
   },
   "outputs": [],
   "source": [
    "folder = \"/media/andrew/HD-GDU3/498/train/\"\n",
    "dataset = \"preprocess_metadata_train.csv\"\n",
    "#dataset = \"train.csv\"\n",
    "location = folder + dataset"
   ]
  },
  {
   "cell_type": "code",
   "execution_count": 392,
   "metadata": {
    "ExecuteTime": {
     "end_time": "2023-05-12T21:44:29.370461Z",
     "start_time": "2023-05-12T21:44:28.047840Z"
    },
    "collapsed": true,
    "jupyter": {
     "outputs_hidden": true
    },
    "tags": []
   },
   "outputs": [
    {
     "data": {
      "text/html": [
       "<div>\n",
       "<style scoped>\n",
       "    .dataframe tbody tr th:only-of-type {\n",
       "        vertical-align: middle;\n",
       "    }\n",
       "\n",
       "    .dataframe tbody tr th {\n",
       "        vertical-align: top;\n",
       "    }\n",
       "\n",
       "    .dataframe thead th {\n",
       "        text-align: right;\n",
       "    }\n",
       "</style>\n",
       "<table border=\"1\" class=\"dataframe\">\n",
       "  <thead>\n",
       "    <tr style=\"text-align: right;\">\n",
       "      <th></th>\n",
       "      <th>dicom_id</th>\n",
       "      <th>subject_id</th>\n",
       "      <th>study_id</th>\n",
       "      <th>orig_img_path</th>\n",
       "      <th>orig_img_height</th>\n",
       "      <th>orig_img_width</th>\n",
       "      <th>crop_img_path</th>\n",
       "      <th>crop_img_height</th>\n",
       "      <th>crop_img_width</th>\n",
       "      <th>padded_img_path</th>\n",
       "      <th>padding_delta_height</th>\n",
       "      <th>padding_delta_width</th>\n",
       "      <th>padded_img_height</th>\n",
       "      <th>padded_img_width</th>\n",
       "      <th>resized_img_path</th>\n",
       "      <th>resized_img_height</th>\n",
       "      <th>resized_img_width</th>\n",
       "    </tr>\n",
       "  </thead>\n",
       "  <tbody>\n",
       "    <tr>\n",
       "      <th>0</th>\n",
       "      <td>54d5a69b-3e80e7ce-5d561bc1-ebe0e717-fb50c1b7</td>\n",
       "      <td>19869118</td>\n",
       "      <td>56152811</td>\n",
       "      <td>/Volumes/PRO-G40/msds498/files/p19/p19869118/s...</td>\n",
       "      <td>3050</td>\n",
       "      <td>2539</td>\n",
       "      <td>/Volumes/PRO-G40/msds498/output/cropped/198691...</td>\n",
       "      <td>2537</td>\n",
       "      <td>3047</td>\n",
       "      <td>/Volumes/PRO-G40/msds498/output/padded/1986911...</td>\n",
       "      <td>510</td>\n",
       "      <td>0</td>\n",
       "      <td>3047</td>\n",
       "      <td>3047</td>\n",
       "      <td>/Volumes/PRO-G40/msds498/output/resized/198691...</td>\n",
       "      <td>224</td>\n",
       "      <td>224</td>\n",
       "    </tr>\n",
       "    <tr>\n",
       "      <th>1</th>\n",
       "      <td>54d5a69b-3e80e7ce-5d561bc1-ebe0e717-fb50c1b7</td>\n",
       "      <td>19869118</td>\n",
       "      <td>56152811</td>\n",
       "      <td>/Volumes/PRO-G40/msds498/files/p19/p19869118/s...</td>\n",
       "      <td>3050</td>\n",
       "      <td>2539</td>\n",
       "      <td>/Volumes/PRO-G40/msds498/output/cropped/198691...</td>\n",
       "      <td>2537</td>\n",
       "      <td>3047</td>\n",
       "      <td>/Volumes/PRO-G40/msds498/output/padded/1986911...</td>\n",
       "      <td>510</td>\n",
       "      <td>0</td>\n",
       "      <td>3047</td>\n",
       "      <td>3047</td>\n",
       "      <td>/Volumes/PRO-G40/msds498/output/resized/198691...</td>\n",
       "      <td>224</td>\n",
       "      <td>224</td>\n",
       "    </tr>\n",
       "    <tr>\n",
       "      <th>2</th>\n",
       "      <td>54d5a69b-3e80e7ce-5d561bc1-ebe0e717-fb50c1b7</td>\n",
       "      <td>19869118</td>\n",
       "      <td>56152811</td>\n",
       "      <td>/Volumes/PRO-G40/msds498/files/p19/p19869118/s...</td>\n",
       "      <td>3050</td>\n",
       "      <td>2539</td>\n",
       "      <td>/Volumes/PRO-G40/msds498/output/cropped/198691...</td>\n",
       "      <td>2537</td>\n",
       "      <td>3047</td>\n",
       "      <td>/Volumes/PRO-G40/msds498/output/padded/1986911...</td>\n",
       "      <td>510</td>\n",
       "      <td>0</td>\n",
       "      <td>3047</td>\n",
       "      <td>3047</td>\n",
       "      <td>/Volumes/PRO-G40/msds498/output/resized/198691...</td>\n",
       "      <td>224</td>\n",
       "      <td>224</td>\n",
       "    </tr>\n",
       "    <tr>\n",
       "      <th>3</th>\n",
       "      <td>54d5a69b-3e80e7ce-5d561bc1-ebe0e717-fb50c1b7</td>\n",
       "      <td>19869118</td>\n",
       "      <td>56152811</td>\n",
       "      <td>/Volumes/PRO-G40/msds498/files/p19/p19869118/s...</td>\n",
       "      <td>3050</td>\n",
       "      <td>2539</td>\n",
       "      <td>/Volumes/PRO-G40/msds498/output/cropped/198691...</td>\n",
       "      <td>2537</td>\n",
       "      <td>3047</td>\n",
       "      <td>/Volumes/PRO-G40/msds498/output/padded/1986911...</td>\n",
       "      <td>510</td>\n",
       "      <td>0</td>\n",
       "      <td>3047</td>\n",
       "      <td>3047</td>\n",
       "      <td>/Volumes/PRO-G40/msds498/output/resized/198691...</td>\n",
       "      <td>224</td>\n",
       "      <td>224</td>\n",
       "    </tr>\n",
       "    <tr>\n",
       "      <th>4</th>\n",
       "      <td>54d5a69b-3e80e7ce-5d561bc1-ebe0e717-fb50c1b7</td>\n",
       "      <td>19869118</td>\n",
       "      <td>56152811</td>\n",
       "      <td>/Volumes/PRO-G40/msds498/files/p19/p19869118/s...</td>\n",
       "      <td>3050</td>\n",
       "      <td>2539</td>\n",
       "      <td>/Volumes/PRO-G40/msds498/output/cropped/198691...</td>\n",
       "      <td>2537</td>\n",
       "      <td>3047</td>\n",
       "      <td>/Volumes/PRO-G40/msds498/output/padded/1986911...</td>\n",
       "      <td>510</td>\n",
       "      <td>0</td>\n",
       "      <td>3047</td>\n",
       "      <td>3047</td>\n",
       "      <td>/Volumes/PRO-G40/msds498/output/resized/198691...</td>\n",
       "      <td>224</td>\n",
       "      <td>224</td>\n",
       "    </tr>\n",
       "  </tbody>\n",
       "</table>\n",
       "</div>"
      ],
      "text/plain": [
       "                                       dicom_id  subject_id  study_id  \\\n",
       "0  54d5a69b-3e80e7ce-5d561bc1-ebe0e717-fb50c1b7    19869118  56152811   \n",
       "1  54d5a69b-3e80e7ce-5d561bc1-ebe0e717-fb50c1b7    19869118  56152811   \n",
       "2  54d5a69b-3e80e7ce-5d561bc1-ebe0e717-fb50c1b7    19869118  56152811   \n",
       "3  54d5a69b-3e80e7ce-5d561bc1-ebe0e717-fb50c1b7    19869118  56152811   \n",
       "4  54d5a69b-3e80e7ce-5d561bc1-ebe0e717-fb50c1b7    19869118  56152811   \n",
       "\n",
       "                                       orig_img_path  orig_img_height  \\\n",
       "0  /Volumes/PRO-G40/msds498/files/p19/p19869118/s...             3050   \n",
       "1  /Volumes/PRO-G40/msds498/files/p19/p19869118/s...             3050   \n",
       "2  /Volumes/PRO-G40/msds498/files/p19/p19869118/s...             3050   \n",
       "3  /Volumes/PRO-G40/msds498/files/p19/p19869118/s...             3050   \n",
       "4  /Volumes/PRO-G40/msds498/files/p19/p19869118/s...             3050   \n",
       "\n",
       "   orig_img_width                                      crop_img_path  \\\n",
       "0            2539  /Volumes/PRO-G40/msds498/output/cropped/198691...   \n",
       "1            2539  /Volumes/PRO-G40/msds498/output/cropped/198691...   \n",
       "2            2539  /Volumes/PRO-G40/msds498/output/cropped/198691...   \n",
       "3            2539  /Volumes/PRO-G40/msds498/output/cropped/198691...   \n",
       "4            2539  /Volumes/PRO-G40/msds498/output/cropped/198691...   \n",
       "\n",
       "   crop_img_height  crop_img_width  \\\n",
       "0             2537            3047   \n",
       "1             2537            3047   \n",
       "2             2537            3047   \n",
       "3             2537            3047   \n",
       "4             2537            3047   \n",
       "\n",
       "                                     padded_img_path  padding_delta_height  \\\n",
       "0  /Volumes/PRO-G40/msds498/output/padded/1986911...                   510   \n",
       "1  /Volumes/PRO-G40/msds498/output/padded/1986911...                   510   \n",
       "2  /Volumes/PRO-G40/msds498/output/padded/1986911...                   510   \n",
       "3  /Volumes/PRO-G40/msds498/output/padded/1986911...                   510   \n",
       "4  /Volumes/PRO-G40/msds498/output/padded/1986911...                   510   \n",
       "\n",
       "   padding_delta_width  padded_img_height  padded_img_width  \\\n",
       "0                    0               3047              3047   \n",
       "1                    0               3047              3047   \n",
       "2                    0               3047              3047   \n",
       "3                    0               3047              3047   \n",
       "4                    0               3047              3047   \n",
       "\n",
       "                                    resized_img_path  resized_img_height  \\\n",
       "0  /Volumes/PRO-G40/msds498/output/resized/198691...                 224   \n",
       "1  /Volumes/PRO-G40/msds498/output/resized/198691...                 224   \n",
       "2  /Volumes/PRO-G40/msds498/output/resized/198691...                 224   \n",
       "3  /Volumes/PRO-G40/msds498/output/resized/198691...                 224   \n",
       "4  /Volumes/PRO-G40/msds498/output/resized/198691...                 224   \n",
       "\n",
       "   resized_img_width  \n",
       "0                224  \n",
       "1                224  \n",
       "2                224  \n",
       "3                224  \n",
       "4                224  "
      ]
     },
     "execution_count": 392,
     "metadata": {},
     "output_type": "execute_result"
    }
   ],
   "source": [
    "imageset = pd.read_csv(location)\n",
    "imageset.head()"
   ]
  },
  {
   "cell_type": "code",
   "execution_count": 384,
   "metadata": {},
   "outputs": [
    {
     "data": {
      "text/plain": [
       "'ff0ef993-08b09d98-34d71241-01bb236a-6e71ef75.jpg'"
      ]
     },
     "execution_count": 384,
     "metadata": {},
     "output_type": "execute_result"
    }
   ],
   "source": [
    "#os.path.split(imageset['resized_img_path'][0])[1]\n",
    "os.path.split(imageset['image'][0])[1]"
   ]
  },
  {
   "cell_type": "code",
   "execution_count": 390,
   "metadata": {},
   "outputs": [
    {
     "data": {
      "text/plain": [
       "'19869118_56152811_54d5a69b-3e80e7ce-5d561bc1-ebe0e717-fb50c1b7.jpg'"
      ]
     },
     "execution_count": 390,
     "metadata": {},
     "output_type": "execute_result"
    }
   ],
   "source": [
    "os.path.split(imageset['resized_img_path'][1])[1]"
   ]
  },
  {
   "cell_type": "code",
   "execution_count": 343,
   "metadata": {},
   "outputs": [
    {
     "data": {
      "text/plain": [
       "'/media/andrew/HD-GDU3/498/train/'"
      ]
     },
     "execution_count": 343,
     "metadata": {},
     "output_type": "execute_result"
    }
   ],
   "source": [
    "folder"
   ]
  },
  {
   "cell_type": "code",
   "execution_count": 354,
   "metadata": {},
   "outputs": [
    {
     "data": {
      "text/plain": [
       "'comparison to . the patient has been extubated and the nasogastric tube was removed. moderate cardiomegaly persists. the pacemaker is in stable position. also stable is the left-sided swan-ganz catheter. no pulmonary edema, minimal atelectasis at the right lung basis is stable.'"
      ]
     },
     "execution_count": 354,
     "metadata": {},
     "output_type": "execute_result"
    }
   ],
   "source": [
    "combine_texts(268, db=reports, as_sentences=False)"
   ]
  },
  {
   "cell_type": "code",
   "execution_count": 360,
   "metadata": {},
   "outputs": [
    {
     "data": {
      "text/plain": [
       "76059"
      ]
     },
     "execution_count": 360,
     "metadata": {},
     "output_type": "execute_result"
    }
   ],
   "source": [
    "reports.loc[reports['study_id'] == 57540554].index[0]"
   ]
  },
  {
   "cell_type": "code",
   "execution_count": 361,
   "metadata": {},
   "outputs": [
    {
     "data": {
      "text/plain": [
       "'the cardiomediastinal and hilar contours are within normal limits. the lungs are well expanded and clear. there is no large pleural effusion, pneumothorax or focal consolidation concerning for pneumonia. there is no evidence of free air. no acute cardiopulmonary process. no evidence of free air.'"
      ]
     },
     "execution_count": 361,
     "metadata": {},
     "output_type": "execute_result"
    }
   ],
   "source": [
    "combine_texts(reports.loc[reports['study_id'] == 57540554].index[0], db=reports, as_sentences=False)"
   ]
  },
  {
   "cell_type": "code",
   "execution_count": 365,
   "metadata": {
    "collapsed": true,
    "jupyter": {
     "outputs_hidden": true
    },
    "tags": []
   },
   "outputs": [
    {
     "data": {
      "text/html": [
       "<div>\n",
       "<style scoped>\n",
       "    .dataframe tbody tr th:only-of-type {\n",
       "        vertical-align: middle;\n",
       "    }\n",
       "\n",
       "    .dataframe tbody tr th {\n",
       "        vertical-align: top;\n",
       "    }\n",
       "\n",
       "    .dataframe thead th {\n",
       "        text-align: right;\n",
       "    }\n",
       "</style>\n",
       "<table border=\"1\" class=\"dataframe\">\n",
       "  <thead>\n",
       "    <tr style=\"text-align: right;\">\n",
       "      <th></th>\n",
       "      <th>dicom_id</th>\n",
       "      <th>subject_id</th>\n",
       "      <th>study_id</th>\n",
       "      <th>orig_img_path</th>\n",
       "      <th>orig_img_height</th>\n",
       "      <th>orig_img_width</th>\n",
       "      <th>crop_img_path</th>\n",
       "      <th>crop_img_height</th>\n",
       "      <th>crop_img_width</th>\n",
       "      <th>padded_img_path</th>\n",
       "      <th>padding_delta_height</th>\n",
       "      <th>padding_delta_width</th>\n",
       "      <th>padded_img_height</th>\n",
       "      <th>padded_img_width</th>\n",
       "      <th>resized_img_path</th>\n",
       "      <th>resized_img_height</th>\n",
       "      <th>resized_img_width</th>\n",
       "    </tr>\n",
       "  </thead>\n",
       "  <tbody>\n",
       "    <tr>\n",
       "      <th>0</th>\n",
       "      <td>54d5a69b-3e80e7ce-5d561bc1-ebe0e717-fb50c1b7</td>\n",
       "      <td>19869118</td>\n",
       "      <td>56152811</td>\n",
       "      <td>/Volumes/PRO-G40/msds498/files/p19/p19869118/s...</td>\n",
       "      <td>3050</td>\n",
       "      <td>2539</td>\n",
       "      <td>/Volumes/PRO-G40/msds498/output/cropped/198691...</td>\n",
       "      <td>2537</td>\n",
       "      <td>3047</td>\n",
       "      <td>/Volumes/PRO-G40/msds498/output/padded/1986911...</td>\n",
       "      <td>510</td>\n",
       "      <td>0</td>\n",
       "      <td>3047</td>\n",
       "      <td>3047</td>\n",
       "      <td>/Volumes/PRO-G40/msds498/output/resized/198691...</td>\n",
       "      <td>224</td>\n",
       "      <td>224</td>\n",
       "    </tr>\n",
       "    <tr>\n",
       "      <th>1</th>\n",
       "      <td>54d5a69b-3e80e7ce-5d561bc1-ebe0e717-fb50c1b7</td>\n",
       "      <td>19869118</td>\n",
       "      <td>56152811</td>\n",
       "      <td>/Volumes/PRO-G40/msds498/files/p19/p19869118/s...</td>\n",
       "      <td>3050</td>\n",
       "      <td>2539</td>\n",
       "      <td>/Volumes/PRO-G40/msds498/output/cropped/198691...</td>\n",
       "      <td>2537</td>\n",
       "      <td>3047</td>\n",
       "      <td>/Volumes/PRO-G40/msds498/output/padded/1986911...</td>\n",
       "      <td>510</td>\n",
       "      <td>0</td>\n",
       "      <td>3047</td>\n",
       "      <td>3047</td>\n",
       "      <td>/Volumes/PRO-G40/msds498/output/resized/198691...</td>\n",
       "      <td>224</td>\n",
       "      <td>224</td>\n",
       "    </tr>\n",
       "    <tr>\n",
       "      <th>2</th>\n",
       "      <td>54d5a69b-3e80e7ce-5d561bc1-ebe0e717-fb50c1b7</td>\n",
       "      <td>19869118</td>\n",
       "      <td>56152811</td>\n",
       "      <td>/Volumes/PRO-G40/msds498/files/p19/p19869118/s...</td>\n",
       "      <td>3050</td>\n",
       "      <td>2539</td>\n",
       "      <td>/Volumes/PRO-G40/msds498/output/cropped/198691...</td>\n",
       "      <td>2537</td>\n",
       "      <td>3047</td>\n",
       "      <td>/Volumes/PRO-G40/msds498/output/padded/1986911...</td>\n",
       "      <td>510</td>\n",
       "      <td>0</td>\n",
       "      <td>3047</td>\n",
       "      <td>3047</td>\n",
       "      <td>/Volumes/PRO-G40/msds498/output/resized/198691...</td>\n",
       "      <td>224</td>\n",
       "      <td>224</td>\n",
       "    </tr>\n",
       "    <tr>\n",
       "      <th>3</th>\n",
       "      <td>54d5a69b-3e80e7ce-5d561bc1-ebe0e717-fb50c1b7</td>\n",
       "      <td>19869118</td>\n",
       "      <td>56152811</td>\n",
       "      <td>/Volumes/PRO-G40/msds498/files/p19/p19869118/s...</td>\n",
       "      <td>3050</td>\n",
       "      <td>2539</td>\n",
       "      <td>/Volumes/PRO-G40/msds498/output/cropped/198691...</td>\n",
       "      <td>2537</td>\n",
       "      <td>3047</td>\n",
       "      <td>/Volumes/PRO-G40/msds498/output/padded/1986911...</td>\n",
       "      <td>510</td>\n",
       "      <td>0</td>\n",
       "      <td>3047</td>\n",
       "      <td>3047</td>\n",
       "      <td>/Volumes/PRO-G40/msds498/output/resized/198691...</td>\n",
       "      <td>224</td>\n",
       "      <td>224</td>\n",
       "    </tr>\n",
       "    <tr>\n",
       "      <th>4</th>\n",
       "      <td>54d5a69b-3e80e7ce-5d561bc1-ebe0e717-fb50c1b7</td>\n",
       "      <td>19869118</td>\n",
       "      <td>56152811</td>\n",
       "      <td>/Volumes/PRO-G40/msds498/files/p19/p19869118/s...</td>\n",
       "      <td>3050</td>\n",
       "      <td>2539</td>\n",
       "      <td>/Volumes/PRO-G40/msds498/output/cropped/198691...</td>\n",
       "      <td>2537</td>\n",
       "      <td>3047</td>\n",
       "      <td>/Volumes/PRO-G40/msds498/output/padded/1986911...</td>\n",
       "      <td>510</td>\n",
       "      <td>0</td>\n",
       "      <td>3047</td>\n",
       "      <td>3047</td>\n",
       "      <td>/Volumes/PRO-G40/msds498/output/resized/198691...</td>\n",
       "      <td>224</td>\n",
       "      <td>224</td>\n",
       "    </tr>\n",
       "    <tr>\n",
       "      <th>...</th>\n",
       "      <td>...</td>\n",
       "      <td>...</td>\n",
       "      <td>...</td>\n",
       "      <td>...</td>\n",
       "      <td>...</td>\n",
       "      <td>...</td>\n",
       "      <td>...</td>\n",
       "      <td>...</td>\n",
       "      <td>...</td>\n",
       "      <td>...</td>\n",
       "      <td>...</td>\n",
       "      <td>...</td>\n",
       "      <td>...</td>\n",
       "      <td>...</td>\n",
       "      <td>...</td>\n",
       "      <td>...</td>\n",
       "      <td>...</td>\n",
       "    </tr>\n",
       "    <tr>\n",
       "      <th>57579</th>\n",
       "      <td>54d5a69b-3e80e7ce-5d561bc1-ebe0e717-fb50c1b7</td>\n",
       "      <td>19869118</td>\n",
       "      <td>56152811</td>\n",
       "      <td>/Volumes/PRO-G40/msds498/files/p19/p19869118/s...</td>\n",
       "      <td>3050</td>\n",
       "      <td>2539</td>\n",
       "      <td>/Volumes/PRO-G40/msds498/output/cropped/198691...</td>\n",
       "      <td>2537</td>\n",
       "      <td>3047</td>\n",
       "      <td>/Volumes/PRO-G40/msds498/output/padded/1986911...</td>\n",
       "      <td>510</td>\n",
       "      <td>0</td>\n",
       "      <td>3047</td>\n",
       "      <td>3047</td>\n",
       "      <td>/Volumes/PRO-G40/msds498/output/resized/198691...</td>\n",
       "      <td>224</td>\n",
       "      <td>224</td>\n",
       "    </tr>\n",
       "    <tr>\n",
       "      <th>57580</th>\n",
       "      <td>54d5a69b-3e80e7ce-5d561bc1-ebe0e717-fb50c1b7</td>\n",
       "      <td>19869118</td>\n",
       "      <td>56152811</td>\n",
       "      <td>/Volumes/PRO-G40/msds498/files/p19/p19869118/s...</td>\n",
       "      <td>3050</td>\n",
       "      <td>2539</td>\n",
       "      <td>/Volumes/PRO-G40/msds498/output/cropped/198691...</td>\n",
       "      <td>2537</td>\n",
       "      <td>3047</td>\n",
       "      <td>/Volumes/PRO-G40/msds498/output/padded/1986911...</td>\n",
       "      <td>510</td>\n",
       "      <td>0</td>\n",
       "      <td>3047</td>\n",
       "      <td>3047</td>\n",
       "      <td>/Volumes/PRO-G40/msds498/output/resized/198691...</td>\n",
       "      <td>224</td>\n",
       "      <td>224</td>\n",
       "    </tr>\n",
       "    <tr>\n",
       "      <th>57581</th>\n",
       "      <td>54d5a69b-3e80e7ce-5d561bc1-ebe0e717-fb50c1b7</td>\n",
       "      <td>19869118</td>\n",
       "      <td>56152811</td>\n",
       "      <td>/Volumes/PRO-G40/msds498/files/p19/p19869118/s...</td>\n",
       "      <td>3050</td>\n",
       "      <td>2539</td>\n",
       "      <td>/Volumes/PRO-G40/msds498/output/cropped/198691...</td>\n",
       "      <td>2537</td>\n",
       "      <td>3047</td>\n",
       "      <td>/Volumes/PRO-G40/msds498/output/padded/1986911...</td>\n",
       "      <td>510</td>\n",
       "      <td>0</td>\n",
       "      <td>3047</td>\n",
       "      <td>3047</td>\n",
       "      <td>/Volumes/PRO-G40/msds498/output/resized/198691...</td>\n",
       "      <td>224</td>\n",
       "      <td>224</td>\n",
       "    </tr>\n",
       "    <tr>\n",
       "      <th>57582</th>\n",
       "      <td>54d5a69b-3e80e7ce-5d561bc1-ebe0e717-fb50c1b7</td>\n",
       "      <td>19869118</td>\n",
       "      <td>56152811</td>\n",
       "      <td>/Volumes/PRO-G40/msds498/files/p19/p19869118/s...</td>\n",
       "      <td>3050</td>\n",
       "      <td>2539</td>\n",
       "      <td>/Volumes/PRO-G40/msds498/output/cropped/198691...</td>\n",
       "      <td>2537</td>\n",
       "      <td>3047</td>\n",
       "      <td>/Volumes/PRO-G40/msds498/output/padded/1986911...</td>\n",
       "      <td>510</td>\n",
       "      <td>0</td>\n",
       "      <td>3047</td>\n",
       "      <td>3047</td>\n",
       "      <td>/Volumes/PRO-G40/msds498/output/resized/198691...</td>\n",
       "      <td>224</td>\n",
       "      <td>224</td>\n",
       "    </tr>\n",
       "    <tr>\n",
       "      <th>57583</th>\n",
       "      <td>54d5a69b-3e80e7ce-5d561bc1-ebe0e717-fb50c1b7</td>\n",
       "      <td>19869118</td>\n",
       "      <td>56152811</td>\n",
       "      <td>/Volumes/PRO-G40/msds498/files/p19/p19869118/s...</td>\n",
       "      <td>3050</td>\n",
       "      <td>2539</td>\n",
       "      <td>/Volumes/PRO-G40/msds498/output/cropped/198691...</td>\n",
       "      <td>2537</td>\n",
       "      <td>3047</td>\n",
       "      <td>/Volumes/PRO-G40/msds498/output/padded/1986911...</td>\n",
       "      <td>510</td>\n",
       "      <td>0</td>\n",
       "      <td>3047</td>\n",
       "      <td>3047</td>\n",
       "      <td>/Volumes/PRO-G40/msds498/output/resized/198691...</td>\n",
       "      <td>224</td>\n",
       "      <td>224</td>\n",
       "    </tr>\n",
       "  </tbody>\n",
       "</table>\n",
       "<p>57584 rows × 17 columns</p>\n",
       "</div>"
      ],
      "text/plain": [
       "                                           dicom_id  subject_id  study_id  \\\n",
       "0      54d5a69b-3e80e7ce-5d561bc1-ebe0e717-fb50c1b7    19869118  56152811   \n",
       "1      54d5a69b-3e80e7ce-5d561bc1-ebe0e717-fb50c1b7    19869118  56152811   \n",
       "2      54d5a69b-3e80e7ce-5d561bc1-ebe0e717-fb50c1b7    19869118  56152811   \n",
       "3      54d5a69b-3e80e7ce-5d561bc1-ebe0e717-fb50c1b7    19869118  56152811   \n",
       "4      54d5a69b-3e80e7ce-5d561bc1-ebe0e717-fb50c1b7    19869118  56152811   \n",
       "...                                             ...         ...       ...   \n",
       "57579  54d5a69b-3e80e7ce-5d561bc1-ebe0e717-fb50c1b7    19869118  56152811   \n",
       "57580  54d5a69b-3e80e7ce-5d561bc1-ebe0e717-fb50c1b7    19869118  56152811   \n",
       "57581  54d5a69b-3e80e7ce-5d561bc1-ebe0e717-fb50c1b7    19869118  56152811   \n",
       "57582  54d5a69b-3e80e7ce-5d561bc1-ebe0e717-fb50c1b7    19869118  56152811   \n",
       "57583  54d5a69b-3e80e7ce-5d561bc1-ebe0e717-fb50c1b7    19869118  56152811   \n",
       "\n",
       "                                           orig_img_path  orig_img_height  \\\n",
       "0      /Volumes/PRO-G40/msds498/files/p19/p19869118/s...             3050   \n",
       "1      /Volumes/PRO-G40/msds498/files/p19/p19869118/s...             3050   \n",
       "2      /Volumes/PRO-G40/msds498/files/p19/p19869118/s...             3050   \n",
       "3      /Volumes/PRO-G40/msds498/files/p19/p19869118/s...             3050   \n",
       "4      /Volumes/PRO-G40/msds498/files/p19/p19869118/s...             3050   \n",
       "...                                                  ...              ...   \n",
       "57579  /Volumes/PRO-G40/msds498/files/p19/p19869118/s...             3050   \n",
       "57580  /Volumes/PRO-G40/msds498/files/p19/p19869118/s...             3050   \n",
       "57581  /Volumes/PRO-G40/msds498/files/p19/p19869118/s...             3050   \n",
       "57582  /Volumes/PRO-G40/msds498/files/p19/p19869118/s...             3050   \n",
       "57583  /Volumes/PRO-G40/msds498/files/p19/p19869118/s...             3050   \n",
       "\n",
       "       orig_img_width                                      crop_img_path  \\\n",
       "0                2539  /Volumes/PRO-G40/msds498/output/cropped/198691...   \n",
       "1                2539  /Volumes/PRO-G40/msds498/output/cropped/198691...   \n",
       "2                2539  /Volumes/PRO-G40/msds498/output/cropped/198691...   \n",
       "3                2539  /Volumes/PRO-G40/msds498/output/cropped/198691...   \n",
       "4                2539  /Volumes/PRO-G40/msds498/output/cropped/198691...   \n",
       "...               ...                                                ...   \n",
       "57579            2539  /Volumes/PRO-G40/msds498/output/cropped/198691...   \n",
       "57580            2539  /Volumes/PRO-G40/msds498/output/cropped/198691...   \n",
       "57581            2539  /Volumes/PRO-G40/msds498/output/cropped/198691...   \n",
       "57582            2539  /Volumes/PRO-G40/msds498/output/cropped/198691...   \n",
       "57583            2539  /Volumes/PRO-G40/msds498/output/cropped/198691...   \n",
       "\n",
       "       crop_img_height  crop_img_width  \\\n",
       "0                 2537            3047   \n",
       "1                 2537            3047   \n",
       "2                 2537            3047   \n",
       "3                 2537            3047   \n",
       "4                 2537            3047   \n",
       "...                ...             ...   \n",
       "57579             2537            3047   \n",
       "57580             2537            3047   \n",
       "57581             2537            3047   \n",
       "57582             2537            3047   \n",
       "57583             2537            3047   \n",
       "\n",
       "                                         padded_img_path  \\\n",
       "0      /Volumes/PRO-G40/msds498/output/padded/1986911...   \n",
       "1      /Volumes/PRO-G40/msds498/output/padded/1986911...   \n",
       "2      /Volumes/PRO-G40/msds498/output/padded/1986911...   \n",
       "3      /Volumes/PRO-G40/msds498/output/padded/1986911...   \n",
       "4      /Volumes/PRO-G40/msds498/output/padded/1986911...   \n",
       "...                                                  ...   \n",
       "57579  /Volumes/PRO-G40/msds498/output/padded/1986911...   \n",
       "57580  /Volumes/PRO-G40/msds498/output/padded/1986911...   \n",
       "57581  /Volumes/PRO-G40/msds498/output/padded/1986911...   \n",
       "57582  /Volumes/PRO-G40/msds498/output/padded/1986911...   \n",
       "57583  /Volumes/PRO-G40/msds498/output/padded/1986911...   \n",
       "\n",
       "       padding_delta_height  padding_delta_width  padded_img_height  \\\n",
       "0                       510                    0               3047   \n",
       "1                       510                    0               3047   \n",
       "2                       510                    0               3047   \n",
       "3                       510                    0               3047   \n",
       "4                       510                    0               3047   \n",
       "...                     ...                  ...                ...   \n",
       "57579                   510                    0               3047   \n",
       "57580                   510                    0               3047   \n",
       "57581                   510                    0               3047   \n",
       "57582                   510                    0               3047   \n",
       "57583                   510                    0               3047   \n",
       "\n",
       "       padded_img_width                                   resized_img_path  \\\n",
       "0                  3047  /Volumes/PRO-G40/msds498/output/resized/198691...   \n",
       "1                  3047  /Volumes/PRO-G40/msds498/output/resized/198691...   \n",
       "2                  3047  /Volumes/PRO-G40/msds498/output/resized/198691...   \n",
       "3                  3047  /Volumes/PRO-G40/msds498/output/resized/198691...   \n",
       "4                  3047  /Volumes/PRO-G40/msds498/output/resized/198691...   \n",
       "...                 ...                                                ...   \n",
       "57579              3047  /Volumes/PRO-G40/msds498/output/resized/198691...   \n",
       "57580              3047  /Volumes/PRO-G40/msds498/output/resized/198691...   \n",
       "57581              3047  /Volumes/PRO-G40/msds498/output/resized/198691...   \n",
       "57582              3047  /Volumes/PRO-G40/msds498/output/resized/198691...   \n",
       "57583              3047  /Volumes/PRO-G40/msds498/output/resized/198691...   \n",
       "\n",
       "       resized_img_height  resized_img_width  \n",
       "0                     224                224  \n",
       "1                     224                224  \n",
       "2                     224                224  \n",
       "3                     224                224  \n",
       "4                     224                224  \n",
       "...                   ...                ...  \n",
       "57579                 224                224  \n",
       "57580                 224                224  \n",
       "57581                 224                224  \n",
       "57582                 224                224  \n",
       "57583                 224                224  \n",
       "\n",
       "[57584 rows x 17 columns]"
      ]
     },
     "execution_count": 365,
     "metadata": {},
     "output_type": "execute_result"
    }
   ],
   "source": [
    "imageset"
   ]
  },
  {
   "cell_type": "code",
   "execution_count": null,
   "metadata": {},
   "outputs": [],
   "source": []
  },
  {
   "cell_type": "code",
   "execution_count": 13,
   "metadata": {
    "ExecuteTime": {
     "end_time": "2023-05-11T14:57:18.633145Z",
     "start_time": "2023-05-11T14:57:13.389982Z"
    },
    "jupyter": {
     "source_hidden": true
    },
    "tags": []
   },
   "outputs": [],
   "source": [
    "for item in range(0, len(datasat_nest.sentences)):\n",
    "    for child in range(0, len(datasat_nest.sentences[item])):\n",
    "        record = create_record(\n",
    "            location = location, \n",
    "            caption = str(datasat_nest.sentences[item][child]['raw']).lower(),\n",
    "            image = str(datasat_nest.sentences[item][child]['imgid']+1)+'.jpeg'\n",
    "        )\n",
    "        satnet = pd.concat([satnet, record],ignore_index=True)\n",
    "#datasat_nest.sentences[1][1]['raw']"
   ]
  },
  {
   "cell_type": "code",
   "execution_count": null,
   "metadata": {},
   "outputs": [],
   "source": []
  },
  {
   "cell_type": "code",
   "execution_count": null,
   "metadata": {},
   "outputs": [],
   "source": []
  },
  {
   "cell_type": "code",
   "execution_count": null,
   "metadata": {},
   "outputs": [],
   "source": []
  },
  {
   "cell_type": "raw",
   "metadata": {},
   "source": [
    "def create_training_vectors(x, db = sample, headings = headings):\n",
    "    i = 0\n",
    "    state = [0,0,0]\n",
    "    for feature in headings:\n",
    "        if isinstance(db[feature][x], str):\n",
    "            state[i] = 1\n",
    "            print (sent_tokenize(preptext(x, db = db, feature = feature, exclude = headings)))\n",
    "        i += 1\n",
    "    \n",
    "    return (state)"
   ]
  },
  {
   "cell_type": "code",
   "execution_count": 60,
   "metadata": {
    "ExecuteTime": {
     "end_time": "2023-05-12T21:59:40.472795Z",
     "start_time": "2023-05-12T21:59:40.446406Z"
    }
   },
   "outputs": [],
   "source": []
  },
  {
   "cell_type": "code",
   "execution_count": 6,
   "metadata": {
    "ExecuteTime": {
     "end_time": "2023-05-11T14:57:07.364700Z",
     "start_time": "2023-05-11T14:57:07.045600Z"
    }
   },
   "outputs": [],
   "source": [
    "with open(location, 'r') as f:\n",
    "    data = json.loads(f.read())\n",
    "datasat_nest = pd.json_normalize(data, record_path=['images'])"
   ]
  },
  {
   "cell_type": "code",
   "execution_count": 7,
   "metadata": {
    "ExecuteTime": {
     "end_time": "2023-05-11T14:57:08.309636Z",
     "start_time": "2023-05-11T14:57:08.254487Z"
    },
    "collapsed": true,
    "jupyter": {
     "outputs_hidden": true
    },
    "tags": []
   },
   "outputs": [
    {
     "data": {
      "text/plain": [
       "[{'tokens': ['There', 'is', 'a', 'piece', 'of', 'formland'],\n",
       "  'raw': 'There is a piece of farmland .',\n",
       "  'imgid': 0,\n",
       "  'sentid': 0},\n",
       " {'tokens': ['There', 'is', 'a', 'piece', 'of', 'cropland'],\n",
       "  'raw': 'There is a piece of cropland .',\n",
       "  'imgid': 0,\n",
       "  'sentid': 1},\n",
       " {'tokens': ['It', 'is', 'a', 'piece', 'of', 'farmland'],\n",
       "  'raw': 'It is a piece of farmland .',\n",
       "  'imgid': 0,\n",
       "  'sentid': 2},\n",
       " {'tokens': ['It', 'is', 'a', 'piece', 'of', 'cropland'],\n",
       "  'raw': 'It is a piece of cropland .',\n",
       "  'imgid': 0,\n",
       "  'sentid': 3},\n",
       " {'tokens': ['Here', 'is', 'a', 'piece', 'of', 'farmland'],\n",
       "  'raw': 'Here is a piece of farmland .',\n",
       "  'imgid': 0,\n",
       "  'sentid': 4}]"
      ]
     },
     "execution_count": 7,
     "metadata": {},
     "output_type": "execute_result"
    }
   ],
   "source": [
    "datasat_nest.sentences[0]"
   ]
  },
  {
   "cell_type": "code",
   "execution_count": 8,
   "metadata": {
    "ExecuteTime": {
     "end_time": "2023-05-11T14:57:09.141280Z",
     "start_time": "2023-05-11T14:57:09.103489Z"
    },
    "tags": []
   },
   "outputs": [
    {
     "data": {
      "text/plain": [
       "2100"
      ]
     },
     "execution_count": 8,
     "metadata": {},
     "output_type": "execute_result"
    }
   ],
   "source": [
    "len(datasat_nest.sentences)"
   ]
  },
  {
   "cell_type": "code",
   "execution_count": 9,
   "metadata": {
    "ExecuteTime": {
     "end_time": "2023-05-11T14:57:09.903664Z",
     "start_time": "2023-05-11T14:57:09.868688Z"
    },
    "collapsed": true,
    "jupyter": {
     "outputs_hidden": true
    },
    "tags": []
   },
   "outputs": [
    {
     "data": {
      "text/plain": [
       "[{'tokens': ['This', 'is', 'a', 'chaparral'],\n",
       "  'raw': 'This is a chaparral .',\n",
       "  'imgid': 572,\n",
       "  'sentid': 2860},\n",
       " {'tokens': ['Lots', 'of', 'plants', 'scattered', 'on', 'the', 'ground.'],\n",
       "  'raw': 'Lots of plants scattered on the ground. .',\n",
       "  'imgid': 572,\n",
       "  'sentid': 2861},\n",
       " {'tokens': ['Lots',\n",
       "   'of',\n",
       "   'plants',\n",
       "   'scattered',\n",
       "   'in',\n",
       "   'the',\n",
       "   'loess',\n",
       "   'ground.'],\n",
       "  'raw': 'Lots of plants scattered in the loess ground. .',\n",
       "  'imgid': 572,\n",
       "  'sentid': 2862},\n",
       " {'tokens': ['There',\n",
       "   'are',\n",
       "   'some',\n",
       "   'grey',\n",
       "   'plants',\n",
       "   'scattered',\n",
       "   'on',\n",
       "   'the',\n",
       "   'ground'],\n",
       "  'raw': 'There are some grey plants scattered on the ground .',\n",
       "  'imgid': 572,\n",
       "  'sentid': 2863},\n",
       " {'tokens': ['Some',\n",
       "   'grey',\n",
       "   'plants',\n",
       "   'are',\n",
       "   'scattered',\n",
       "   'in',\n",
       "   'the',\n",
       "   'loess',\n",
       "   'ground'],\n",
       "  'raw': 'Some grey plants are scattered in the loess ground .',\n",
       "  'imgid': 572,\n",
       "  'sentid': 2864}]"
      ]
     },
     "execution_count": 9,
     "metadata": {},
     "output_type": "execute_result"
    }
   ],
   "source": [
    "datasat_nest.sentences[572]"
   ]
  },
  {
   "cell_type": "code",
   "execution_count": 10,
   "metadata": {
    "ExecuteTime": {
     "end_time": "2023-05-11T14:57:10.764683Z",
     "start_time": "2023-05-11T14:57:10.723107Z"
    },
    "tags": []
   },
   "outputs": [
    {
     "data": {
      "text/plain": [
       "{'tokens': ['There', 'is', 'a', 'piece', 'of', 'cropland'],\n",
       " 'raw': 'There is a piece of cropland .',\n",
       " 'imgid': 1,\n",
       " 'sentid': 6}"
      ]
     },
     "execution_count": 10,
     "metadata": {},
     "output_type": "execute_result"
    }
   ],
   "source": [
    "datasat_nest.sentences[1][1]"
   ]
  },
  {
   "cell_type": "code",
   "execution_count": 13,
   "metadata": {
    "ExecuteTime": {
     "end_time": "2023-05-11T14:57:18.633145Z",
     "start_time": "2023-05-11T14:57:13.389982Z"
    },
    "tags": []
   },
   "outputs": [],
   "source": [
    "for item in range(0, len(datasat_nest.sentences)):\n",
    "    for child in range(0, len(datasat_nest.sentences[item])):\n",
    "        record = create_record(\n",
    "            location = location, \n",
    "            caption = str(datasat_nest.sentences[item][child]['raw']).lower(),\n",
    "            image = str(datasat_nest.sentences[item][child]['imgid']+1)+'.jpeg'\n",
    "        )\n",
    "        satnet = pd.concat([satnet, record],ignore_index=True)\n",
    "#datasat_nest.sentences[1][1]['raw']"
   ]
  },
  {
   "cell_type": "code",
   "execution_count": 14,
   "metadata": {
    "ExecuteTime": {
     "end_time": "2023-05-11T14:57:18.691161Z",
     "start_time": "2023-05-11T14:57:18.638899Z"
    },
    "tags": []
   },
   "outputs": [
    {
     "data": {
      "text/html": [
       "<div>\n",
       "<style scoped>\n",
       "    .dataframe tbody tr th:only-of-type {\n",
       "        vertical-align: middle;\n",
       "    }\n",
       "\n",
       "    .dataframe tbody tr th {\n",
       "        vertical-align: top;\n",
       "    }\n",
       "\n",
       "    .dataframe thead th {\n",
       "        text-align: right;\n",
       "    }\n",
       "</style>\n",
       "<table border=\"1\" class=\"dataframe\">\n",
       "  <thead>\n",
       "    <tr style=\"text-align: right;\">\n",
       "      <th></th>\n",
       "      <th>caption</th>\n",
       "      <th>image</th>\n",
       "    </tr>\n",
       "  </thead>\n",
       "  <tbody>\n",
       "    <tr>\n",
       "      <th>10495</th>\n",
       "      <td>four tennis courts on the lawn with a road bes...</td>\n",
       "      <td>../CLIP_demo/UCM_captions/imgs/2100.jpeg</td>\n",
       "    </tr>\n",
       "    <tr>\n",
       "      <th>10496</th>\n",
       "      <td>four tennis courts are on the lawn and a road ...</td>\n",
       "      <td>../CLIP_demo/UCM_captions/imgs/2100.jpeg</td>\n",
       "    </tr>\n",
       "    <tr>\n",
       "      <th>10497</th>\n",
       "      <td>there are four tennis courts with a road and s...</td>\n",
       "      <td>../CLIP_demo/UCM_captions/imgs/2100.jpeg</td>\n",
       "    </tr>\n",
       "    <tr>\n",
       "      <th>10498</th>\n",
       "      <td>there are four tennis courts on the lawn and s...</td>\n",
       "      <td>../CLIP_demo/UCM_captions/imgs/2100.jpeg</td>\n",
       "    </tr>\n",
       "    <tr>\n",
       "      <th>10499</th>\n",
       "      <td>there are four tennis courts with a road and s...</td>\n",
       "      <td>../CLIP_demo/UCM_captions/imgs/2100.jpeg</td>\n",
       "    </tr>\n",
       "  </tbody>\n",
       "</table>\n",
       "</div>"
      ],
      "text/plain": [
       "                                                 caption  \\\n",
       "10495  four tennis courts on the lawn with a road bes...   \n",
       "10496  four tennis courts are on the lawn and a road ...   \n",
       "10497  there are four tennis courts with a road and s...   \n",
       "10498  there are four tennis courts on the lawn and s...   \n",
       "10499  there are four tennis courts with a road and s...   \n",
       "\n",
       "                                          image  \n",
       "10495  ../CLIP_demo/UCM_captions/imgs/2100.jpeg  \n",
       "10496  ../CLIP_demo/UCM_captions/imgs/2100.jpeg  \n",
       "10497  ../CLIP_demo/UCM_captions/imgs/2100.jpeg  \n",
       "10498  ../CLIP_demo/UCM_captions/imgs/2100.jpeg  \n",
       "10499  ../CLIP_demo/UCM_captions/imgs/2100.jpeg  "
      ]
     },
     "execution_count": 14,
     "metadata": {},
     "output_type": "execute_result"
    }
   ],
   "source": [
    "satnet.tail()"
   ]
  },
  {
   "cell_type": "code",
   "execution_count": 15,
   "metadata": {
    "ExecuteTime": {
     "end_time": "2023-05-11T14:57:18.691436Z",
     "start_time": "2023-05-11T14:57:18.681888Z"
    }
   },
   "outputs": [],
   "source": [
    "satnet.dropna().to_csv('../CLIP_demo/dataset_sat.csv', index=False)"
   ]
  }
 ],
 "metadata": {
  "accelerator": "GPU",
  "colab": {
   "name": "CLIPfa Training.ipynb",
   "provenance": []
  },
  "kernelspec": {
   "display_name": "Python 3 (ipykernel)",
   "language": "python",
   "name": "python3"
  },
  "language_info": {
   "codemirror_mode": {
    "name": "ipython",
    "version": 3
   },
   "file_extension": ".py",
   "mimetype": "text/x-python",
   "name": "python",
   "nbconvert_exporter": "python",
   "pygments_lexer": "ipython3",
   "version": "3.8.16"
  },
  "widgets": {
   "application/vnd.jupyter.widget-state+json": {
    "0112f6d5ad4e404dab7b2494b7a73b5f": {
     "model_module": "@jupyter-widgets/controls",
     "model_module_version": "1.5.0",
     "model_name": "ProgressStyleModel",
     "state": {
      "_model_module": "@jupyter-widgets/controls",
      "_model_module_version": "1.5.0",
      "_model_name": "ProgressStyleModel",
      "_view_count": null,
      "_view_module": "@jupyter-widgets/base",
      "_view_module_version": "1.2.0",
      "_view_name": "StyleView",
      "bar_color": null,
      "description_width": ""
     }
    },
    "0416c50f6fc141f98dd94b9bc900fa1b": {
     "model_module": "@jupyter-widgets/controls",
     "model_module_version": "1.5.0",
     "model_name": "HTMLModel",
     "state": {
      "_dom_classes": [],
      "_model_module": "@jupyter-widgets/controls",
      "_model_module_version": "1.5.0",
      "_model_name": "HTMLModel",
      "_view_count": null,
      "_view_module": "@jupyter-widgets/controls",
      "_view_module_version": "1.5.0",
      "_view_name": "HTMLView",
      "description": "",
      "description_tooltip": null,
      "layout": "IPY_MODEL_cf1045a933804e1fba1095140896f28a",
      "placeholder": "​",
      "style": "IPY_MODEL_13b3a412664545fd99e7553b1eee8606",
      "value": "Downloading: 100%"
     }
    },
    "04df1557da5a4b339274a95e375146d4": {
     "model_module": "@jupyter-widgets/controls",
     "model_module_version": "1.5.0",
     "model_name": "DescriptionStyleModel",
     "state": {
      "_model_module": "@jupyter-widgets/controls",
      "_model_module_version": "1.5.0",
      "_model_name": "DescriptionStyleModel",
      "_view_count": null,
      "_view_module": "@jupyter-widgets/base",
      "_view_module_version": "1.2.0",
      "_view_name": "StyleView",
      "description_width": ""
     }
    },
    "0bfdac4cbcf5432c8c42f5a245273714": {
     "model_module": "@jupyter-widgets/controls",
     "model_module_version": "1.5.0",
     "model_name": "ProgressStyleModel",
     "state": {
      "_model_module": "@jupyter-widgets/controls",
      "_model_module_version": "1.5.0",
      "_model_name": "ProgressStyleModel",
      "_view_count": null,
      "_view_module": "@jupyter-widgets/base",
      "_view_module_version": "1.2.0",
      "_view_name": "StyleView",
      "bar_color": null,
      "description_width": ""
     }
    },
    "116b6e522b2b49e28a49c0d3d2f89872": {
     "model_module": "@jupyter-widgets/controls",
     "model_module_version": "1.5.0",
     "model_name": "DescriptionStyleModel",
     "state": {
      "_model_module": "@jupyter-widgets/controls",
      "_model_module_version": "1.5.0",
      "_model_name": "DescriptionStyleModel",
      "_view_count": null,
      "_view_module": "@jupyter-widgets/base",
      "_view_module_version": "1.2.0",
      "_view_name": "StyleView",
      "description_width": ""
     }
    },
    "11b19b6aec0442129049194aa91f73e3": {
     "model_module": "@jupyter-widgets/base",
     "model_module_version": "1.2.0",
     "model_name": "LayoutModel",
     "state": {
      "_model_module": "@jupyter-widgets/base",
      "_model_module_version": "1.2.0",
      "_model_name": "LayoutModel",
      "_view_count": null,
      "_view_module": "@jupyter-widgets/base",
      "_view_module_version": "1.2.0",
      "_view_name": "LayoutView",
      "align_content": null,
      "align_items": null,
      "align_self": null,
      "border": null,
      "bottom": null,
      "display": null,
      "flex": null,
      "flex_flow": null,
      "grid_area": null,
      "grid_auto_columns": null,
      "grid_auto_flow": null,
      "grid_auto_rows": null,
      "grid_column": null,
      "grid_gap": null,
      "grid_row": null,
      "grid_template_areas": null,
      "grid_template_columns": null,
      "grid_template_rows": null,
      "height": null,
      "justify_content": null,
      "justify_items": null,
      "left": null,
      "margin": null,
      "max_height": null,
      "max_width": null,
      "min_height": null,
      "min_width": null,
      "object_fit": null,
      "object_position": null,
      "order": null,
      "overflow": null,
      "overflow_x": null,
      "overflow_y": null,
      "padding": null,
      "right": null,
      "top": null,
      "visibility": null,
      "width": null
     }
    },
    "1209ad8f655442c78f8795658e4ac89b": {
     "model_module": "@jupyter-widgets/controls",
     "model_module_version": "1.5.0",
     "model_name": "ProgressStyleModel",
     "state": {
      "_model_module": "@jupyter-widgets/controls",
      "_model_module_version": "1.5.0",
      "_model_name": "ProgressStyleModel",
      "_view_count": null,
      "_view_module": "@jupyter-widgets/base",
      "_view_module_version": "1.2.0",
      "_view_name": "StyleView",
      "bar_color": null,
      "description_width": ""
     }
    },
    "13b3a412664545fd99e7553b1eee8606": {
     "model_module": "@jupyter-widgets/controls",
     "model_module_version": "1.5.0",
     "model_name": "DescriptionStyleModel",
     "state": {
      "_model_module": "@jupyter-widgets/controls",
      "_model_module_version": "1.5.0",
      "_model_name": "DescriptionStyleModel",
      "_view_count": null,
      "_view_module": "@jupyter-widgets/base",
      "_view_module_version": "1.2.0",
      "_view_name": "StyleView",
      "description_width": ""
     }
    },
    "1405c34524b04bcbadf7de8e17f79000": {
     "model_module": "@jupyter-widgets/controls",
     "model_module_version": "1.5.0",
     "model_name": "HBoxModel",
     "state": {
      "_dom_classes": [],
      "_model_module": "@jupyter-widgets/controls",
      "_model_module_version": "1.5.0",
      "_model_name": "HBoxModel",
      "_view_count": null,
      "_view_module": "@jupyter-widgets/controls",
      "_view_module_version": "1.5.0",
      "_view_name": "HBoxView",
      "box_style": "",
      "children": [
       "IPY_MODEL_8c99ced0a75343098c23bcf73c4b0299",
       "IPY_MODEL_3c693a65d1c3495b97f4d262c667e1a3",
       "IPY_MODEL_e62b541bd0aa4759902b695ca20f4c34"
      ],
      "layout": "IPY_MODEL_e42357491bcc4a6abbad089265f0403f"
     }
    },
    "15f0ac435fde4f14a5efcefb065c8199": {
     "model_module": "@jupyter-widgets/controls",
     "model_module_version": "1.5.0",
     "model_name": "HTMLModel",
     "state": {
      "_dom_classes": [],
      "_model_module": "@jupyter-widgets/controls",
      "_model_module_version": "1.5.0",
      "_model_name": "HTMLModel",
      "_view_count": null,
      "_view_module": "@jupyter-widgets/controls",
      "_view_module_version": "1.5.0",
      "_view_name": "HTMLView",
      "description": "",
      "description_tooltip": null,
      "layout": "IPY_MODEL_70c58d0fee424052975e4e69c77891a2",
      "placeholder": "​",
      "style": "IPY_MODEL_ea986fd2545b49b58c3793c1cde9d853",
      "value": " 2.02M/2.02M [00:00&lt;00:00, 7.93MB/s]"
     }
    },
    "17d7bd8064b0482fab802ac80630df96": {
     "model_module": "@jupyter-widgets/controls",
     "model_module_version": "1.5.0",
     "model_name": "ProgressStyleModel",
     "state": {
      "_model_module": "@jupyter-widgets/controls",
      "_model_module_version": "1.5.0",
      "_model_name": "ProgressStyleModel",
      "_view_count": null,
      "_view_module": "@jupyter-widgets/base",
      "_view_module_version": "1.2.0",
      "_view_name": "StyleView",
      "bar_color": null,
      "description_width": ""
     }
    },
    "1ea85ebcd0d04f9bb227e34463676219": {
     "model_module": "@jupyter-widgets/controls",
     "model_module_version": "1.5.0",
     "model_name": "DescriptionStyleModel",
     "state": {
      "_model_module": "@jupyter-widgets/controls",
      "_model_module_version": "1.5.0",
      "_model_name": "DescriptionStyleModel",
      "_view_count": null,
      "_view_module": "@jupyter-widgets/base",
      "_view_module_version": "1.2.0",
      "_view_name": "StyleView",
      "description_width": ""
     }
    },
    "1ecf04063ebc4699b86da8223b968a36": {
     "model_module": "@jupyter-widgets/controls",
     "model_module_version": "1.5.0",
     "model_name": "HTMLModel",
     "state": {
      "_dom_classes": [],
      "_model_module": "@jupyter-widgets/controls",
      "_model_module_version": "1.5.0",
      "_model_name": "HTMLModel",
      "_view_count": null,
      "_view_module": "@jupyter-widgets/controls",
      "_view_module_version": "1.5.0",
      "_view_name": "HTMLView",
      "description": "",
      "description_tooltip": null,
      "layout": "IPY_MODEL_3546aaa44a0948b0b1b1fa79cb47e565",
      "placeholder": "​",
      "style": "IPY_MODEL_beb92264d4f64bb29fd08d07554a23e7",
      "value": "Downloading: 100%"
     }
    },
    "1effcb356232431299b709e5e48c7818": {
     "model_module": "@jupyter-widgets/controls",
     "model_module_version": "1.5.0",
     "model_name": "HTMLModel",
     "state": {
      "_dom_classes": [],
      "_model_module": "@jupyter-widgets/controls",
      "_model_module_version": "1.5.0",
      "_model_name": "HTMLModel",
      "_view_count": null,
      "_view_module": "@jupyter-widgets/controls",
      "_view_module_version": "1.5.0",
      "_view_name": "HTMLView",
      "description": "",
      "description_tooltip": null,
      "layout": "IPY_MODEL_c323d2a42adf4329b8dab0f69b826830",
      "placeholder": "​",
      "style": "IPY_MODEL_8a23ee23be6940649bbf8904fd15530e",
      "value": "Downloading: 100%"
     }
    },
    "1f7444dc6bba42a88330ef086ab01c73": {
     "model_module": "@jupyter-widgets/controls",
     "model_module_version": "1.5.0",
     "model_name": "HTMLModel",
     "state": {
      "_dom_classes": [],
      "_model_module": "@jupyter-widgets/controls",
      "_model_module_version": "1.5.0",
      "_model_name": "HTMLModel",
      "_view_count": null,
      "_view_module": "@jupyter-widgets/controls",
      "_view_module_version": "1.5.0",
      "_view_name": "HTMLView",
      "description": "",
      "description_tooltip": null,
      "layout": "IPY_MODEL_300e9e8bff8a42aea1d3555633a5dd3c",
      "placeholder": "​",
      "style": "IPY_MODEL_ddf5a845585b46fdacc0f036b9d81632",
      "value": " 239/239 [00:00&lt;00:00, 5.73kB/s]"
     }
    },
    "23ba07514fa746ebb2199fa55fae6e26": {
     "model_module": "@jupyter-widgets/controls",
     "model_module_version": "1.5.0",
     "model_name": "ProgressStyleModel",
     "state": {
      "_model_module": "@jupyter-widgets/controls",
      "_model_module_version": "1.5.0",
      "_model_name": "ProgressStyleModel",
      "_view_count": null,
      "_view_module": "@jupyter-widgets/base",
      "_view_module_version": "1.2.0",
      "_view_name": "StyleView",
      "bar_color": null,
      "description_width": ""
     }
    },
    "242f7a71c6094a5990ed8957eff8424c": {
     "model_module": "@jupyter-widgets/base",
     "model_module_version": "1.2.0",
     "model_name": "LayoutModel",
     "state": {
      "_model_module": "@jupyter-widgets/base",
      "_model_module_version": "1.2.0",
      "_model_name": "LayoutModel",
      "_view_count": null,
      "_view_module": "@jupyter-widgets/base",
      "_view_module_version": "1.2.0",
      "_view_name": "LayoutView",
      "align_content": null,
      "align_items": null,
      "align_self": null,
      "border": null,
      "bottom": null,
      "display": null,
      "flex": null,
      "flex_flow": null,
      "grid_area": null,
      "grid_auto_columns": null,
      "grid_auto_flow": null,
      "grid_auto_rows": null,
      "grid_column": null,
      "grid_gap": null,
      "grid_row": null,
      "grid_template_areas": null,
      "grid_template_columns": null,
      "grid_template_rows": null,
      "height": null,
      "justify_content": null,
      "justify_items": null,
      "left": null,
      "margin": null,
      "max_height": null,
      "max_width": null,
      "min_height": null,
      "min_width": null,
      "object_fit": null,
      "object_position": null,
      "order": null,
      "overflow": null,
      "overflow_x": null,
      "overflow_y": null,
      "padding": null,
      "right": null,
      "top": null,
      "visibility": null,
      "width": null
     }
    },
    "28566d1d4ae8473bbbcaa75074e9ccd9": {
     "model_module": "@jupyter-widgets/controls",
     "model_module_version": "1.5.0",
     "model_name": "FloatProgressModel",
     "state": {
      "_dom_classes": [],
      "_model_module": "@jupyter-widgets/controls",
      "_model_module_version": "1.5.0",
      "_model_name": "FloatProgressModel",
      "_view_count": null,
      "_view_module": "@jupyter-widgets/controls",
      "_view_module_version": "1.5.0",
      "_view_name": "ProgressView",
      "bar_style": "success",
      "description": "",
      "description_tooltip": null,
      "layout": "IPY_MODEL_b7046d2d97844662a59d2c4a40044b50",
      "max": 316,
      "min": 0,
      "orientation": "horizontal",
      "style": "IPY_MODEL_4ee3a26a373c4233b26b346f2256b290",
      "value": 316
     }
    },
    "300e9e8bff8a42aea1d3555633a5dd3c": {
     "model_module": "@jupyter-widgets/base",
     "model_module_version": "1.2.0",
     "model_name": "LayoutModel",
     "state": {
      "_model_module": "@jupyter-widgets/base",
      "_model_module_version": "1.2.0",
      "_model_name": "LayoutModel",
      "_view_count": null,
      "_view_module": "@jupyter-widgets/base",
      "_view_module_version": "1.2.0",
      "_view_name": "LayoutView",
      "align_content": null,
      "align_items": null,
      "align_self": null,
      "border": null,
      "bottom": null,
      "display": null,
      "flex": null,
      "flex_flow": null,
      "grid_area": null,
      "grid_auto_columns": null,
      "grid_auto_flow": null,
      "grid_auto_rows": null,
      "grid_column": null,
      "grid_gap": null,
      "grid_row": null,
      "grid_template_areas": null,
      "grid_template_columns": null,
      "grid_template_rows": null,
      "height": null,
      "justify_content": null,
      "justify_items": null,
      "left": null,
      "margin": null,
      "max_height": null,
      "max_width": null,
      "min_height": null,
      "min_width": null,
      "object_fit": null,
      "object_position": null,
      "order": null,
      "overflow": null,
      "overflow_x": null,
      "overflow_y": null,
      "padding": null,
      "right": null,
      "top": null,
      "visibility": null,
      "width": null
     }
    },
    "304395706f5b4ed39d7f22595a4a789f": {
     "model_module": "@jupyter-widgets/base",
     "model_module_version": "1.2.0",
     "model_name": "LayoutModel",
     "state": {
      "_model_module": "@jupyter-widgets/base",
      "_model_module_version": "1.2.0",
      "_model_name": "LayoutModel",
      "_view_count": null,
      "_view_module": "@jupyter-widgets/base",
      "_view_module_version": "1.2.0",
      "_view_name": "LayoutView",
      "align_content": null,
      "align_items": null,
      "align_self": null,
      "border": null,
      "bottom": null,
      "display": null,
      "flex": null,
      "flex_flow": null,
      "grid_area": null,
      "grid_auto_columns": null,
      "grid_auto_flow": null,
      "grid_auto_rows": null,
      "grid_column": null,
      "grid_gap": null,
      "grid_row": null,
      "grid_template_areas": null,
      "grid_template_columns": null,
      "grid_template_rows": null,
      "height": null,
      "justify_content": null,
      "justify_items": null,
      "left": null,
      "margin": null,
      "max_height": null,
      "max_width": null,
      "min_height": null,
      "min_width": null,
      "object_fit": null,
      "object_position": null,
      "order": null,
      "overflow": null,
      "overflow_x": null,
      "overflow_y": null,
      "padding": null,
      "right": null,
      "top": null,
      "visibility": null,
      "width": null
     }
    },
    "3546aaa44a0948b0b1b1fa79cb47e565": {
     "model_module": "@jupyter-widgets/base",
     "model_module_version": "1.2.0",
     "model_name": "LayoutModel",
     "state": {
      "_model_module": "@jupyter-widgets/base",
      "_model_module_version": "1.2.0",
      "_model_name": "LayoutModel",
      "_view_count": null,
      "_view_module": "@jupyter-widgets/base",
      "_view_module_version": "1.2.0",
      "_view_name": "LayoutView",
      "align_content": null,
      "align_items": null,
      "align_self": null,
      "border": null,
      "bottom": null,
      "display": null,
      "flex": null,
      "flex_flow": null,
      "grid_area": null,
      "grid_auto_columns": null,
      "grid_auto_flow": null,
      "grid_auto_rows": null,
      "grid_column": null,
      "grid_gap": null,
      "grid_row": null,
      "grid_template_areas": null,
      "grid_template_columns": null,
      "grid_template_rows": null,
      "height": null,
      "justify_content": null,
      "justify_items": null,
      "left": null,
      "margin": null,
      "max_height": null,
      "max_width": null,
      "min_height": null,
      "min_width": null,
      "object_fit": null,
      "object_position": null,
      "order": null,
      "overflow": null,
      "overflow_x": null,
      "overflow_y": null,
      "padding": null,
      "right": null,
      "top": null,
      "visibility": null,
      "width": null
     }
    },
    "36b51a8200ca48688e8ac8181ee7dbff": {
     "model_module": "@jupyter-widgets/controls",
     "model_module_version": "1.5.0",
     "model_name": "HBoxModel",
     "state": {
      "_dom_classes": [],
      "_model_module": "@jupyter-widgets/controls",
      "_model_module_version": "1.5.0",
      "_model_name": "HBoxModel",
      "_view_count": null,
      "_view_module": "@jupyter-widgets/controls",
      "_view_module_version": "1.5.0",
      "_view_name": "HBoxView",
      "box_style": "",
      "children": [
       "IPY_MODEL_1ecf04063ebc4699b86da8223b968a36",
       "IPY_MODEL_d1d659b2473b417c9cf85fa4ed931c0b",
       "IPY_MODEL_5206082e79ee48c08213481beb104e4d"
      ],
      "layout": "IPY_MODEL_304395706f5b4ed39d7f22595a4a789f"
     }
    },
    "3b9abd87ce784047b70d2a4ede7c9179": {
     "model_module": "@jupyter-widgets/controls",
     "model_module_version": "1.5.0",
     "model_name": "HBoxModel",
     "state": {
      "_dom_classes": [],
      "_model_module": "@jupyter-widgets/controls",
      "_model_module_version": "1.5.0",
      "_model_name": "HBoxModel",
      "_view_count": null,
      "_view_module": "@jupyter-widgets/controls",
      "_view_module_version": "1.5.0",
      "_view_name": "HBoxView",
      "box_style": "",
      "children": [
       "IPY_MODEL_0416c50f6fc141f98dd94b9bc900fa1b",
       "IPY_MODEL_7c068449b98c45d09fa43d74d29de5e2",
       "IPY_MODEL_6b9a2d8614f840b58fe76ebf20354596"
      ],
      "layout": "IPY_MODEL_e7e8dc57d44340d28c297fe56f03ec07"
     }
    },
    "3c693a65d1c3495b97f4d262c667e1a3": {
     "model_module": "@jupyter-widgets/controls",
     "model_module_version": "1.5.0",
     "model_name": "FloatProgressModel",
     "state": {
      "_dom_classes": [],
      "_model_module": "@jupyter-widgets/controls",
      "_model_module_version": "1.5.0",
      "_model_name": "FloatProgressModel",
      "_view_count": null,
      "_view_module": "@jupyter-widgets/controls",
      "_view_module_version": "1.5.0",
      "_view_name": "ProgressView",
      "bar_style": "success",
      "description": "",
      "description_tooltip": null,
      "layout": "IPY_MODEL_afae88fc61b440e7b087084715c4dc49",
      "max": 875476,
      "min": 0,
      "orientation": "horizontal",
      "style": "IPY_MODEL_17d7bd8064b0482fab802ac80630df96",
      "value": 875476
     }
    },
    "3d1ae69415f14011b4fda423b059a136": {
     "model_module": "@jupyter-widgets/base",
     "model_module_version": "1.2.0",
     "model_name": "LayoutModel",
     "state": {
      "_model_module": "@jupyter-widgets/base",
      "_model_module_version": "1.2.0",
      "_model_name": "LayoutModel",
      "_view_count": null,
      "_view_module": "@jupyter-widgets/base",
      "_view_module_version": "1.2.0",
      "_view_name": "LayoutView",
      "align_content": null,
      "align_items": null,
      "align_self": null,
      "border": null,
      "bottom": null,
      "display": null,
      "flex": null,
      "flex_flow": null,
      "grid_area": null,
      "grid_auto_columns": null,
      "grid_auto_flow": null,
      "grid_auto_rows": null,
      "grid_column": null,
      "grid_gap": null,
      "grid_row": null,
      "grid_template_areas": null,
      "grid_template_columns": null,
      "grid_template_rows": null,
      "height": null,
      "justify_content": null,
      "justify_items": null,
      "left": null,
      "margin": null,
      "max_height": null,
      "max_width": null,
      "min_height": null,
      "min_width": null,
      "object_fit": null,
      "object_position": null,
      "order": null,
      "overflow": null,
      "overflow_x": null,
      "overflow_y": null,
      "padding": null,
      "right": null,
      "top": null,
      "visibility": null,
      "width": null
     }
    },
    "3edd67bdadf14126befb2d92651e344a": {
     "model_module": "@jupyter-widgets/base",
     "model_module_version": "1.2.0",
     "model_name": "LayoutModel",
     "state": {
      "_model_module": "@jupyter-widgets/base",
      "_model_module_version": "1.2.0",
      "_model_name": "LayoutModel",
      "_view_count": null,
      "_view_module": "@jupyter-widgets/base",
      "_view_module_version": "1.2.0",
      "_view_name": "LayoutView",
      "align_content": null,
      "align_items": null,
      "align_self": null,
      "border": null,
      "bottom": null,
      "display": null,
      "flex": null,
      "flex_flow": null,
      "grid_area": null,
      "grid_auto_columns": null,
      "grid_auto_flow": null,
      "grid_auto_rows": null,
      "grid_column": null,
      "grid_gap": null,
      "grid_row": null,
      "grid_template_areas": null,
      "grid_template_columns": null,
      "grid_template_rows": null,
      "height": null,
      "justify_content": null,
      "justify_items": null,
      "left": null,
      "margin": null,
      "max_height": null,
      "max_width": null,
      "min_height": null,
      "min_width": null,
      "object_fit": null,
      "object_position": null,
      "order": null,
      "overflow": null,
      "overflow_x": null,
      "overflow_y": null,
      "padding": null,
      "right": null,
      "top": null,
      "visibility": null,
      "width": null
     }
    },
    "43873009a1974298b2fe236378c60416": {
     "model_module": "@jupyter-widgets/controls",
     "model_module_version": "1.5.0",
     "model_name": "HTMLModel",
     "state": {
      "_dom_classes": [],
      "_model_module": "@jupyter-widgets/controls",
      "_model_module_version": "1.5.0",
      "_model_name": "HTMLModel",
      "_view_count": null,
      "_view_module": "@jupyter-widgets/controls",
      "_view_module_version": "1.5.0",
      "_view_name": "HTMLView",
      "description": "",
      "description_tooltip": null,
      "layout": "IPY_MODEL_c3a881567cdd41e8a66155e5e34413eb",
      "placeholder": "​",
      "style": "IPY_MODEL_9d94ab6216144cc4a91ecb5417f94c6a",
      "value": " 316/316 [00:00&lt;00:00, 7.76kB/s]"
     }
    },
    "44da84dad2a3498a9bfd16b6e9ee526c": {
     "model_module": "@jupyter-widgets/controls",
     "model_module_version": "1.5.0",
     "model_name": "FloatProgressModel",
     "state": {
      "_dom_classes": [],
      "_model_module": "@jupyter-widgets/controls",
      "_model_module_version": "1.5.0",
      "_model_name": "FloatProgressModel",
      "_view_count": null,
      "_view_module": "@jupyter-widgets/controls",
      "_view_module_version": "1.5.0",
      "_view_name": "ProgressView",
      "bar_style": "success",
      "description": "",
      "description_tooltip": null,
      "layout": "IPY_MODEL_9ae255a0ed90451985934022af364d2f",
      "max": 605247071,
      "min": 0,
      "orientation": "horizontal",
      "style": "IPY_MODEL_1209ad8f655442c78f8795658e4ac89b",
      "value": 605247071
     }
    },
    "44fe6bab2ae04a7ca5cc4ef057960c9c": {
     "model_module": "@jupyter-widgets/controls",
     "model_module_version": "1.5.0",
     "model_name": "DescriptionStyleModel",
     "state": {
      "_model_module": "@jupyter-widgets/controls",
      "_model_module_version": "1.5.0",
      "_model_name": "DescriptionStyleModel",
      "_view_count": null,
      "_view_module": "@jupyter-widgets/base",
      "_view_module_version": "1.2.0",
      "_view_name": "StyleView",
      "description_width": ""
     }
    },
    "4ca356544f4045858d0e43ccef6dce77": {
     "model_module": "@jupyter-widgets/controls",
     "model_module_version": "1.5.0",
     "model_name": "DescriptionStyleModel",
     "state": {
      "_model_module": "@jupyter-widgets/controls",
      "_model_module_version": "1.5.0",
      "_model_name": "DescriptionStyleModel",
      "_view_count": null,
      "_view_module": "@jupyter-widgets/base",
      "_view_module_version": "1.2.0",
      "_view_name": "StyleView",
      "description_width": ""
     }
    },
    "4d934f392e7745a89e8d0e9161a7e16c": {
     "model_module": "@jupyter-widgets/base",
     "model_module_version": "1.2.0",
     "model_name": "LayoutModel",
     "state": {
      "_model_module": "@jupyter-widgets/base",
      "_model_module_version": "1.2.0",
      "_model_name": "LayoutModel",
      "_view_count": null,
      "_view_module": "@jupyter-widgets/base",
      "_view_module_version": "1.2.0",
      "_view_name": "LayoutView",
      "align_content": null,
      "align_items": null,
      "align_self": null,
      "border": null,
      "bottom": null,
      "display": null,
      "flex": null,
      "flex_flow": null,
      "grid_area": null,
      "grid_auto_columns": null,
      "grid_auto_flow": null,
      "grid_auto_rows": null,
      "grid_column": null,
      "grid_gap": null,
      "grid_row": null,
      "grid_template_areas": null,
      "grid_template_columns": null,
      "grid_template_rows": null,
      "height": null,
      "justify_content": null,
      "justify_items": null,
      "left": null,
      "margin": null,
      "max_height": null,
      "max_width": null,
      "min_height": null,
      "min_width": null,
      "object_fit": null,
      "object_position": null,
      "order": null,
      "overflow": null,
      "overflow_x": null,
      "overflow_y": null,
      "padding": null,
      "right": null,
      "top": null,
      "visibility": null,
      "width": null
     }
    },
    "4ee3a26a373c4233b26b346f2256b290": {
     "model_module": "@jupyter-widgets/controls",
     "model_module_version": "1.5.0",
     "model_name": "ProgressStyleModel",
     "state": {
      "_model_module": "@jupyter-widgets/controls",
      "_model_module_version": "1.5.0",
      "_model_name": "ProgressStyleModel",
      "_view_count": null,
      "_view_module": "@jupyter-widgets/base",
      "_view_module_version": "1.2.0",
      "_view_name": "StyleView",
      "bar_color": null,
      "description_width": ""
     }
    },
    "5206082e79ee48c08213481beb104e4d": {
     "model_module": "@jupyter-widgets/controls",
     "model_module_version": "1.5.0",
     "model_name": "HTMLModel",
     "state": {
      "_dom_classes": [],
      "_model_module": "@jupyter-widgets/controls",
      "_model_module_version": "1.5.0",
      "_model_name": "HTMLModel",
      "_view_count": null,
      "_view_module": "@jupyter-widgets/controls",
      "_view_module_version": "1.5.0",
      "_view_name": "HTMLView",
      "description": "",
      "description_tooltip": null,
      "layout": "IPY_MODEL_e8bb558c17e34bb5bd07a3536a19a30a",
      "placeholder": "​",
      "style": "IPY_MODEL_6db6e6d60b4a4148926fa766f84bbbc0",
      "value": " 1.11M/1.11M [00:00&lt;00:00, 1.53MB/s]"
     }
    },
    "53fa3c7349424195a673af403fbbaafd": {
     "model_module": "@jupyter-widgets/controls",
     "model_module_version": "1.5.0",
     "model_name": "HTMLModel",
     "state": {
      "_dom_classes": [],
      "_model_module": "@jupyter-widgets/controls",
      "_model_module_version": "1.5.0",
      "_model_name": "HTMLModel",
      "_view_count": null,
      "_view_module": "@jupyter-widgets/controls",
      "_view_module_version": "1.5.0",
      "_view_name": "HTMLView",
      "description": "",
      "description_tooltip": null,
      "layout": "IPY_MODEL_d54ce80bb5244ed1a23a4aec5e09054e",
      "placeholder": "​",
      "style": "IPY_MODEL_d5a0ce676248410a8be4935cfe045fcd",
      "value": "Downloading: 100%"
     }
    },
    "59251c2ec99246e78ca920127e86c44c": {
     "model_module": "@jupyter-widgets/controls",
     "model_module_version": "1.5.0",
     "model_name": "DescriptionStyleModel",
     "state": {
      "_model_module": "@jupyter-widgets/controls",
      "_model_module_version": "1.5.0",
      "_model_name": "DescriptionStyleModel",
      "_view_count": null,
      "_view_module": "@jupyter-widgets/base",
      "_view_module_version": "1.2.0",
      "_view_name": "StyleView",
      "description_width": ""
     }
    },
    "5c89d52a3a7a4955b77dd016e3a819b5": {
     "model_module": "@jupyter-widgets/controls",
     "model_module_version": "1.5.0",
     "model_name": "FloatProgressModel",
     "state": {
      "_dom_classes": [],
      "_model_module": "@jupyter-widgets/controls",
      "_model_module_version": "1.5.0",
      "_model_name": "FloatProgressModel",
      "_view_count": null,
      "_view_module": "@jupyter-widgets/controls",
      "_view_module_version": "1.5.0",
      "_view_name": "ProgressView",
      "bar_style": "success",
      "description": "",
      "description_tooltip": null,
      "layout": "IPY_MODEL_c2cd3599f56e49f8998d7b2b66247f81",
      "max": 663,
      "min": 0,
      "orientation": "horizontal",
      "style": "IPY_MODEL_fe6ea62c51904d7aaaf7ea26da1b761d",
      "value": 663
     }
    },
    "5c989e8cb51a4b70a8444fa245bff553": {
     "model_module": "@jupyter-widgets/base",
     "model_module_version": "1.2.0",
     "model_name": "LayoutModel",
     "state": {
      "_model_module": "@jupyter-widgets/base",
      "_model_module_version": "1.2.0",
      "_model_name": "LayoutModel",
      "_view_count": null,
      "_view_module": "@jupyter-widgets/base",
      "_view_module_version": "1.2.0",
      "_view_name": "LayoutView",
      "align_content": null,
      "align_items": null,
      "align_self": null,
      "border": null,
      "bottom": null,
      "display": null,
      "flex": null,
      "flex_flow": null,
      "grid_area": null,
      "grid_auto_columns": null,
      "grid_auto_flow": null,
      "grid_auto_rows": null,
      "grid_column": null,
      "grid_gap": null,
      "grid_row": null,
      "grid_template_areas": null,
      "grid_template_columns": null,
      "grid_template_rows": null,
      "height": null,
      "justify_content": null,
      "justify_items": null,
      "left": null,
      "margin": null,
      "max_height": null,
      "max_width": null,
      "min_height": null,
      "min_width": null,
      "object_fit": null,
      "object_position": null,
      "order": null,
      "overflow": null,
      "overflow_x": null,
      "overflow_y": null,
      "padding": null,
      "right": null,
      "top": null,
      "visibility": null,
      "width": null
     }
    },
    "5ebae2006b8e4a0692936d0195d1432e": {
     "model_module": "@jupyter-widgets/base",
     "model_module_version": "1.2.0",
     "model_name": "LayoutModel",
     "state": {
      "_model_module": "@jupyter-widgets/base",
      "_model_module_version": "1.2.0",
      "_model_name": "LayoutModel",
      "_view_count": null,
      "_view_module": "@jupyter-widgets/base",
      "_view_module_version": "1.2.0",
      "_view_name": "LayoutView",
      "align_content": null,
      "align_items": null,
      "align_self": null,
      "border": null,
      "bottom": null,
      "display": null,
      "flex": null,
      "flex_flow": null,
      "grid_area": null,
      "grid_auto_columns": null,
      "grid_auto_flow": null,
      "grid_auto_rows": null,
      "grid_column": null,
      "grid_gap": null,
      "grid_row": null,
      "grid_template_areas": null,
      "grid_template_columns": null,
      "grid_template_rows": null,
      "height": null,
      "justify_content": null,
      "justify_items": null,
      "left": null,
      "margin": null,
      "max_height": null,
      "max_width": null,
      "min_height": null,
      "min_width": null,
      "object_fit": null,
      "object_position": null,
      "order": null,
      "overflow": null,
      "overflow_x": null,
      "overflow_y": null,
      "padding": null,
      "right": null,
      "top": null,
      "visibility": null,
      "width": null
     }
    },
    "643c47fdf1cb413395c8b3db12bb329b": {
     "model_module": "@jupyter-widgets/base",
     "model_module_version": "1.2.0",
     "model_name": "LayoutModel",
     "state": {
      "_model_module": "@jupyter-widgets/base",
      "_model_module_version": "1.2.0",
      "_model_name": "LayoutModel",
      "_view_count": null,
      "_view_module": "@jupyter-widgets/base",
      "_view_module_version": "1.2.0",
      "_view_name": "LayoutView",
      "align_content": null,
      "align_items": null,
      "align_self": null,
      "border": null,
      "bottom": null,
      "display": null,
      "flex": null,
      "flex_flow": null,
      "grid_area": null,
      "grid_auto_columns": null,
      "grid_auto_flow": null,
      "grid_auto_rows": null,
      "grid_column": null,
      "grid_gap": null,
      "grid_row": null,
      "grid_template_areas": null,
      "grid_template_columns": null,
      "grid_template_rows": null,
      "height": null,
      "justify_content": null,
      "justify_items": null,
      "left": null,
      "margin": null,
      "max_height": null,
      "max_width": null,
      "min_height": null,
      "min_width": null,
      "object_fit": null,
      "object_position": null,
      "order": null,
      "overflow": null,
      "overflow_x": null,
      "overflow_y": null,
      "padding": null,
      "right": null,
      "top": null,
      "visibility": null,
      "width": null
     }
    },
    "64d493e6be1146018e3082c9acc23046": {
     "model_module": "@jupyter-widgets/controls",
     "model_module_version": "1.5.0",
     "model_name": "HTMLModel",
     "state": {
      "_dom_classes": [],
      "_model_module": "@jupyter-widgets/controls",
      "_model_module_version": "1.5.0",
      "_model_name": "HTMLModel",
      "_view_count": null,
      "_view_module": "@jupyter-widgets/controls",
      "_view_module_version": "1.5.0",
      "_view_name": "HTMLView",
      "description": "",
      "description_tooltip": null,
      "layout": "IPY_MODEL_fe4028dc8b734aec947caf5fdb5cf141",
      "placeholder": "​",
      "style": "IPY_MODEL_b52371eaa5fa418292afabe605f46fde",
      "value": " 3.89k/3.89k [00:00&lt;00:00, 102kB/s]"
     }
    },
    "64fca86034384fab8e27c70b3fbbf5f1": {
     "model_module": "@jupyter-widgets/base",
     "model_module_version": "1.2.0",
     "model_name": "LayoutModel",
     "state": {
      "_model_module": "@jupyter-widgets/base",
      "_model_module_version": "1.2.0",
      "_model_name": "LayoutModel",
      "_view_count": null,
      "_view_module": "@jupyter-widgets/base",
      "_view_module_version": "1.2.0",
      "_view_name": "LayoutView",
      "align_content": null,
      "align_items": null,
      "align_self": null,
      "border": null,
      "bottom": null,
      "display": null,
      "flex": null,
      "flex_flow": null,
      "grid_area": null,
      "grid_auto_columns": null,
      "grid_auto_flow": null,
      "grid_auto_rows": null,
      "grid_column": null,
      "grid_gap": null,
      "grid_row": null,
      "grid_template_areas": null,
      "grid_template_columns": null,
      "grid_template_rows": null,
      "height": null,
      "justify_content": null,
      "justify_items": null,
      "left": null,
      "margin": null,
      "max_height": null,
      "max_width": null,
      "min_height": null,
      "min_width": null,
      "object_fit": null,
      "object_position": null,
      "order": null,
      "overflow": null,
      "overflow_x": null,
      "overflow_y": null,
      "padding": null,
      "right": null,
      "top": null,
      "visibility": null,
      "width": null
     }
    },
    "6abc8238013d4a248d7ec2daceb66c2f": {
     "model_module": "@jupyter-widgets/base",
     "model_module_version": "1.2.0",
     "model_name": "LayoutModel",
     "state": {
      "_model_module": "@jupyter-widgets/base",
      "_model_module_version": "1.2.0",
      "_model_name": "LayoutModel",
      "_view_count": null,
      "_view_module": "@jupyter-widgets/base",
      "_view_module_version": "1.2.0",
      "_view_name": "LayoutView",
      "align_content": null,
      "align_items": null,
      "align_self": null,
      "border": null,
      "bottom": null,
      "display": null,
      "flex": null,
      "flex_flow": null,
      "grid_area": null,
      "grid_auto_columns": null,
      "grid_auto_flow": null,
      "grid_auto_rows": null,
      "grid_column": null,
      "grid_gap": null,
      "grid_row": null,
      "grid_template_areas": null,
      "grid_template_columns": null,
      "grid_template_rows": null,
      "height": null,
      "justify_content": null,
      "justify_items": null,
      "left": null,
      "margin": null,
      "max_height": null,
      "max_width": null,
      "min_height": null,
      "min_width": null,
      "object_fit": null,
      "object_position": null,
      "order": null,
      "overflow": null,
      "overflow_x": null,
      "overflow_y": null,
      "padding": null,
      "right": null,
      "top": null,
      "visibility": null,
      "width": null
     }
    },
    "6b9a2d8614f840b58fe76ebf20354596": {
     "model_module": "@jupyter-widgets/controls",
     "model_module_version": "1.5.0",
     "model_name": "HTMLModel",
     "state": {
      "_dom_classes": [],
      "_model_module": "@jupyter-widgets/controls",
      "_model_module_version": "1.5.0",
      "_model_name": "HTMLModel",
      "_view_count": null,
      "_view_module": "@jupyter-widgets/controls",
      "_view_module_version": "1.5.0",
      "_view_name": "HTMLView",
      "description": "",
      "description_tooltip": null,
      "layout": "IPY_MODEL_d61e8e4dd9f141e39595e68c447b0359",
      "placeholder": "​",
      "style": "IPY_MODEL_6d17750e82724fada9a21dc2152f6cc6",
      "value": " 451M/451M [00:15&lt;00:00, 33.0MB/s]"
     }
    },
    "6cbffc4febb4489fb50fa0e798499312": {
     "model_module": "@jupyter-widgets/controls",
     "model_module_version": "1.5.0",
     "model_name": "FloatProgressModel",
     "state": {
      "_dom_classes": [],
      "_model_module": "@jupyter-widgets/controls",
      "_model_module_version": "1.5.0",
      "_model_name": "FloatProgressModel",
      "_view_count": null,
      "_view_module": "@jupyter-widgets/controls",
      "_view_module_version": "1.5.0",
      "_view_name": "ProgressView",
      "bar_style": "success",
      "description": "",
      "description_tooltip": null,
      "layout": "IPY_MODEL_87980d9ba5be4ae3a37b485aa1ad31de",
      "max": 2120145,
      "min": 0,
      "orientation": "horizontal",
      "style": "IPY_MODEL_7356e50104c1438fafb1bde28fa8886e",
      "value": 2120145
     }
    },
    "6d17750e82724fada9a21dc2152f6cc6": {
     "model_module": "@jupyter-widgets/controls",
     "model_module_version": "1.5.0",
     "model_name": "DescriptionStyleModel",
     "state": {
      "_model_module": "@jupyter-widgets/controls",
      "_model_module_version": "1.5.0",
      "_model_name": "DescriptionStyleModel",
      "_view_count": null,
      "_view_module": "@jupyter-widgets/base",
      "_view_module_version": "1.2.0",
      "_view_name": "StyleView",
      "description_width": ""
     }
    },
    "6db6e6d60b4a4148926fa766f84bbbc0": {
     "model_module": "@jupyter-widgets/controls",
     "model_module_version": "1.5.0",
     "model_name": "DescriptionStyleModel",
     "state": {
      "_model_module": "@jupyter-widgets/controls",
      "_model_module_version": "1.5.0",
      "_model_name": "DescriptionStyleModel",
      "_view_count": null,
      "_view_module": "@jupyter-widgets/base",
      "_view_module_version": "1.2.0",
      "_view_name": "StyleView",
      "description_width": ""
     }
    },
    "6e6d2d0ba7d84d5b85e2df608e90d89a": {
     "model_module": "@jupyter-widgets/controls",
     "model_module_version": "1.5.0",
     "model_name": "HBoxModel",
     "state": {
      "_dom_classes": [],
      "_model_module": "@jupyter-widgets/controls",
      "_model_module_version": "1.5.0",
      "_model_name": "HBoxModel",
      "_view_count": null,
      "_view_module": "@jupyter-widgets/controls",
      "_view_module_version": "1.5.0",
      "_view_name": "HBoxView",
      "box_style": "",
      "children": [
       "IPY_MODEL_53fa3c7349424195a673af403fbbaafd",
       "IPY_MODEL_c24364c670344bf5b1c75101850b3932",
       "IPY_MODEL_64d493e6be1146018e3082c9acc23046"
      ],
      "layout": "IPY_MODEL_f6f613220b6e43fd94d4efd564fc4d7c"
     }
    },
    "70c58d0fee424052975e4e69c77891a2": {
     "model_module": "@jupyter-widgets/base",
     "model_module_version": "1.2.0",
     "model_name": "LayoutModel",
     "state": {
      "_model_module": "@jupyter-widgets/base",
      "_model_module_version": "1.2.0",
      "_model_name": "LayoutModel",
      "_view_count": null,
      "_view_module": "@jupyter-widgets/base",
      "_view_module_version": "1.2.0",
      "_view_name": "LayoutView",
      "align_content": null,
      "align_items": null,
      "align_self": null,
      "border": null,
      "bottom": null,
      "display": null,
      "flex": null,
      "flex_flow": null,
      "grid_area": null,
      "grid_auto_columns": null,
      "grid_auto_flow": null,
      "grid_auto_rows": null,
      "grid_column": null,
      "grid_gap": null,
      "grid_row": null,
      "grid_template_areas": null,
      "grid_template_columns": null,
      "grid_template_rows": null,
      "height": null,
      "justify_content": null,
      "justify_items": null,
      "left": null,
      "margin": null,
      "max_height": null,
      "max_width": null,
      "min_height": null,
      "min_width": null,
      "object_fit": null,
      "object_position": null,
      "order": null,
      "overflow": null,
      "overflow_x": null,
      "overflow_y": null,
      "padding": null,
      "right": null,
      "top": null,
      "visibility": null,
      "width": null
     }
    },
    "7138c3dc795649f19b3180a8817675b6": {
     "model_module": "@jupyter-widgets/controls",
     "model_module_version": "1.5.0",
     "model_name": "DescriptionStyleModel",
     "state": {
      "_model_module": "@jupyter-widgets/controls",
      "_model_module_version": "1.5.0",
      "_model_name": "DescriptionStyleModel",
      "_view_count": null,
      "_view_module": "@jupyter-widgets/base",
      "_view_module_version": "1.2.0",
      "_view_name": "StyleView",
      "description_width": ""
     }
    },
    "7356e50104c1438fafb1bde28fa8886e": {
     "model_module": "@jupyter-widgets/controls",
     "model_module_version": "1.5.0",
     "model_name": "ProgressStyleModel",
     "state": {
      "_model_module": "@jupyter-widgets/controls",
      "_model_module_version": "1.5.0",
      "_model_name": "ProgressStyleModel",
      "_view_count": null,
      "_view_module": "@jupyter-widgets/base",
      "_view_module_version": "1.2.0",
      "_view_name": "StyleView",
      "bar_color": null,
      "description_width": ""
     }
    },
    "77800c72192740a2896c9badfd94a85a": {
     "model_module": "@jupyter-widgets/base",
     "model_module_version": "1.2.0",
     "model_name": "LayoutModel",
     "state": {
      "_model_module": "@jupyter-widgets/base",
      "_model_module_version": "1.2.0",
      "_model_name": "LayoutModel",
      "_view_count": null,
      "_view_module": "@jupyter-widgets/base",
      "_view_module_version": "1.2.0",
      "_view_name": "LayoutView",
      "align_content": null,
      "align_items": null,
      "align_self": null,
      "border": null,
      "bottom": null,
      "display": null,
      "flex": null,
      "flex_flow": null,
      "grid_area": null,
      "grid_auto_columns": null,
      "grid_auto_flow": null,
      "grid_auto_rows": null,
      "grid_column": null,
      "grid_gap": null,
      "grid_row": null,
      "grid_template_areas": null,
      "grid_template_columns": null,
      "grid_template_rows": null,
      "height": null,
      "justify_content": null,
      "justify_items": null,
      "left": null,
      "margin": null,
      "max_height": null,
      "max_width": null,
      "min_height": null,
      "min_width": null,
      "object_fit": null,
      "object_position": null,
      "order": null,
      "overflow": null,
      "overflow_x": null,
      "overflow_y": null,
      "padding": null,
      "right": null,
      "top": null,
      "visibility": null,
      "width": null
     }
    },
    "7ae82b5b02704e9086246812a49d0d42": {
     "model_module": "@jupyter-widgets/controls",
     "model_module_version": "1.5.0",
     "model_name": "HBoxModel",
     "state": {
      "_dom_classes": [],
      "_model_module": "@jupyter-widgets/controls",
      "_model_module_version": "1.5.0",
      "_model_name": "HBoxModel",
      "_view_count": null,
      "_view_module": "@jupyter-widgets/controls",
      "_view_module_version": "1.5.0",
      "_view_name": "HBoxView",
      "box_style": "",
      "children": [
       "IPY_MODEL_edd3e93573504c669088545ce71588c7",
       "IPY_MODEL_44da84dad2a3498a9bfd16b6e9ee526c",
       "IPY_MODEL_7b9cf1caaa94474e9014ca5e4bafbfcc"
      ],
      "layout": "IPY_MODEL_643c47fdf1cb413395c8b3db12bb329b"
     }
    },
    "7b9cf1caaa94474e9014ca5e4bafbfcc": {
     "model_module": "@jupyter-widgets/controls",
     "model_module_version": "1.5.0",
     "model_name": "HTMLModel",
     "state": {
      "_dom_classes": [],
      "_model_module": "@jupyter-widgets/controls",
      "_model_module_version": "1.5.0",
      "_model_name": "HTMLModel",
      "_view_count": null,
      "_view_module": "@jupyter-widgets/controls",
      "_view_module_version": "1.5.0",
      "_view_name": "HTMLView",
      "description": "",
      "description_tooltip": null,
      "layout": "IPY_MODEL_6abc8238013d4a248d7ec2daceb66c2f",
      "placeholder": "​",
      "style": "IPY_MODEL_e16eb8bd65d64ef7b4bdb81c58596f3b",
      "value": " 577M/577M [00:19&lt;00:00, 33.4MB/s]"
     }
    },
    "7c068449b98c45d09fa43d74d29de5e2": {
     "model_module": "@jupyter-widgets/controls",
     "model_module_version": "1.5.0",
     "model_name": "FloatProgressModel",
     "state": {
      "_dom_classes": [],
      "_model_module": "@jupyter-widgets/controls",
      "_model_module_version": "1.5.0",
      "_model_name": "FloatProgressModel",
      "_view_count": null,
      "_view_module": "@jupyter-widgets/controls",
      "_view_module_version": "1.5.0",
      "_view_name": "ProgressView",
      "bar_style": "success",
      "description": "",
      "description_tooltip": null,
      "layout": "IPY_MODEL_5c989e8cb51a4b70a8444fa245bff553",
      "max": 473278967,
      "min": 0,
      "orientation": "horizontal",
      "style": "IPY_MODEL_23ba07514fa746ebb2199fa55fae6e26",
      "value": 473278967
     }
    },
    "7e2749b350da428791a48bed26281dac": {
     "model_module": "@jupyter-widgets/controls",
     "model_module_version": "1.5.0",
     "model_name": "HTMLModel",
     "state": {
      "_dom_classes": [],
      "_model_module": "@jupyter-widgets/controls",
      "_model_module_version": "1.5.0",
      "_model_name": "HTMLModel",
      "_view_count": null,
      "_view_module": "@jupyter-widgets/controls",
      "_view_module_version": "1.5.0",
      "_view_name": "HTMLView",
      "description": "",
      "description_tooltip": null,
      "layout": "IPY_MODEL_f78f443826fc40f9b15485f94dbfbb48",
      "placeholder": "​",
      "style": "IPY_MODEL_4ca356544f4045858d0e43ccef6dce77",
      "value": "Downloading: 100%"
     }
    },
    "82162c6cb2cb4a0cb5cc4dfd6fc6bdfa": {
     "model_module": "@jupyter-widgets/controls",
     "model_module_version": "1.5.0",
     "model_name": "FloatProgressModel",
     "state": {
      "_dom_classes": [],
      "_model_module": "@jupyter-widgets/controls",
      "_model_module_version": "1.5.0",
      "_model_name": "FloatProgressModel",
      "_view_count": null,
      "_view_module": "@jupyter-widgets/controls",
      "_view_module_version": "1.5.0",
      "_view_name": "ProgressView",
      "bar_style": "success",
      "description": "",
      "description_tooltip": null,
      "layout": "IPY_MODEL_242f7a71c6094a5990ed8957eff8424c",
      "max": 309,
      "min": 0,
      "orientation": "horizontal",
      "style": "IPY_MODEL_9b4b385a22dc468b9e585d5d200f1df7",
      "value": 309
     }
    },
    "836037b9c6ff43b4b89e9f4db8a6943d": {
     "model_module": "@jupyter-widgets/controls",
     "model_module_version": "1.5.0",
     "model_name": "HTMLModel",
     "state": {
      "_dom_classes": [],
      "_model_module": "@jupyter-widgets/controls",
      "_model_module_version": "1.5.0",
      "_model_name": "HTMLModel",
      "_view_count": null,
      "_view_module": "@jupyter-widgets/controls",
      "_view_module_version": "1.5.0",
      "_view_name": "HTMLView",
      "description": "",
      "description_tooltip": null,
      "layout": "IPY_MODEL_d3febbc11cf74aaba4c1f8d78323322f",
      "placeholder": "​",
      "style": "IPY_MODEL_44fe6bab2ae04a7ca5cc4ef057960c9c",
      "value": "Downloading: 100%"
     }
    },
    "87980d9ba5be4ae3a37b485aa1ad31de": {
     "model_module": "@jupyter-widgets/base",
     "model_module_version": "1.2.0",
     "model_name": "LayoutModel",
     "state": {
      "_model_module": "@jupyter-widgets/base",
      "_model_module_version": "1.2.0",
      "_model_name": "LayoutModel",
      "_view_count": null,
      "_view_module": "@jupyter-widgets/base",
      "_view_module_version": "1.2.0",
      "_view_name": "LayoutView",
      "align_content": null,
      "align_items": null,
      "align_self": null,
      "border": null,
      "bottom": null,
      "display": null,
      "flex": null,
      "flex_flow": null,
      "grid_area": null,
      "grid_auto_columns": null,
      "grid_auto_flow": null,
      "grid_auto_rows": null,
      "grid_column": null,
      "grid_gap": null,
      "grid_row": null,
      "grid_template_areas": null,
      "grid_template_columns": null,
      "grid_template_rows": null,
      "height": null,
      "justify_content": null,
      "justify_items": null,
      "left": null,
      "margin": null,
      "max_height": null,
      "max_width": null,
      "min_height": null,
      "min_width": null,
      "object_fit": null,
      "object_position": null,
      "order": null,
      "overflow": null,
      "overflow_x": null,
      "overflow_y": null,
      "padding": null,
      "right": null,
      "top": null,
      "visibility": null,
      "width": null
     }
    },
    "8a23ee23be6940649bbf8904fd15530e": {
     "model_module": "@jupyter-widgets/controls",
     "model_module_version": "1.5.0",
     "model_name": "DescriptionStyleModel",
     "state": {
      "_model_module": "@jupyter-widgets/controls",
      "_model_module_version": "1.5.0",
      "_model_name": "DescriptionStyleModel",
      "_view_count": null,
      "_view_module": "@jupyter-widgets/base",
      "_view_module_version": "1.2.0",
      "_view_name": "StyleView",
      "description_width": ""
     }
    },
    "8c99ced0a75343098c23bcf73c4b0299": {
     "model_module": "@jupyter-widgets/controls",
     "model_module_version": "1.5.0",
     "model_name": "HTMLModel",
     "state": {
      "_dom_classes": [],
      "_model_module": "@jupyter-widgets/controls",
      "_model_module_version": "1.5.0",
      "_model_name": "HTMLModel",
      "_view_count": null,
      "_view_module": "@jupyter-widgets/controls",
      "_view_module_version": "1.5.0",
      "_view_name": "HTMLView",
      "description": "",
      "description_tooltip": null,
      "layout": "IPY_MODEL_77800c72192740a2896c9badfd94a85a",
      "placeholder": "​",
      "style": "IPY_MODEL_59251c2ec99246e78ca920127e86c44c",
      "value": "Downloading: 100%"
     }
    },
    "8ee242c5733b47fca288a99dc7ac2fbd": {
     "model_module": "@jupyter-widgets/controls",
     "model_module_version": "1.5.0",
     "model_name": "HTMLModel",
     "state": {
      "_dom_classes": [],
      "_model_module": "@jupyter-widgets/controls",
      "_model_module_version": "1.5.0",
      "_model_name": "HTMLModel",
      "_view_count": null,
      "_view_module": "@jupyter-widgets/controls",
      "_view_module_version": "1.5.0",
      "_view_name": "HTMLView",
      "description": "",
      "description_tooltip": null,
      "layout": "IPY_MODEL_994f7b879e244da49bf69fcec812bc28",
      "placeholder": "​",
      "style": "IPY_MODEL_04df1557da5a4b339274a95e375146d4",
      "value": "Downloading: 100%"
     }
    },
    "8ff1a7803580436d858ca1e406906175": {
     "model_module": "@jupyter-widgets/controls",
     "model_module_version": "1.5.0",
     "model_name": "FloatProgressModel",
     "state": {
      "_dom_classes": [],
      "_model_module": "@jupyter-widgets/controls",
      "_model_module_version": "1.5.0",
      "_model_name": "FloatProgressModel",
      "_view_count": null,
      "_view_module": "@jupyter-widgets/controls",
      "_view_module_version": "1.5.0",
      "_view_name": "ProgressView",
      "bar_style": "success",
      "description": "",
      "description_tooltip": null,
      "layout": "IPY_MODEL_11b19b6aec0442129049194aa91f73e3",
      "max": 239,
      "min": 0,
      "orientation": "horizontal",
      "style": "IPY_MODEL_0bfdac4cbcf5432c8c42f5a245273714",
      "value": 239
     }
    },
    "96561e60c2de4919b24292cd9b8ae719": {
     "model_module": "@jupyter-widgets/controls",
     "model_module_version": "1.5.0",
     "model_name": "DescriptionStyleModel",
     "state": {
      "_model_module": "@jupyter-widgets/controls",
      "_model_module_version": "1.5.0",
      "_model_name": "DescriptionStyleModel",
      "_view_count": null,
      "_view_module": "@jupyter-widgets/base",
      "_view_module_version": "1.2.0",
      "_view_name": "StyleView",
      "description_width": ""
     }
    },
    "994f7b879e244da49bf69fcec812bc28": {
     "model_module": "@jupyter-widgets/base",
     "model_module_version": "1.2.0",
     "model_name": "LayoutModel",
     "state": {
      "_model_module": "@jupyter-widgets/base",
      "_model_module_version": "1.2.0",
      "_model_name": "LayoutModel",
      "_view_count": null,
      "_view_module": "@jupyter-widgets/base",
      "_view_module_version": "1.2.0",
      "_view_name": "LayoutView",
      "align_content": null,
      "align_items": null,
      "align_self": null,
      "border": null,
      "bottom": null,
      "display": null,
      "flex": null,
      "flex_flow": null,
      "grid_area": null,
      "grid_auto_columns": null,
      "grid_auto_flow": null,
      "grid_auto_rows": null,
      "grid_column": null,
      "grid_gap": null,
      "grid_row": null,
      "grid_template_areas": null,
      "grid_template_columns": null,
      "grid_template_rows": null,
      "height": null,
      "justify_content": null,
      "justify_items": null,
      "left": null,
      "margin": null,
      "max_height": null,
      "max_width": null,
      "min_height": null,
      "min_width": null,
      "object_fit": null,
      "object_position": null,
      "order": null,
      "overflow": null,
      "overflow_x": null,
      "overflow_y": null,
      "padding": null,
      "right": null,
      "top": null,
      "visibility": null,
      "width": null
     }
    },
    "9ae255a0ed90451985934022af364d2f": {
     "model_module": "@jupyter-widgets/base",
     "model_module_version": "1.2.0",
     "model_name": "LayoutModel",
     "state": {
      "_model_module": "@jupyter-widgets/base",
      "_model_module_version": "1.2.0",
      "_model_name": "LayoutModel",
      "_view_count": null,
      "_view_module": "@jupyter-widgets/base",
      "_view_module_version": "1.2.0",
      "_view_name": "LayoutView",
      "align_content": null,
      "align_items": null,
      "align_self": null,
      "border": null,
      "bottom": null,
      "display": null,
      "flex": null,
      "flex_flow": null,
      "grid_area": null,
      "grid_auto_columns": null,
      "grid_auto_flow": null,
      "grid_auto_rows": null,
      "grid_column": null,
      "grid_gap": null,
      "grid_row": null,
      "grid_template_areas": null,
      "grid_template_columns": null,
      "grid_template_rows": null,
      "height": null,
      "justify_content": null,
      "justify_items": null,
      "left": null,
      "margin": null,
      "max_height": null,
      "max_width": null,
      "min_height": null,
      "min_width": null,
      "object_fit": null,
      "object_position": null,
      "order": null,
      "overflow": null,
      "overflow_x": null,
      "overflow_y": null,
      "padding": null,
      "right": null,
      "top": null,
      "visibility": null,
      "width": null
     }
    },
    "9af42a69d97f467f8e55ccbd6687ccfa": {
     "model_module": "@jupyter-widgets/controls",
     "model_module_version": "1.5.0",
     "model_name": "ProgressStyleModel",
     "state": {
      "_model_module": "@jupyter-widgets/controls",
      "_model_module_version": "1.5.0",
      "_model_name": "ProgressStyleModel",
      "_view_count": null,
      "_view_module": "@jupyter-widgets/base",
      "_view_module_version": "1.2.0",
      "_view_name": "StyleView",
      "bar_color": null,
      "description_width": ""
     }
    },
    "9b4b385a22dc468b9e585d5d200f1df7": {
     "model_module": "@jupyter-widgets/controls",
     "model_module_version": "1.5.0",
     "model_name": "ProgressStyleModel",
     "state": {
      "_model_module": "@jupyter-widgets/controls",
      "_model_module_version": "1.5.0",
      "_model_name": "ProgressStyleModel",
      "_view_count": null,
      "_view_module": "@jupyter-widgets/base",
      "_view_module_version": "1.2.0",
      "_view_name": "StyleView",
      "bar_color": null,
      "description_width": ""
     }
    },
    "9d94ab6216144cc4a91ecb5417f94c6a": {
     "model_module": "@jupyter-widgets/controls",
     "model_module_version": "1.5.0",
     "model_name": "DescriptionStyleModel",
     "state": {
      "_model_module": "@jupyter-widgets/controls",
      "_model_module_version": "1.5.0",
      "_model_name": "DescriptionStyleModel",
      "_view_count": null,
      "_view_module": "@jupyter-widgets/base",
      "_view_module_version": "1.2.0",
      "_view_name": "StyleView",
      "description_width": ""
     }
    },
    "a1c2448cd5234427ad99cc52b3f8c9de": {
     "model_module": "@jupyter-widgets/base",
     "model_module_version": "1.2.0",
     "model_name": "LayoutModel",
     "state": {
      "_model_module": "@jupyter-widgets/base",
      "_model_module_version": "1.2.0",
      "_model_name": "LayoutModel",
      "_view_count": null,
      "_view_module": "@jupyter-widgets/base",
      "_view_module_version": "1.2.0",
      "_view_name": "LayoutView",
      "align_content": null,
      "align_items": null,
      "align_self": null,
      "border": null,
      "bottom": null,
      "display": null,
      "flex": null,
      "flex_flow": null,
      "grid_area": null,
      "grid_auto_columns": null,
      "grid_auto_flow": null,
      "grid_auto_rows": null,
      "grid_column": null,
      "grid_gap": null,
      "grid_row": null,
      "grid_template_areas": null,
      "grid_template_columns": null,
      "grid_template_rows": null,
      "height": null,
      "justify_content": null,
      "justify_items": null,
      "left": null,
      "margin": null,
      "max_height": null,
      "max_width": null,
      "min_height": null,
      "min_width": null,
      "object_fit": null,
      "object_position": null,
      "order": null,
      "overflow": null,
      "overflow_x": null,
      "overflow_y": null,
      "padding": null,
      "right": null,
      "top": null,
      "visibility": null,
      "width": null
     }
    },
    "a63d080853d94551a17809fbcb4589e7": {
     "model_module": "@jupyter-widgets/base",
     "model_module_version": "1.2.0",
     "model_name": "LayoutModel",
     "state": {
      "_model_module": "@jupyter-widgets/base",
      "_model_module_version": "1.2.0",
      "_model_name": "LayoutModel",
      "_view_count": null,
      "_view_module": "@jupyter-widgets/base",
      "_view_module_version": "1.2.0",
      "_view_name": "LayoutView",
      "align_content": null,
      "align_items": null,
      "align_self": null,
      "border": null,
      "bottom": null,
      "display": null,
      "flex": null,
      "flex_flow": null,
      "grid_area": null,
      "grid_auto_columns": null,
      "grid_auto_flow": null,
      "grid_auto_rows": null,
      "grid_column": null,
      "grid_gap": null,
      "grid_row": null,
      "grid_template_areas": null,
      "grid_template_columns": null,
      "grid_template_rows": null,
      "height": null,
      "justify_content": null,
      "justify_items": null,
      "left": null,
      "margin": null,
      "max_height": null,
      "max_width": null,
      "min_height": null,
      "min_width": null,
      "object_fit": null,
      "object_position": null,
      "order": null,
      "overflow": null,
      "overflow_x": null,
      "overflow_y": null,
      "padding": null,
      "right": null,
      "top": null,
      "visibility": null,
      "width": null
     }
    },
    "a7097f3fb01e4635be3eb4a53462849e": {
     "model_module": "@jupyter-widgets/controls",
     "model_module_version": "1.5.0",
     "model_name": "HTMLModel",
     "state": {
      "_dom_classes": [],
      "_model_module": "@jupyter-widgets/controls",
      "_model_module_version": "1.5.0",
      "_model_name": "HTMLModel",
      "_view_count": null,
      "_view_module": "@jupyter-widgets/controls",
      "_view_module_version": "1.5.0",
      "_view_name": "HTMLView",
      "description": "",
      "description_tooltip": null,
      "layout": "IPY_MODEL_f6be94857a8b4b95b9837bb6b2cee854",
      "placeholder": "​",
      "style": "IPY_MODEL_7138c3dc795649f19b3180a8817675b6",
      "value": " 309/309 [00:00&lt;00:00, 7.01kB/s]"
     }
    },
    "a96595f1566b43e48d6064f4e9505246": {
     "model_module": "@jupyter-widgets/controls",
     "model_module_version": "1.5.0",
     "model_name": "DescriptionStyleModel",
     "state": {
      "_model_module": "@jupyter-widgets/controls",
      "_model_module_version": "1.5.0",
      "_model_name": "DescriptionStyleModel",
      "_view_count": null,
      "_view_module": "@jupyter-widgets/base",
      "_view_module_version": "1.2.0",
      "_view_name": "StyleView",
      "description_width": ""
     }
    },
    "a9b452a7bdd94d64b3db91ab1129c9bb": {
     "model_module": "@jupyter-widgets/controls",
     "model_module_version": "1.5.0",
     "model_name": "HBoxModel",
     "state": {
      "_dom_classes": [],
      "_model_module": "@jupyter-widgets/controls",
      "_model_module_version": "1.5.0",
      "_model_name": "HBoxModel",
      "_view_count": null,
      "_view_module": "@jupyter-widgets/controls",
      "_view_module_version": "1.5.0",
      "_view_name": "HBoxView",
      "box_style": "",
      "children": [
       "IPY_MODEL_1effcb356232431299b709e5e48c7818",
       "IPY_MODEL_6cbffc4febb4489fb50fa0e798499312",
       "IPY_MODEL_15f0ac435fde4f14a5efcefb065c8199"
      ],
      "layout": "IPY_MODEL_a63d080853d94551a17809fbcb4589e7"
     }
    },
    "afae88fc61b440e7b087084715c4dc49": {
     "model_module": "@jupyter-widgets/base",
     "model_module_version": "1.2.0",
     "model_name": "LayoutModel",
     "state": {
      "_model_module": "@jupyter-widgets/base",
      "_model_module_version": "1.2.0",
      "_model_name": "LayoutModel",
      "_view_count": null,
      "_view_module": "@jupyter-widgets/base",
      "_view_module_version": "1.2.0",
      "_view_name": "LayoutView",
      "align_content": null,
      "align_items": null,
      "align_self": null,
      "border": null,
      "bottom": null,
      "display": null,
      "flex": null,
      "flex_flow": null,
      "grid_area": null,
      "grid_auto_columns": null,
      "grid_auto_flow": null,
      "grid_auto_rows": null,
      "grid_column": null,
      "grid_gap": null,
      "grid_row": null,
      "grid_template_areas": null,
      "grid_template_columns": null,
      "grid_template_rows": null,
      "height": null,
      "justify_content": null,
      "justify_items": null,
      "left": null,
      "margin": null,
      "max_height": null,
      "max_width": null,
      "min_height": null,
      "min_width": null,
      "object_fit": null,
      "object_position": null,
      "order": null,
      "overflow": null,
      "overflow_x": null,
      "overflow_y": null,
      "padding": null,
      "right": null,
      "top": null,
      "visibility": null,
      "width": null
     }
    },
    "b52371eaa5fa418292afabe605f46fde": {
     "model_module": "@jupyter-widgets/controls",
     "model_module_version": "1.5.0",
     "model_name": "DescriptionStyleModel",
     "state": {
      "_model_module": "@jupyter-widgets/controls",
      "_model_module_version": "1.5.0",
      "_model_name": "DescriptionStyleModel",
      "_view_count": null,
      "_view_module": "@jupyter-widgets/base",
      "_view_module_version": "1.2.0",
      "_view_name": "StyleView",
      "description_width": ""
     }
    },
    "b7046d2d97844662a59d2c4a40044b50": {
     "model_module": "@jupyter-widgets/base",
     "model_module_version": "1.2.0",
     "model_name": "LayoutModel",
     "state": {
      "_model_module": "@jupyter-widgets/base",
      "_model_module_version": "1.2.0",
      "_model_name": "LayoutModel",
      "_view_count": null,
      "_view_module": "@jupyter-widgets/base",
      "_view_module_version": "1.2.0",
      "_view_name": "LayoutView",
      "align_content": null,
      "align_items": null,
      "align_self": null,
      "border": null,
      "bottom": null,
      "display": null,
      "flex": null,
      "flex_flow": null,
      "grid_area": null,
      "grid_auto_columns": null,
      "grid_auto_flow": null,
      "grid_auto_rows": null,
      "grid_column": null,
      "grid_gap": null,
      "grid_row": null,
      "grid_template_areas": null,
      "grid_template_columns": null,
      "grid_template_rows": null,
      "height": null,
      "justify_content": null,
      "justify_items": null,
      "left": null,
      "margin": null,
      "max_height": null,
      "max_width": null,
      "min_height": null,
      "min_width": null,
      "object_fit": null,
      "object_position": null,
      "order": null,
      "overflow": null,
      "overflow_x": null,
      "overflow_y": null,
      "padding": null,
      "right": null,
      "top": null,
      "visibility": null,
      "width": null
     }
    },
    "ba0c42f10d6c4391820e948f5b4653ed": {
     "model_module": "@jupyter-widgets/controls",
     "model_module_version": "1.5.0",
     "model_name": "HBoxModel",
     "state": {
      "_dom_classes": [],
      "_model_module": "@jupyter-widgets/controls",
      "_model_module_version": "1.5.0",
      "_model_name": "HBoxModel",
      "_view_count": null,
      "_view_module": "@jupyter-widgets/controls",
      "_view_module_version": "1.5.0",
      "_view_name": "HBoxView",
      "box_style": "",
      "children": [
       "IPY_MODEL_836037b9c6ff43b4b89e9f4db8a6943d",
       "IPY_MODEL_28566d1d4ae8473bbbcaa75074e9ccd9",
       "IPY_MODEL_43873009a1974298b2fe236378c60416"
      ],
      "layout": "IPY_MODEL_da34f9a77c684eb0b06c1a8acf719c7d"
     }
    },
    "beb92264d4f64bb29fd08d07554a23e7": {
     "model_module": "@jupyter-widgets/controls",
     "model_module_version": "1.5.0",
     "model_name": "DescriptionStyleModel",
     "state": {
      "_model_module": "@jupyter-widgets/controls",
      "_model_module_version": "1.5.0",
      "_model_name": "DescriptionStyleModel",
      "_view_count": null,
      "_view_module": "@jupyter-widgets/base",
      "_view_module_version": "1.2.0",
      "_view_name": "StyleView",
      "description_width": ""
     }
    },
    "c24364c670344bf5b1c75101850b3932": {
     "model_module": "@jupyter-widgets/controls",
     "model_module_version": "1.5.0",
     "model_name": "FloatProgressModel",
     "state": {
      "_dom_classes": [],
      "_model_module": "@jupyter-widgets/controls",
      "_model_module_version": "1.5.0",
      "_model_name": "FloatProgressModel",
      "_view_count": null,
      "_view_module": "@jupyter-widgets/controls",
      "_view_module_version": "1.5.0",
      "_view_name": "ProgressView",
      "bar_style": "success",
      "description": "",
      "description_tooltip": null,
      "layout": "IPY_MODEL_e0bf314d39e248cfaaacff3c08dd7eb2",
      "max": 3984,
      "min": 0,
      "orientation": "horizontal",
      "style": "IPY_MODEL_9af42a69d97f467f8e55ccbd6687ccfa",
      "value": 3984
     }
    },
    "c2cd3599f56e49f8998d7b2b66247f81": {
     "model_module": "@jupyter-widgets/base",
     "model_module_version": "1.2.0",
     "model_name": "LayoutModel",
     "state": {
      "_model_module": "@jupyter-widgets/base",
      "_model_module_version": "1.2.0",
      "_model_name": "LayoutModel",
      "_view_count": null,
      "_view_module": "@jupyter-widgets/base",
      "_view_module_version": "1.2.0",
      "_view_name": "LayoutView",
      "align_content": null,
      "align_items": null,
      "align_self": null,
      "border": null,
      "bottom": null,
      "display": null,
      "flex": null,
      "flex_flow": null,
      "grid_area": null,
      "grid_auto_columns": null,
      "grid_auto_flow": null,
      "grid_auto_rows": null,
      "grid_column": null,
      "grid_gap": null,
      "grid_row": null,
      "grid_template_areas": null,
      "grid_template_columns": null,
      "grid_template_rows": null,
      "height": null,
      "justify_content": null,
      "justify_items": null,
      "left": null,
      "margin": null,
      "max_height": null,
      "max_width": null,
      "min_height": null,
      "min_width": null,
      "object_fit": null,
      "object_position": null,
      "order": null,
      "overflow": null,
      "overflow_x": null,
      "overflow_y": null,
      "padding": null,
      "right": null,
      "top": null,
      "visibility": null,
      "width": null
     }
    },
    "c323d2a42adf4329b8dab0f69b826830": {
     "model_module": "@jupyter-widgets/base",
     "model_module_version": "1.2.0",
     "model_name": "LayoutModel",
     "state": {
      "_model_module": "@jupyter-widgets/base",
      "_model_module_version": "1.2.0",
      "_model_name": "LayoutModel",
      "_view_count": null,
      "_view_module": "@jupyter-widgets/base",
      "_view_module_version": "1.2.0",
      "_view_name": "LayoutView",
      "align_content": null,
      "align_items": null,
      "align_self": null,
      "border": null,
      "bottom": null,
      "display": null,
      "flex": null,
      "flex_flow": null,
      "grid_area": null,
      "grid_auto_columns": null,
      "grid_auto_flow": null,
      "grid_auto_rows": null,
      "grid_column": null,
      "grid_gap": null,
      "grid_row": null,
      "grid_template_areas": null,
      "grid_template_columns": null,
      "grid_template_rows": null,
      "height": null,
      "justify_content": null,
      "justify_items": null,
      "left": null,
      "margin": null,
      "max_height": null,
      "max_width": null,
      "min_height": null,
      "min_width": null,
      "object_fit": null,
      "object_position": null,
      "order": null,
      "overflow": null,
      "overflow_x": null,
      "overflow_y": null,
      "padding": null,
      "right": null,
      "top": null,
      "visibility": null,
      "width": null
     }
    },
    "c3a881567cdd41e8a66155e5e34413eb": {
     "model_module": "@jupyter-widgets/base",
     "model_module_version": "1.2.0",
     "model_name": "LayoutModel",
     "state": {
      "_model_module": "@jupyter-widgets/base",
      "_model_module_version": "1.2.0",
      "_model_name": "LayoutModel",
      "_view_count": null,
      "_view_module": "@jupyter-widgets/base",
      "_view_module_version": "1.2.0",
      "_view_name": "LayoutView",
      "align_content": null,
      "align_items": null,
      "align_self": null,
      "border": null,
      "bottom": null,
      "display": null,
      "flex": null,
      "flex_flow": null,
      "grid_area": null,
      "grid_auto_columns": null,
      "grid_auto_flow": null,
      "grid_auto_rows": null,
      "grid_column": null,
      "grid_gap": null,
      "grid_row": null,
      "grid_template_areas": null,
      "grid_template_columns": null,
      "grid_template_rows": null,
      "height": null,
      "justify_content": null,
      "justify_items": null,
      "left": null,
      "margin": null,
      "max_height": null,
      "max_width": null,
      "min_height": null,
      "min_width": null,
      "object_fit": null,
      "object_position": null,
      "order": null,
      "overflow": null,
      "overflow_x": null,
      "overflow_y": null,
      "padding": null,
      "right": null,
      "top": null,
      "visibility": null,
      "width": null
     }
    },
    "cf1045a933804e1fba1095140896f28a": {
     "model_module": "@jupyter-widgets/base",
     "model_module_version": "1.2.0",
     "model_name": "LayoutModel",
     "state": {
      "_model_module": "@jupyter-widgets/base",
      "_model_module_version": "1.2.0",
      "_model_name": "LayoutModel",
      "_view_count": null,
      "_view_module": "@jupyter-widgets/base",
      "_view_module_version": "1.2.0",
      "_view_name": "LayoutView",
      "align_content": null,
      "align_items": null,
      "align_self": null,
      "border": null,
      "bottom": null,
      "display": null,
      "flex": null,
      "flex_flow": null,
      "grid_area": null,
      "grid_auto_columns": null,
      "grid_auto_flow": null,
      "grid_auto_rows": null,
      "grid_column": null,
      "grid_gap": null,
      "grid_row": null,
      "grid_template_areas": null,
      "grid_template_columns": null,
      "grid_template_rows": null,
      "height": null,
      "justify_content": null,
      "justify_items": null,
      "left": null,
      "margin": null,
      "max_height": null,
      "max_width": null,
      "min_height": null,
      "min_width": null,
      "object_fit": null,
      "object_position": null,
      "order": null,
      "overflow": null,
      "overflow_x": null,
      "overflow_y": null,
      "padding": null,
      "right": null,
      "top": null,
      "visibility": null,
      "width": null
     }
    },
    "d1d659b2473b417c9cf85fa4ed931c0b": {
     "model_module": "@jupyter-widgets/controls",
     "model_module_version": "1.5.0",
     "model_name": "FloatProgressModel",
     "state": {
      "_dom_classes": [],
      "_model_module": "@jupyter-widgets/controls",
      "_model_module_version": "1.5.0",
      "_model_name": "FloatProgressModel",
      "_view_count": null,
      "_view_module": "@jupyter-widgets/controls",
      "_view_module_version": "1.5.0",
      "_view_name": "ProgressView",
      "bar_style": "success",
      "description": "",
      "description_tooltip": null,
      "layout": "IPY_MODEL_a1c2448cd5234427ad99cc52b3f8c9de",
      "max": 1159342,
      "min": 0,
      "orientation": "horizontal",
      "style": "IPY_MODEL_0112f6d5ad4e404dab7b2494b7a73b5f",
      "value": 1159342
     }
    },
    "d2bab9d28ea8400597bfb757884e767b": {
     "model_module": "@jupyter-widgets/controls",
     "model_module_version": "1.5.0",
     "model_name": "HTMLModel",
     "state": {
      "_dom_classes": [],
      "_model_module": "@jupyter-widgets/controls",
      "_model_module_version": "1.5.0",
      "_model_name": "HTMLModel",
      "_view_count": null,
      "_view_module": "@jupyter-widgets/controls",
      "_view_module_version": "1.5.0",
      "_view_name": "HTMLView",
      "description": "",
      "description_tooltip": null,
      "layout": "IPY_MODEL_5ebae2006b8e4a0692936d0195d1432e",
      "placeholder": "​",
      "style": "IPY_MODEL_116b6e522b2b49e28a49c0d3d2f89872",
      "value": " 663/663 [00:00&lt;00:00, 16.6kB/s]"
     }
    },
    "d3febbc11cf74aaba4c1f8d78323322f": {
     "model_module": "@jupyter-widgets/base",
     "model_module_version": "1.2.0",
     "model_name": "LayoutModel",
     "state": {
      "_model_module": "@jupyter-widgets/base",
      "_model_module_version": "1.2.0",
      "_model_name": "LayoutModel",
      "_view_count": null,
      "_view_module": "@jupyter-widgets/base",
      "_view_module_version": "1.2.0",
      "_view_name": "LayoutView",
      "align_content": null,
      "align_items": null,
      "align_self": null,
      "border": null,
      "bottom": null,
      "display": null,
      "flex": null,
      "flex_flow": null,
      "grid_area": null,
      "grid_auto_columns": null,
      "grid_auto_flow": null,
      "grid_auto_rows": null,
      "grid_column": null,
      "grid_gap": null,
      "grid_row": null,
      "grid_template_areas": null,
      "grid_template_columns": null,
      "grid_template_rows": null,
      "height": null,
      "justify_content": null,
      "justify_items": null,
      "left": null,
      "margin": null,
      "max_height": null,
      "max_width": null,
      "min_height": null,
      "min_width": null,
      "object_fit": null,
      "object_position": null,
      "order": null,
      "overflow": null,
      "overflow_x": null,
      "overflow_y": null,
      "padding": null,
      "right": null,
      "top": null,
      "visibility": null,
      "width": null
     }
    },
    "d54ce80bb5244ed1a23a4aec5e09054e": {
     "model_module": "@jupyter-widgets/base",
     "model_module_version": "1.2.0",
     "model_name": "LayoutModel",
     "state": {
      "_model_module": "@jupyter-widgets/base",
      "_model_module_version": "1.2.0",
      "_model_name": "LayoutModel",
      "_view_count": null,
      "_view_module": "@jupyter-widgets/base",
      "_view_module_version": "1.2.0",
      "_view_name": "LayoutView",
      "align_content": null,
      "align_items": null,
      "align_self": null,
      "border": null,
      "bottom": null,
      "display": null,
      "flex": null,
      "flex_flow": null,
      "grid_area": null,
      "grid_auto_columns": null,
      "grid_auto_flow": null,
      "grid_auto_rows": null,
      "grid_column": null,
      "grid_gap": null,
      "grid_row": null,
      "grid_template_areas": null,
      "grid_template_columns": null,
      "grid_template_rows": null,
      "height": null,
      "justify_content": null,
      "justify_items": null,
      "left": null,
      "margin": null,
      "max_height": null,
      "max_width": null,
      "min_height": null,
      "min_width": null,
      "object_fit": null,
      "object_position": null,
      "order": null,
      "overflow": null,
      "overflow_x": null,
      "overflow_y": null,
      "padding": null,
      "right": null,
      "top": null,
      "visibility": null,
      "width": null
     }
    },
    "d5a0ce676248410a8be4935cfe045fcd": {
     "model_module": "@jupyter-widgets/controls",
     "model_module_version": "1.5.0",
     "model_name": "DescriptionStyleModel",
     "state": {
      "_model_module": "@jupyter-widgets/controls",
      "_model_module_version": "1.5.0",
      "_model_name": "DescriptionStyleModel",
      "_view_count": null,
      "_view_module": "@jupyter-widgets/base",
      "_view_module_version": "1.2.0",
      "_view_name": "StyleView",
      "description_width": ""
     }
    },
    "d61e8e4dd9f141e39595e68c447b0359": {
     "model_module": "@jupyter-widgets/base",
     "model_module_version": "1.2.0",
     "model_name": "LayoutModel",
     "state": {
      "_model_module": "@jupyter-widgets/base",
      "_model_module_version": "1.2.0",
      "_model_name": "LayoutModel",
      "_view_count": null,
      "_view_module": "@jupyter-widgets/base",
      "_view_module_version": "1.2.0",
      "_view_name": "LayoutView",
      "align_content": null,
      "align_items": null,
      "align_self": null,
      "border": null,
      "bottom": null,
      "display": null,
      "flex": null,
      "flex_flow": null,
      "grid_area": null,
      "grid_auto_columns": null,
      "grid_auto_flow": null,
      "grid_auto_rows": null,
      "grid_column": null,
      "grid_gap": null,
      "grid_row": null,
      "grid_template_areas": null,
      "grid_template_columns": null,
      "grid_template_rows": null,
      "height": null,
      "justify_content": null,
      "justify_items": null,
      "left": null,
      "margin": null,
      "max_height": null,
      "max_width": null,
      "min_height": null,
      "min_width": null,
      "object_fit": null,
      "object_position": null,
      "order": null,
      "overflow": null,
      "overflow_x": null,
      "overflow_y": null,
      "padding": null,
      "right": null,
      "top": null,
      "visibility": null,
      "width": null
     }
    },
    "da34f9a77c684eb0b06c1a8acf719c7d": {
     "model_module": "@jupyter-widgets/base",
     "model_module_version": "1.2.0",
     "model_name": "LayoutModel",
     "state": {
      "_model_module": "@jupyter-widgets/base",
      "_model_module_version": "1.2.0",
      "_model_name": "LayoutModel",
      "_view_count": null,
      "_view_module": "@jupyter-widgets/base",
      "_view_module_version": "1.2.0",
      "_view_name": "LayoutView",
      "align_content": null,
      "align_items": null,
      "align_self": null,
      "border": null,
      "bottom": null,
      "display": null,
      "flex": null,
      "flex_flow": null,
      "grid_area": null,
      "grid_auto_columns": null,
      "grid_auto_flow": null,
      "grid_auto_rows": null,
      "grid_column": null,
      "grid_gap": null,
      "grid_row": null,
      "grid_template_areas": null,
      "grid_template_columns": null,
      "grid_template_rows": null,
      "height": null,
      "justify_content": null,
      "justify_items": null,
      "left": null,
      "margin": null,
      "max_height": null,
      "max_width": null,
      "min_height": null,
      "min_width": null,
      "object_fit": null,
      "object_position": null,
      "order": null,
      "overflow": null,
      "overflow_x": null,
      "overflow_y": null,
      "padding": null,
      "right": null,
      "top": null,
      "visibility": null,
      "width": null
     }
    },
    "dc347819f9434b8a99dbd017715a924b": {
     "model_module": "@jupyter-widgets/controls",
     "model_module_version": "1.5.0",
     "model_name": "HBoxModel",
     "state": {
      "_dom_classes": [],
      "_model_module": "@jupyter-widgets/controls",
      "_model_module_version": "1.5.0",
      "_model_name": "HBoxModel",
      "_view_count": null,
      "_view_module": "@jupyter-widgets/controls",
      "_view_module_version": "1.5.0",
      "_view_name": "HBoxView",
      "box_style": "",
      "children": [
       "IPY_MODEL_7e2749b350da428791a48bed26281dac",
       "IPY_MODEL_8ff1a7803580436d858ca1e406906175",
       "IPY_MODEL_1f7444dc6bba42a88330ef086ab01c73"
      ],
      "layout": "IPY_MODEL_f234b5427b804aec8a14285a4df17345"
     }
    },
    "ddf5a845585b46fdacc0f036b9d81632": {
     "model_module": "@jupyter-widgets/controls",
     "model_module_version": "1.5.0",
     "model_name": "DescriptionStyleModel",
     "state": {
      "_model_module": "@jupyter-widgets/controls",
      "_model_module_version": "1.5.0",
      "_model_name": "DescriptionStyleModel",
      "_view_count": null,
      "_view_module": "@jupyter-widgets/base",
      "_view_module_version": "1.2.0",
      "_view_name": "StyleView",
      "description_width": ""
     }
    },
    "e00110afb8264979a39be71b8698a01c": {
     "model_module": "@jupyter-widgets/controls",
     "model_module_version": "1.5.0",
     "model_name": "HBoxModel",
     "state": {
      "_dom_classes": [],
      "_model_module": "@jupyter-widgets/controls",
      "_model_module_version": "1.5.0",
      "_model_name": "HBoxModel",
      "_view_count": null,
      "_view_module": "@jupyter-widgets/controls",
      "_view_module_version": "1.5.0",
      "_view_name": "HBoxView",
      "box_style": "",
      "children": [
       "IPY_MODEL_8ee242c5733b47fca288a99dc7ac2fbd",
       "IPY_MODEL_82162c6cb2cb4a0cb5cc4dfd6fc6bdfa",
       "IPY_MODEL_a7097f3fb01e4635be3eb4a53462849e"
      ],
      "layout": "IPY_MODEL_fa9d18d61508470fae113dbb42a03ba3"
     }
    },
    "e0bf314d39e248cfaaacff3c08dd7eb2": {
     "model_module": "@jupyter-widgets/base",
     "model_module_version": "1.2.0",
     "model_name": "LayoutModel",
     "state": {
      "_model_module": "@jupyter-widgets/base",
      "_model_module_version": "1.2.0",
      "_model_name": "LayoutModel",
      "_view_count": null,
      "_view_module": "@jupyter-widgets/base",
      "_view_module_version": "1.2.0",
      "_view_name": "LayoutView",
      "align_content": null,
      "align_items": null,
      "align_self": null,
      "border": null,
      "bottom": null,
      "display": null,
      "flex": null,
      "flex_flow": null,
      "grid_area": null,
      "grid_auto_columns": null,
      "grid_auto_flow": null,
      "grid_auto_rows": null,
      "grid_column": null,
      "grid_gap": null,
      "grid_row": null,
      "grid_template_areas": null,
      "grid_template_columns": null,
      "grid_template_rows": null,
      "height": null,
      "justify_content": null,
      "justify_items": null,
      "left": null,
      "margin": null,
      "max_height": null,
      "max_width": null,
      "min_height": null,
      "min_width": null,
      "object_fit": null,
      "object_position": null,
      "order": null,
      "overflow": null,
      "overflow_x": null,
      "overflow_y": null,
      "padding": null,
      "right": null,
      "top": null,
      "visibility": null,
      "width": null
     }
    },
    "e16eb8bd65d64ef7b4bdb81c58596f3b": {
     "model_module": "@jupyter-widgets/controls",
     "model_module_version": "1.5.0",
     "model_name": "DescriptionStyleModel",
     "state": {
      "_model_module": "@jupyter-widgets/controls",
      "_model_module_version": "1.5.0",
      "_model_name": "DescriptionStyleModel",
      "_view_count": null,
      "_view_module": "@jupyter-widgets/base",
      "_view_module_version": "1.2.0",
      "_view_name": "StyleView",
      "description_width": ""
     }
    },
    "e42357491bcc4a6abbad089265f0403f": {
     "model_module": "@jupyter-widgets/base",
     "model_module_version": "1.2.0",
     "model_name": "LayoutModel",
     "state": {
      "_model_module": "@jupyter-widgets/base",
      "_model_module_version": "1.2.0",
      "_model_name": "LayoutModel",
      "_view_count": null,
      "_view_module": "@jupyter-widgets/base",
      "_view_module_version": "1.2.0",
      "_view_name": "LayoutView",
      "align_content": null,
      "align_items": null,
      "align_self": null,
      "border": null,
      "bottom": null,
      "display": null,
      "flex": null,
      "flex_flow": null,
      "grid_area": null,
      "grid_auto_columns": null,
      "grid_auto_flow": null,
      "grid_auto_rows": null,
      "grid_column": null,
      "grid_gap": null,
      "grid_row": null,
      "grid_template_areas": null,
      "grid_template_columns": null,
      "grid_template_rows": null,
      "height": null,
      "justify_content": null,
      "justify_items": null,
      "left": null,
      "margin": null,
      "max_height": null,
      "max_width": null,
      "min_height": null,
      "min_width": null,
      "object_fit": null,
      "object_position": null,
      "order": null,
      "overflow": null,
      "overflow_x": null,
      "overflow_y": null,
      "padding": null,
      "right": null,
      "top": null,
      "visibility": null,
      "width": null
     }
    },
    "e62b541bd0aa4759902b695ca20f4c34": {
     "model_module": "@jupyter-widgets/controls",
     "model_module_version": "1.5.0",
     "model_name": "HTMLModel",
     "state": {
      "_dom_classes": [],
      "_model_module": "@jupyter-widgets/controls",
      "_model_module_version": "1.5.0",
      "_model_name": "HTMLModel",
      "_view_count": null,
      "_view_module": "@jupyter-widgets/controls",
      "_view_module_version": "1.5.0",
      "_view_name": "HTMLView",
      "description": "",
      "description_tooltip": null,
      "layout": "IPY_MODEL_3d1ae69415f14011b4fda423b059a136",
      "placeholder": "​",
      "style": "IPY_MODEL_96561e60c2de4919b24292cd9b8ae719",
      "value": " 855k/855k [00:00&lt;00:00, 1.11MB/s]"
     }
    },
    "e7e8dc57d44340d28c297fe56f03ec07": {
     "model_module": "@jupyter-widgets/base",
     "model_module_version": "1.2.0",
     "model_name": "LayoutModel",
     "state": {
      "_model_module": "@jupyter-widgets/base",
      "_model_module_version": "1.2.0",
      "_model_name": "LayoutModel",
      "_view_count": null,
      "_view_module": "@jupyter-widgets/base",
      "_view_module_version": "1.2.0",
      "_view_name": "LayoutView",
      "align_content": null,
      "align_items": null,
      "align_self": null,
      "border": null,
      "bottom": null,
      "display": null,
      "flex": null,
      "flex_flow": null,
      "grid_area": null,
      "grid_auto_columns": null,
      "grid_auto_flow": null,
      "grid_auto_rows": null,
      "grid_column": null,
      "grid_gap": null,
      "grid_row": null,
      "grid_template_areas": null,
      "grid_template_columns": null,
      "grid_template_rows": null,
      "height": null,
      "justify_content": null,
      "justify_items": null,
      "left": null,
      "margin": null,
      "max_height": null,
      "max_width": null,
      "min_height": null,
      "min_width": null,
      "object_fit": null,
      "object_position": null,
      "order": null,
      "overflow": null,
      "overflow_x": null,
      "overflow_y": null,
      "padding": null,
      "right": null,
      "top": null,
      "visibility": null,
      "width": null
     }
    },
    "e8bb558c17e34bb5bd07a3536a19a30a": {
     "model_module": "@jupyter-widgets/base",
     "model_module_version": "1.2.0",
     "model_name": "LayoutModel",
     "state": {
      "_model_module": "@jupyter-widgets/base",
      "_model_module_version": "1.2.0",
      "_model_name": "LayoutModel",
      "_view_count": null,
      "_view_module": "@jupyter-widgets/base",
      "_view_module_version": "1.2.0",
      "_view_name": "LayoutView",
      "align_content": null,
      "align_items": null,
      "align_self": null,
      "border": null,
      "bottom": null,
      "display": null,
      "flex": null,
      "flex_flow": null,
      "grid_area": null,
      "grid_auto_columns": null,
      "grid_auto_flow": null,
      "grid_auto_rows": null,
      "grid_column": null,
      "grid_gap": null,
      "grid_row": null,
      "grid_template_areas": null,
      "grid_template_columns": null,
      "grid_template_rows": null,
      "height": null,
      "justify_content": null,
      "justify_items": null,
      "left": null,
      "margin": null,
      "max_height": null,
      "max_width": null,
      "min_height": null,
      "min_width": null,
      "object_fit": null,
      "object_position": null,
      "order": null,
      "overflow": null,
      "overflow_x": null,
      "overflow_y": null,
      "padding": null,
      "right": null,
      "top": null,
      "visibility": null,
      "width": null
     }
    },
    "ea986fd2545b49b58c3793c1cde9d853": {
     "model_module": "@jupyter-widgets/controls",
     "model_module_version": "1.5.0",
     "model_name": "DescriptionStyleModel",
     "state": {
      "_model_module": "@jupyter-widgets/controls",
      "_model_module_version": "1.5.0",
      "_model_name": "DescriptionStyleModel",
      "_view_count": null,
      "_view_module": "@jupyter-widgets/base",
      "_view_module_version": "1.2.0",
      "_view_name": "StyleView",
      "description_width": ""
     }
    },
    "edd3e93573504c669088545ce71588c7": {
     "model_module": "@jupyter-widgets/controls",
     "model_module_version": "1.5.0",
     "model_name": "HTMLModel",
     "state": {
      "_dom_classes": [],
      "_model_module": "@jupyter-widgets/controls",
      "_model_module_version": "1.5.0",
      "_model_name": "HTMLModel",
      "_view_count": null,
      "_view_module": "@jupyter-widgets/controls",
      "_view_module_version": "1.5.0",
      "_view_name": "HTMLView",
      "description": "",
      "description_tooltip": null,
      "layout": "IPY_MODEL_3edd67bdadf14126befb2d92651e344a",
      "placeholder": "​",
      "style": "IPY_MODEL_a96595f1566b43e48d6064f4e9505246",
      "value": "Downloading: 100%"
     }
    },
    "ef228e56392e4e879351efb838dfb22d": {
     "model_module": "@jupyter-widgets/controls",
     "model_module_version": "1.5.0",
     "model_name": "HBoxModel",
     "state": {
      "_dom_classes": [],
      "_model_module": "@jupyter-widgets/controls",
      "_model_module_version": "1.5.0",
      "_model_name": "HBoxModel",
      "_view_count": null,
      "_view_module": "@jupyter-widgets/controls",
      "_view_module_version": "1.5.0",
      "_view_name": "HBoxView",
      "box_style": "",
      "children": [
       "IPY_MODEL_f9fe2ffd5f5544659395c36359e04120",
       "IPY_MODEL_5c89d52a3a7a4955b77dd016e3a819b5",
       "IPY_MODEL_d2bab9d28ea8400597bfb757884e767b"
      ],
      "layout": "IPY_MODEL_4d934f392e7745a89e8d0e9161a7e16c"
     }
    },
    "f234b5427b804aec8a14285a4df17345": {
     "model_module": "@jupyter-widgets/base",
     "model_module_version": "1.2.0",
     "model_name": "LayoutModel",
     "state": {
      "_model_module": "@jupyter-widgets/base",
      "_model_module_version": "1.2.0",
      "_model_name": "LayoutModel",
      "_view_count": null,
      "_view_module": "@jupyter-widgets/base",
      "_view_module_version": "1.2.0",
      "_view_name": "LayoutView",
      "align_content": null,
      "align_items": null,
      "align_self": null,
      "border": null,
      "bottom": null,
      "display": null,
      "flex": null,
      "flex_flow": null,
      "grid_area": null,
      "grid_auto_columns": null,
      "grid_auto_flow": null,
      "grid_auto_rows": null,
      "grid_column": null,
      "grid_gap": null,
      "grid_row": null,
      "grid_template_areas": null,
      "grid_template_columns": null,
      "grid_template_rows": null,
      "height": null,
      "justify_content": null,
      "justify_items": null,
      "left": null,
      "margin": null,
      "max_height": null,
      "max_width": null,
      "min_height": null,
      "min_width": null,
      "object_fit": null,
      "object_position": null,
      "order": null,
      "overflow": null,
      "overflow_x": null,
      "overflow_y": null,
      "padding": null,
      "right": null,
      "top": null,
      "visibility": null,
      "width": null
     }
    },
    "f6be94857a8b4b95b9837bb6b2cee854": {
     "model_module": "@jupyter-widgets/base",
     "model_module_version": "1.2.0",
     "model_name": "LayoutModel",
     "state": {
      "_model_module": "@jupyter-widgets/base",
      "_model_module_version": "1.2.0",
      "_model_name": "LayoutModel",
      "_view_count": null,
      "_view_module": "@jupyter-widgets/base",
      "_view_module_version": "1.2.0",
      "_view_name": "LayoutView",
      "align_content": null,
      "align_items": null,
      "align_self": null,
      "border": null,
      "bottom": null,
      "display": null,
      "flex": null,
      "flex_flow": null,
      "grid_area": null,
      "grid_auto_columns": null,
      "grid_auto_flow": null,
      "grid_auto_rows": null,
      "grid_column": null,
      "grid_gap": null,
      "grid_row": null,
      "grid_template_areas": null,
      "grid_template_columns": null,
      "grid_template_rows": null,
      "height": null,
      "justify_content": null,
      "justify_items": null,
      "left": null,
      "margin": null,
      "max_height": null,
      "max_width": null,
      "min_height": null,
      "min_width": null,
      "object_fit": null,
      "object_position": null,
      "order": null,
      "overflow": null,
      "overflow_x": null,
      "overflow_y": null,
      "padding": null,
      "right": null,
      "top": null,
      "visibility": null,
      "width": null
     }
    },
    "f6f613220b6e43fd94d4efd564fc4d7c": {
     "model_module": "@jupyter-widgets/base",
     "model_module_version": "1.2.0",
     "model_name": "LayoutModel",
     "state": {
      "_model_module": "@jupyter-widgets/base",
      "_model_module_version": "1.2.0",
      "_model_name": "LayoutModel",
      "_view_count": null,
      "_view_module": "@jupyter-widgets/base",
      "_view_module_version": "1.2.0",
      "_view_name": "LayoutView",
      "align_content": null,
      "align_items": null,
      "align_self": null,
      "border": null,
      "bottom": null,
      "display": null,
      "flex": null,
      "flex_flow": null,
      "grid_area": null,
      "grid_auto_columns": null,
      "grid_auto_flow": null,
      "grid_auto_rows": null,
      "grid_column": null,
      "grid_gap": null,
      "grid_row": null,
      "grid_template_areas": null,
      "grid_template_columns": null,
      "grid_template_rows": null,
      "height": null,
      "justify_content": null,
      "justify_items": null,
      "left": null,
      "margin": null,
      "max_height": null,
      "max_width": null,
      "min_height": null,
      "min_width": null,
      "object_fit": null,
      "object_position": null,
      "order": null,
      "overflow": null,
      "overflow_x": null,
      "overflow_y": null,
      "padding": null,
      "right": null,
      "top": null,
      "visibility": null,
      "width": null
     }
    },
    "f78f443826fc40f9b15485f94dbfbb48": {
     "model_module": "@jupyter-widgets/base",
     "model_module_version": "1.2.0",
     "model_name": "LayoutModel",
     "state": {
      "_model_module": "@jupyter-widgets/base",
      "_model_module_version": "1.2.0",
      "_model_name": "LayoutModel",
      "_view_count": null,
      "_view_module": "@jupyter-widgets/base",
      "_view_module_version": "1.2.0",
      "_view_name": "LayoutView",
      "align_content": null,
      "align_items": null,
      "align_self": null,
      "border": null,
      "bottom": null,
      "display": null,
      "flex": null,
      "flex_flow": null,
      "grid_area": null,
      "grid_auto_columns": null,
      "grid_auto_flow": null,
      "grid_auto_rows": null,
      "grid_column": null,
      "grid_gap": null,
      "grid_row": null,
      "grid_template_areas": null,
      "grid_template_columns": null,
      "grid_template_rows": null,
      "height": null,
      "justify_content": null,
      "justify_items": null,
      "left": null,
      "margin": null,
      "max_height": null,
      "max_width": null,
      "min_height": null,
      "min_width": null,
      "object_fit": null,
      "object_position": null,
      "order": null,
      "overflow": null,
      "overflow_x": null,
      "overflow_y": null,
      "padding": null,
      "right": null,
      "top": null,
      "visibility": null,
      "width": null
     }
    },
    "f9fe2ffd5f5544659395c36359e04120": {
     "model_module": "@jupyter-widgets/controls",
     "model_module_version": "1.5.0",
     "model_name": "HTMLModel",
     "state": {
      "_dom_classes": [],
      "_model_module": "@jupyter-widgets/controls",
      "_model_module_version": "1.5.0",
      "_model_name": "HTMLModel",
      "_view_count": null,
      "_view_module": "@jupyter-widgets/controls",
      "_view_module_version": "1.5.0",
      "_view_name": "HTMLView",
      "description": "",
      "description_tooltip": null,
      "layout": "IPY_MODEL_64fca86034384fab8e27c70b3fbbf5f1",
      "placeholder": "​",
      "style": "IPY_MODEL_1ea85ebcd0d04f9bb227e34463676219",
      "value": "Downloading: 100%"
     }
    },
    "fa9d18d61508470fae113dbb42a03ba3": {
     "model_module": "@jupyter-widgets/base",
     "model_module_version": "1.2.0",
     "model_name": "LayoutModel",
     "state": {
      "_model_module": "@jupyter-widgets/base",
      "_model_module_version": "1.2.0",
      "_model_name": "LayoutModel",
      "_view_count": null,
      "_view_module": "@jupyter-widgets/base",
      "_view_module_version": "1.2.0",
      "_view_name": "LayoutView",
      "align_content": null,
      "align_items": null,
      "align_self": null,
      "border": null,
      "bottom": null,
      "display": null,
      "flex": null,
      "flex_flow": null,
      "grid_area": null,
      "grid_auto_columns": null,
      "grid_auto_flow": null,
      "grid_auto_rows": null,
      "grid_column": null,
      "grid_gap": null,
      "grid_row": null,
      "grid_template_areas": null,
      "grid_template_columns": null,
      "grid_template_rows": null,
      "height": null,
      "justify_content": null,
      "justify_items": null,
      "left": null,
      "margin": null,
      "max_height": null,
      "max_width": null,
      "min_height": null,
      "min_width": null,
      "object_fit": null,
      "object_position": null,
      "order": null,
      "overflow": null,
      "overflow_x": null,
      "overflow_y": null,
      "padding": null,
      "right": null,
      "top": null,
      "visibility": null,
      "width": null
     }
    },
    "fe4028dc8b734aec947caf5fdb5cf141": {
     "model_module": "@jupyter-widgets/base",
     "model_module_version": "1.2.0",
     "model_name": "LayoutModel",
     "state": {
      "_model_module": "@jupyter-widgets/base",
      "_model_module_version": "1.2.0",
      "_model_name": "LayoutModel",
      "_view_count": null,
      "_view_module": "@jupyter-widgets/base",
      "_view_module_version": "1.2.0",
      "_view_name": "LayoutView",
      "align_content": null,
      "align_items": null,
      "align_self": null,
      "border": null,
      "bottom": null,
      "display": null,
      "flex": null,
      "flex_flow": null,
      "grid_area": null,
      "grid_auto_columns": null,
      "grid_auto_flow": null,
      "grid_auto_rows": null,
      "grid_column": null,
      "grid_gap": null,
      "grid_row": null,
      "grid_template_areas": null,
      "grid_template_columns": null,
      "grid_template_rows": null,
      "height": null,
      "justify_content": null,
      "justify_items": null,
      "left": null,
      "margin": null,
      "max_height": null,
      "max_width": null,
      "min_height": null,
      "min_width": null,
      "object_fit": null,
      "object_position": null,
      "order": null,
      "overflow": null,
      "overflow_x": null,
      "overflow_y": null,
      "padding": null,
      "right": null,
      "top": null,
      "visibility": null,
      "width": null
     }
    },
    "fe6ea62c51904d7aaaf7ea26da1b761d": {
     "model_module": "@jupyter-widgets/controls",
     "model_module_version": "1.5.0",
     "model_name": "ProgressStyleModel",
     "state": {
      "_model_module": "@jupyter-widgets/controls",
      "_model_module_version": "1.5.0",
      "_model_name": "ProgressStyleModel",
      "_view_count": null,
      "_view_module": "@jupyter-widgets/base",
      "_view_module_version": "1.2.0",
      "_view_name": "StyleView",
      "bar_color": null,
      "description_width": ""
     }
    }
   }
  }
 },
 "nbformat": 4,
 "nbformat_minor": 4
}
