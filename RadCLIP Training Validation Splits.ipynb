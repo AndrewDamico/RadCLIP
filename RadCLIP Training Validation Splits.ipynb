{
 "cells": [
  {
   "cell_type": "code",
   "execution_count": null,
   "outputs": [],
   "source": [
    "#!/usr/bin/env python\n",
    "\n",
    "__author__ = \"Vivek Chamala\"\n",
    "__copyright__ = \"Copyright 2023\"\n",
    "__credits__ = [\"Andrew D'Amico\", \"Christoper Alexander\", \"Katya Nosulko\", \"Vivek Chamala\", \"Matthew Conger\"]\n",
    "__license__ = \"\"\n",
    "__version__ = \"0.0.1\"\n",
    "__maintainer__ = \"Andrew Damico\"\n",
    "__email__ = \"andrew.damico@u.northwestern.edu\""
   ],
   "metadata": {
    "collapsed": false
   }
  },
  {
   "cell_type": "code",
   "execution_count": 1,
   "id": "6f43804e",
   "metadata": {},
   "outputs": [],
   "source": [
    "import pandas as pd"
   ]
  },
  {
   "cell_type": "code",
   "execution_count": 2,
   "id": "92e7992c",
   "metadata": {},
   "outputs": [],
   "source": [
    "# BASE_DIR = '/Users/vivek/Documents/MSDS/498/data/mimic-cxr-jpg'\n",
    "BASE_DIR = '/Volumes/PRO-G40/msds498'\n",
    "metadata_df = pd.read_csv(f'{BASE_DIR}/mimic-cxr-2.0.0-metadata.csv')\n",
    "label_df = pd.read_csv(f'{BASE_DIR}/mimic-cxr-2.0.0-negbio.csv')"
   ]
  },
  {
   "cell_type": "code",
   "execution_count": 19,
   "id": "242ed3e7",
   "metadata": {},
   "outputs": [],
   "source": [
    "def get_image_metadata(mdf):\n",
    "    # Select studies with only with one image\n",
    "    df = mdf.groupby(['subject_id','study_id']).filter(lambda x: len(x)==1)\n",
    "    \n",
    "    #Select only antero-posterior & Erect code images\n",
    "    df = df.loc[(df['ViewCodeSequence_CodeMeaning']=='antero-posterior')\n",
    "            & (df['PatientOrientationCodeSequence_CodeMeaning']=='Erect')]\n",
    "    \n",
    "    data_list = []\n",
    "    \n",
    "    for index, row in df.iterrows():\n",
    "        sub_id = str(row['subject_id'])\n",
    "        st_id = row['study_id']\n",
    "        dicom_id = row['dicom_id']\n",
    "        rows = row['Rows']\n",
    "        columns = row['Columns']\n",
    "        data_list.append(\n",
    "            {\n",
    "                \"dicom_id\": str(dicom_id),\n",
    "                \"subject_id\": str(int(sub_id)),\n",
    "                \"study_id\": str(int(st_id)),\n",
    "                \"image\": f\"files/p{sub_id[:2]}/p{sub_id}/s{st_id}/{dicom_id}.jpg\",\n",
    "                \"rows\": rows,\n",
    "                \"columns\": columns,\n",
    "            }\n",
    "        )\n",
    "    \n",
    "    data_df = pd.DataFrame(data_list)\n",
    "    data_df = data_df.sample(frac=1, random_state=42).reset_index(drop=True)\n",
    "    \n",
    "    return data_df\n",
    "\n",
    "def get_population_labels(data_df, label_df):\n",
    "    label_df = label_df.astype({'subject_id': 'str', 'study_id': 'str'})\n",
    "    data_labels_df = pd.merge(data_df, label_df, how='inner', on=['subject_id','study_id'])\n",
    "    return data_labels_df\n",
    "\n",
    "def get_train_val_test(data_df):\n",
    "    cnt = data_label_df.dicom_id.count()\n",
    "    train_cnt = int(round(cnt*.7,0))\n",
    "    val_cnt = int(round((cnt - train_cnt)/2,0)) + train_cnt\n",
    "    \n",
    "    train_df = data_df[:train_cnt]\n",
    "    val_df = data_df[train_cnt:val_cnt]\n",
    "    test_df = data_df[val_cnt:]\n",
    "    \n",
    "    print(f'Train Count = {train_df.dicom_id.count()}')\n",
    "    print(f'Validation Count = {val_df.dicom_id.count()}')\n",
    "    print(f'Test Count = {test_df.dicom_id.count()}')\n",
    "    \n",
    "    return train_df, val_df, test_df\n",
    "\n",
    "def save_train_test_val(train_df, val_df, test_df):\n",
    "    output_dir = f'{BASE_DIR}/output'\n",
    "    train_df.to_csv(f\"{output_dir}/train.csv\", index=False, sep=\",\")\n",
    "    val_df.to_csv(f\"{output_dir}/validation.csv\", index=False, sep=\",\")\n",
    "    test_df.to_csv(f\"{output_dir}/test.csv\", index=False, sep=\",\")\n",
    "    return\n",
    "    "
   ]
  },
  {
   "cell_type": "code",
   "execution_count": 20,
   "id": "09e04009",
   "metadata": {},
   "outputs": [],
   "source": [
    "data_df = get_image_metadata(metadata_df)"
   ]
  },
  {
   "cell_type": "code",
   "execution_count": 21,
   "id": "8aa1ac04",
   "metadata": {},
   "outputs": [],
   "source": [
    "data_label_df = get_population_labels(data_df, label_df)"
   ]
  },
  {
   "cell_type": "code",
   "execution_count": 6,
   "id": "0e962998",
   "metadata": {},
   "outputs": [],
   "source": [
    "# train_df, val_df, test_df = get_train_val_test(data_df)"
   ]
  },
  {
   "cell_type": "code",
   "execution_count": 7,
   "id": "dff5f682",
   "metadata": {},
   "outputs": [],
   "source": [
    "# save_train_test_val(train_df, val_df, test_df)"
   ]
  },
  {
   "cell_type": "code",
   "execution_count": 22,
   "id": "e297fe7b",
   "metadata": {},
   "outputs": [],
   "source": [
    "output_dir = f'{BASE_DIR}/output/all'"
   ]
  },
  {
   "cell_type": "code",
   "execution_count": 23,
   "id": "7d4c6d30",
   "metadata": {},
   "outputs": [],
   "source": [
    "data_label_df.to_csv(f\"{output_dir}/population_images_labels.csv\", index=False)"
   ]
  }
 ],
 "metadata": {
  "kernelspec": {
   "display_name": "Python 3 (ipykernel)",
   "language": "python",
   "name": "python3"
  },
  "language_info": {
   "codemirror_mode": {
    "name": "ipython",
    "version": 3
   },
   "file_extension": ".py",
   "mimetype": "text/x-python",
   "name": "python",
   "nbconvert_exporter": "python",
   "pygments_lexer": "ipython3",
   "version": "3.8.16"
  }
 },
 "nbformat": 4,
 "nbformat_minor": 5
}
